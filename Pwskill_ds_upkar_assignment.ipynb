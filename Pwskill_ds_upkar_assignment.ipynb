{
  "nbformat": 4,
  "nbformat_minor": 0,
  "metadata": {
    "colab": {
      "provenance": [],
      "toc_visible": true,
      "authorship_tag": "ABX9TyMQQepPjnsSmiF407TqCP9B",
      "include_colab_link": true
    },
    "kernelspec": {
      "name": "python3",
      "display_name": "Python 3"
    },
    "language_info": {
      "name": "python"
    }
  },
  "cells": [
    {
      "cell_type": "markdown",
      "metadata": {
        "id": "view-in-github",
        "colab_type": "text"
      },
      "source": [
        "<a href=\"https://colab.research.google.com/github/upkarsssharma/Data_science_assignment1/blob/main/Pwskill_ds_upkar_assignment.ipynb\" target=\"_parent\"><img src=\"https://colab.research.google.com/assets/colab-badge.svg\" alt=\"Open In Colab\"/></a>"
      ]
    },
    {
      "cell_type": "markdown",
      "source": [
        "# Example 1 : If else use"
      ],
      "metadata": {
        "id": "pFEIN2ntQilg"
      }
    },
    {
      "cell_type": "code",
      "source": [
        "x=2\n",
        "if x > 0:\n",
        "    print(\"x is positive\")\n",
        "elif x < 0:\n",
        "    print(\"x is negative\")\n",
        "else:\n",
        "    print(\"x is zero\")\n",
        ""
      ],
      "metadata": {
        "colab": {
          "base_uri": "https://localhost:8080/"
        },
        "id": "YK49KGoXzd-d",
        "outputId": "bdc275d3-d7e7-424e-90c3-23144f839487"
      },
      "execution_count": 2,
      "outputs": [
        {
          "output_type": "stream",
          "name": "stdout",
          "text": [
            "x is positive\n"
          ]
        }
      ]
    },
    {
      "cell_type": "markdown",
      "source": [
        "# Example 2 : for use"
      ],
      "metadata": {
        "id": "hlBI85Vh0VpO"
      }
    },
    {
      "cell_type": "code",
      "source": [
        "my_list = [1, 2, 3, 4, 5]\n",
        "for item in my_list:\n",
        "    print(item)"
      ],
      "metadata": {
        "colab": {
          "base_uri": "https://localhost:8080/"
        },
        "id": "ZXZjVyVm0aGm",
        "outputId": "23c79034-2329-443f-e243-e68ab40ecd02"
      },
      "execution_count": 3,
      "outputs": [
        {
          "output_type": "stream",
          "name": "stdout",
          "text": [
            "1\n",
            "2\n",
            "3\n",
            "4\n",
            "5\n"
          ]
        }
      ]
    },
    {
      "cell_type": "markdown",
      "source": [
        "# Example 3 : while , break , continue , pass"
      ],
      "metadata": {
        "id": "_343Hr2R1Aed"
      }
    },
    {
      "cell_type": "code",
      "source": [
        "\n",
        "count = 9\n",
        "while count < 10:\n",
        "  print(\"Count is\", count)\n",
        "  count -= 1\n",
        "  if count == 0:\n",
        "    break  # Exit the loop when count is 0\n",
        "  if count == 3 :\n",
        "    count -= 1  # Decrement count when count is 3\n",
        "    continue  # Skip the iteration when count is 3\n",
        "  if count == 5:\n",
        "    pass  # Do nothing when count is 5\n"
      ],
      "metadata": {
        "colab": {
          "base_uri": "https://localhost:8080/"
        },
        "id": "W2IoFi4Z1maa",
        "outputId": "89db7259-1d62-4462-cbfe-9b4b810fa8d2"
      },
      "execution_count": 8,
      "outputs": [
        {
          "output_type": "stream",
          "name": "stdout",
          "text": [
            "Count is 9\n",
            "Count is 8\n",
            "Count is 7\n",
            "Count is 6\n",
            "Count is 5\n",
            "Count is 4\n",
            "Count is 2\n",
            "Count is 1\n"
          ]
        }
      ]
    },
    {
      "cell_type": "markdown",
      "source": [
        "# Example 4 : Mutable and immutable datatypes"
      ],
      "metadata": {
        "id": "8v26Asx_6KXg"
      }
    },
    {
      "cell_type": "code",
      "source": [
        "# Immutable data types:\n",
        "# int, float, bool, str, tuple\n",
        "\n",
        "# Example of Immutable data types\n",
        "x = 5\n",
        "print(\"Original value of x:\", x)\n",
        "x = x + 1\n",
        "print(\"Value of x after modification:\", x)\n",
        "# Notice that the value of x is modified but the original value was not changed.\n",
        "\n",
        "# Mutable data types\n",
        "# list, dict, set\n",
        "\n",
        "# Example of Mutable data types\n",
        "my_list = [1, 2, 3]\n",
        "print(\"Original list:\", my_list)\n",
        "\n",
        "my_list.append(4)\n",
        "print(\"Modified list:\", my_list)\n",
        "\n",
        "# Here, the list is changed directly in place, rather than creating a new list entirely.\n"
      ],
      "metadata": {
        "colab": {
          "base_uri": "https://localhost:8080/"
        },
        "id": "5SBVl9kl5gkO",
        "outputId": "0fadfbeb-0400-4216-cb9d-dd830a499192"
      },
      "execution_count": 11,
      "outputs": [
        {
          "output_type": "stream",
          "name": "stdout",
          "text": [
            "Original value of x: 5\n",
            "Value of x after modification: 6\n",
            "Original list: [1, 2, 3]\n",
            "Modified list: [1, 2, 3, 4]\n"
          ]
        }
      ]
    },
    {
      "cell_type": "markdown",
      "source": [
        "# Example 5 : Example of type casting"
      ],
      "metadata": {
        "id": "No0RHF2XAuRP"
      }
    },
    {
      "cell_type": "code",
      "source": [
        "integer_value = 5\n",
        "float_value = 3.14\n",
        "result = integer_value + float_value  # Result will be 8.14 (float)\n",
        "print(result)"
      ],
      "metadata": {
        "colab": {
          "base_uri": "https://localhost:8080/"
        },
        "id": "5qflZGIhA-bG",
        "outputId": "13216152-87d2-4766-e2e1-a944fd3c3252"
      },
      "execution_count": 17,
      "outputs": [
        {
          "output_type": "stream",
          "name": "stdout",
          "text": [
            "8.14\n"
          ]
        }
      ]
    },
    {
      "cell_type": "code",
      "source": [
        "integer_value = 5\n",
        "float_value = 3.14\n",
        "string_value = \"10\"\n",
        "\n",
        "# Convert to integer:\n",
        "integer_result = int(float_value)  # Result will be 3\n",
        "integer_result_from_string = int(string_value)  # Result will be 10\n",
        "print(integer_result)\n",
        "# Convert to float:\n",
        "float_result = float(integer_value)  # Result will be 5.0\n",
        "print(float_result)\n",
        "# Convert to string:\n",
        "string_result = str(integer_value)  # Result will be \"5\"\n",
        "\n",
        "print(string_result)"
      ],
      "metadata": {
        "colab": {
          "base_uri": "https://localhost:8080/"
        },
        "id": "I-kJvqf3BBXZ",
        "outputId": "bcc271eb-b972-45a0-9efb-05d8ab1aed5a"
      },
      "execution_count": 16,
      "outputs": [
        {
          "output_type": "stream",
          "name": "stdout",
          "text": [
            "3\n",
            "5.0\n",
            "5\n"
          ]
        }
      ]
    },
    {
      "cell_type": "markdown",
      "source": [
        "# Example 6 : Conditional Statement"
      ],
      "metadata": {
        "id": "q0NDuH6nEGHw"
      }
    },
    {
      "cell_type": "code",
      "source": [
        "grade = 90\n",
        "if grade >= 90:\n",
        "    print(\"Grade A\")\n",
        "elif grade >= 80:\n",
        "    print(\"Grade B\")\n",
        "elif grade >= 70:\n",
        "    print(\"Grade C\")\n",
        "else:\n",
        "    print(\"Grade F\")"
      ],
      "metadata": {
        "colab": {
          "base_uri": "https://localhost:8080/"
        },
        "id": "jL6i1dxcENZB",
        "outputId": "b23f8940-c484-4e49-e59f-da975f49f5e6"
      },
      "execution_count": 18,
      "outputs": [
        {
          "output_type": "stream",
          "name": "stdout",
          "text": [
            "Grade A\n"
          ]
        }
      ]
    },
    {
      "cell_type": "markdown",
      "source": [
        "# Example 7 : Different types of loops in Python and their use cases with examples"
      ],
      "metadata": {
        "id": "5Up1T6DGEgLl"
      }
    },
    {
      "cell_type": "code",
      "source": [
        "# prompt: Describe the different types of loops in Python and their use cases with examples\n",
        "\n",
        "# # Example 7 : Different types of loops in Python and their use cases with examples\n",
        "\n",
        "# **1. `for` Loop:**\n",
        "\n",
        "# * **Use Case:** Iterating over a sequence (such as a list, tuple, or string) to perform an action for each item in the sequence.\n",
        "# * **Example:**\n",
        "my_list = [1, 2, 3, 4, 5]\n",
        "for item in my_list:\n",
        "    print(item)\n",
        "\n",
        "\n",
        "# **2. `while` Loop:**\n",
        "\n",
        "# * **Use Case:** Repeating a block of code as long as a certain condition is true.\n",
        "# * **Example:**\n",
        "\n",
        "count = 0\n",
        "while count < 5:\n",
        "    print(count)\n",
        "    count += 1\n",
        "\n",
        "\n",
        "# **3. `Nested Loops`**\n",
        "\n",
        "# * **Use Case:** Using a loop inside another loop to iterate through multiple dimensions of data or perform complex iterations.\n",
        "# * **Example:**\n",
        "\n",
        "for i in range(3):\n",
        "    for j in range(2):\n",
        "        print(f\"i: {i}, j: {j}\")\n",
        "\n",
        "\n",
        "# **4. `break` Statement:**\n",
        "\n",
        "# * **Use Case:** To exit a loop prematurely when a specific condition is met.\n",
        "# * **Example:**\n",
        "\n",
        "for i in range(10):\n",
        "    if i == 5:\n",
        "        break\n",
        "    print(i)\n",
        "\n",
        "\n",
        "# **5. `continue` Statement:**\n",
        "\n",
        "# * **Use Case:** To skip the current iteration of a loop and proceed to the next iteration.\n",
        "# * **Example:**\n",
        "\n",
        "for i in range(10):\n",
        "    if i % 2 == 0:\n",
        "        continue\n",
        "    print(i)\n",
        "\n",
        "# **6. `pass` Statement:**\n",
        "\n",
        "# * **Use Case:** To create an empty loop body or a placeholder for code that will be added later.\n",
        "# * **Example:**\n",
        "\n",
        "for i in range(10):\n",
        "    pass  # Placeholder for future code\n",
        "\n"
      ],
      "metadata": {
        "colab": {
          "base_uri": "https://localhost:8080/"
        },
        "id": "f_P1hi3VEfvI",
        "outputId": "1e3918a9-0701-4cf4-a5ed-fae8aae954d5"
      },
      "execution_count": 19,
      "outputs": [
        {
          "output_type": "stream",
          "name": "stdout",
          "text": [
            "1\n",
            "2\n",
            "3\n",
            "4\n",
            "5\n",
            "0\n",
            "1\n",
            "2\n",
            "3\n",
            "4\n",
            "i: 0, j: 0\n",
            "i: 0, j: 1\n",
            "i: 1, j: 0\n",
            "i: 1, j: 1\n",
            "i: 2, j: 0\n",
            "i: 2, j: 1\n",
            "0\n",
            "1\n",
            "2\n",
            "3\n",
            "4\n",
            "1\n",
            "3\n",
            "5\n",
            "7\n",
            "9\n"
          ]
        }
      ]
    }
  ]
}