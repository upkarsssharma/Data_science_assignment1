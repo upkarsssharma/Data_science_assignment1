{
  "nbformat": 4,
  "nbformat_minor": 0,
  "metadata": {
    "colab": {
      "provenance": [],
      "authorship_tag": "ABX9TyMx9J++KyKgrQqUQFhKhRtf",
      "include_colab_link": true
    },
    "kernelspec": {
      "name": "python3",
      "display_name": "Python 3"
    },
    "language_info": {
      "name": "python"
    }
  },
  "cells": [
    {
      "cell_type": "markdown",
      "metadata": {
        "id": "view-in-github",
        "colab_type": "text"
      },
      "source": [
        "<a href=\"https://colab.research.google.com/github/upkarsssharma/Data_science_assignment1/blob/main/Assignment_oops.ipynb\" target=\"_parent\"><img src=\"https://colab.research.google.com/assets/colab-badge.svg\" alt=\"Open In Colab\"/></a>"
      ]
    },
    {
      "cell_type": "markdown",
      "source": [
        "Assignment submitted late due to medical emergency (facial paralysis and TN neuro issue) . please consider."
      ],
      "metadata": {
        "id": "5uSsYCYGFplL"
      }
    },
    {
      "cell_type": "markdown",
      "source": [
        "Q.1 what is oops?\n",
        "\n",
        "OOP (Object-Oriented Programming) is a programming paradigm based on the concept of \"objects\", which can contain data and code. It focuses on representing real-world entities as objects with properties (attributes) and behaviors (methods). Key principles of OOP include:\n",
        "\n",
        "*   **Encapsulation:** Bundling data and methods that operate on the data within a single unit (object). This hides internal implementation details.\n",
        "*   **Abstraction:** Showing only essential features of an object while hiding complex underlying details.\n",
        "*   **Inheritance:** Creating new classes (derived classes) based on existing classes (base classes), inheriting their properties and behaviors. This promotes code reusability.\n",
        "*   **Polymorphism:** Allowing objects of different classes to respond to the same method call in their own specific ways. This allows for more flexible and dynamic code.\n",
        "\n",
        "OOP aims to improve the modularity, maintainability, and reusability of software."
      ],
      "metadata": {
        "id": "_Bv4AZB5-nTf"
      }
    },
    {
      "cell_type": "markdown",
      "source": [],
      "metadata": {
        "id": "gHsx9Nu9-886"
      }
    },
    {
      "cell_type": "markdown",
      "source": [
        "#Q.2 What is a class in OOP\n",
        "- In object-oriented programming (OOP), a class is a blueprint or a template for creating objects.\n",
        "- It defines the properties (attributes) and behaviors (methods) that objects of that class will have.\n",
        "- Think of a class like a cookie cutter; it defines the shape and characteristics of the cookies you will make."
      ],
      "metadata": {
        "id": "uvynCYBQ39mS"
      }
    },
    {
      "cell_type": "markdown",
      "source": [
        "Q.3 What is an object in OOP\n",
        "\n",
        " An object is an instance of a class. It's a concrete realization of the blueprint defined by the class.\n",
        "When you create an object, you allocate memory for its attributes, and it can perform the actions defined by the class's methods.\n",
        "Using the cookie cutter analogy, an object is an individual cookie created using the cookie cutter.\n"
      ],
      "metadata": {
        "id": "n0XNGVSy_tPs"
      }
    },
    {
      "cell_type": "markdown",
      "source": [
        "\n",
        "Q.4 What is the difference between abstraction and encapsulation\n",
        "- Abstraction is the process of hiding complex implementation details and showing only the essential features of an object. It focuses on \"what\" an object does rather than \"how\" it does it.\n",
        "- Encapsulation is the bundling of data (attributes) and methods that operate on the data into a single unit (the class). It also involves controlling access to the data from outside the class, typically through access modifiers.\n",
        "- In short: Abstraction focuses on hiding complexity, while Encapsulation focuses on bundling data and methods and controlling access.\n",
        "\n",
        "Q.5 What are dunder methods in Python\n",
        "- Dunder methods, also known as magic methods, are special methods in Python that have double underscores at the beginning and end of their names (e.g., __init__, __str__, __add__).\n",
        "- They are not meant to be called directly by the programmer but are invoked by Python's built-in functions or operators.\n",
        "- They allow objects to integrate with Python's language features and define how they behave in various contexts (like initialization, string representation, arithmetic operations, etc.).\n",
        "\n",
        "Q.6 Explain the concept of inheritance in OOP\n",
        "- Inheritance is a mechanism in OOP that allows a new class (subclass or derived class) to inherit properties (attributes) and behaviors (methods) from an existing class (superclass or base class).\n",
        "- This promotes code reusability and establishes an \"is-a\" relationship between classes. For example, a \"Dog\" class could inherit from an \"Animal\" class, meaning a Dog *is an* Animal.\n",
        "\n",
        "Q.7 What is polymorphism in OOP\n",
        "- Polymorphism means \"many forms\". In OOP, polymorphism allows objects of different classes to be treated as objects of a common superclass.\n",
        "- It enables a single interface (like a method name) to be used to represent different underlying behaviors in different classes.\n",
        "- This is often achieved through method overriding, where a subclass provides its own implementation of a method inherited from its superclass.\n",
        "\n",
        "Q.8 How is encapsulation achieved in Python?\n",
        "\n",
        "-- While Python doesn't have strict access modifiers like public, private, and protected in the same way as some other languages (like Java or C++), encapsulation is achieved through:\n",
        "- 1. Bundling: Attributes and methods are defined within the class definition.\n",
        "- 2. Naming Conventions: A single underscore prefix (e.g., _attribute) is used as a convention to indicate that an attribute or method is intended for internal use within the class (though it's not strictly enforced). Double underscores (e.g., __attribute) trigger name mangling, which makes it harder (but not impossible) to access the attribute from outside the class directly, providing a stronger hint of privacy.\n",
        "- 3. Getter and Setter Methods: Providing public methods (getters and setters) to access and modify private or protected attributes, allowing for controlled access and validation.\n",
        "\n",
        "Q.9 What is a constructor in Python\n",
        "- In Python, the constructor is a special method named `__init__`.\n",
        "- It's automatically called when an object of a class is created (instantiated).\n",
        "- Its primary purpose is to initialize the attributes of the object with initial values.\n",
        "\n",
        "Q.10 What are class and static methods in Python\n",
        "- Class Methods (`@classmethod`):\n",
        " - They are bound to the class and receive the class itself as the first argument, conventionally named `cls`.\n",
        " - They can access and modify class attributes.\n",
        " - They are often used as factory methods to create instances of the class in different ways.\n",
        " Static Methods (`@staticmethod`):\n",
        " - They are not bound to the class or the instance. They don't receive `self` or `cls` as the first argument.\n",
        " - They are essentially regular functions that are grouped within a class for organizational purposes.\n",
        " - They cannot access or modify instance or class attributes directly (unless they are passed as arguments).\n",
        "\n",
        "Q.11 What is method overloading in Python\n",
        "- Method overloading is a concept where a class can have multiple methods with the same name but different parameters (number or types).\n",
        "- Python does not support traditional method overloading based on the number or types of arguments in the same way as languages like Java or C++.\n",
        "- In Python, if you define multiple methods with the same name in a class, the last defined method will overwrite the previous ones.\n",
        "- However, similar behavior can be achieved using default arguments, variable-length arguments (*args and **kwargs), or conditional logic within a single method.\n",
        "\n",
        "Q.12 What is method overriding in OOP\n",
        "- Method overriding occurs when a subclass provides its own specific implementation for a method that is already defined in its superclass.\n",
        "- The method in the subclass has the same name, return type (in languages where this is strictly enforced), and parameters as the method in the superclass.\n",
        "- This allows objects of the subclass to perform the action in a way specific to the subclass, even when treated as objects of the superclass (polymorphism).\n",
        "\n",
        "Q.13 What is a property decorator in Python\n",
        "- The `@property` decorator is a built-in Python decorator that provides a convenient way to define getter, setter, and deleter methods for an attribute.\n",
        "- It allows you to access methods as if they were attributes, providing controlled access and enabling logic to be executed when the attribute is accessed or modified.\n",
        "\n",
        "Q.14 Why is polymorphism important in OOP\n",
        " Polymorphism is important because it promotes:\n",
        "- 1. Flexibility and Extensibility: New classes can be added that inherit from a common superclass, and existing code that works with the superclass can automatically work with the new subclasses without modification.\n",
        "- 2. Code Reusability: Code written to operate on the superclass can be reused with any of its subclasses.\n",
        "- 3. Decoupling: It helps in decoupling the code that uses objects from the specific types of those objects, making the code more maintainable and easier to understand.\n",
        "\n",
        "Q.15 What is an abstract class in Python\n",
        "- An abstract class is a class that cannot be instantiated directly. It is designed to be a blueprint for other classes.\n",
        "- Abstract classes can contain abstract methods, which are methods declared in the abstract class but have no implementation. Subclasses are required to provide implementations for these abstract methods.\n",
        "- In Python, abstract classes are typically defined using the `abc` module (Abstract Base Classes).\n",
        "\n",
        "Q.16 What are the advantages of OOP\n",
        "- 1. Code Reusability: Inheritance allows reusing code from parent classes.\n",
        "- 2. Modularity: Code is organized into self-contained units (objects).\n",
        "- 3. Maintainability: Changes to one part of the code are less likely to affect other parts.\n",
        "- 4. Flexibility: Polymorphism allows for flexible and extensible code.\n",
        "- 5. Abstraction: Hides complexity and focuses on essential features.\n",
        "- 6. Encapsulation: Protects data and provides controlled access.\n",
        "\n",
        "Q.17 What is the difference between a class variable and an instance variable\n",
        "- Class Variables:\n",
        " - Belong to the class itself and are shared by all instances of the class.\n",
        " - Defined inside the class but outside of any instance methods.\n",
        " - Accessed using the class name (e.g., `ClassName.class_variable`).\n",
        " Instance Variables:\n",
        " - Belong to a specific instance of the class.\n",
        " - Defined within the `__init__` method (or other instance methods) using `self`.\n",
        " - Each instance has its own copy of instance variables.\n",
        " - Accessed using the instance name (e.g., `instance_name.instance_variable`).\n",
        "\n",
        "Q.18 What is multiple inheritance in Python\n",
        " Multiple inheritance is a feature in Python where a class can inherit from more than one parent class.\n",
        " The child class inherits attributes and methods from all its parent classes.\n",
        " While powerful, it can introduce complexities like the \"diamond problem\" if not used carefully. Python uses a Method Resolution Order (MRO) to determine the order in which base classes are searched for a method.\n",
        "\n",
        "Q.19 : Explain the purpose of ‘__str__’ and ‘__repr__’ methods in Python\n",
        " `__str__(self)`:\n",
        " - Returns a \"user-friendly\" string representation of an object.\n",
        " - Called by the `str()` built-in function and `print()`.\n",
        " - Should be readable and informative for the end-user.\n",
        " `__repr__(self)`:\n",
        " - Returns an \"official\" string representation of an object.\n",
        " - Should be unambiguous and ideally, if evaluated as Python code, it should recreate the object.\n",
        " - Called by the `repr()` built-in function and in interactive sessions when an object is the last expression.\n",
        " - If `__str__` is not defined, `__repr__` is used as a fallback for `str()`.\n",
        "\n",
        "Q.20 What is the significance of the ‘super()’ function in Python\n",
        "\n",
        "\n",
        " The `super()` function is used to refer to the parent class (superclass).\n",
        " It is primarily used in the `__init__` method of a subclass to call the constructor of the parent class and initialize inherited attributes.\n",
        " It can also be used to call methods of the parent class from the subclass, especially when method overriding is involved.\n",
        "\n",
        "Q.21 What is the significance of the __del__ method in Python\n",
        "\n",
        "\n",
        " The `__del__(self)` method is a destructor. It's called when an object is about to be destroyed or garbage collected.\n",
        " It's often used for cleanup operations, such as closing files or releasing external resources.\n",
        " However, the exact timing of garbage collection in Python can be unpredictable, so relying solely on `__del__` for critical cleanup is generally discouraged. Context managers (using `with` statements) are often a preferred way to handle resource management.\n",
        "\n",
        "Q.22 What is the difference between @staticmethod and @classmethod in Python?\n",
        "\n",
        "\n",
        " `@staticmethod`:\n",
        " - Doesn't receive the instance (`self`) or the class (`cls`) as the first argument.\n",
        " - Behaves like a regular function but is part of the class namespace for organization.\n",
        " - Cannot access or modify instance or class state.\n",
        " `@classmethod`:\n",
        " - Receives the class (`cls`) as the first argument.\n",
        " - Can access and modify class state (class variables).\n",
        " - Often used for factory methods or alternative constructors.\n",
        "\n",
        "Q.23 How does polymorphism work in Python with inheritance\n",
        "\n",
        " Polymorphism with inheritance in Python is achieved through method overriding.\n",
        " If a superclass has a method, and a subclass provides its own implementation of that method with the same name, then when you call that method on an object, the version defined in the object's actual class (subclass) is executed.\n",
        " This allows objects of different subclasses to respond differently to the same method call, provided they share a common superclass with that method signature.\n",
        "\n",
        "Q.24  What is method chaining in Python OOP\n",
        "\n",
        " Method chaining is a technique where multiple method calls are linked together on a single object in a single expression.\n",
        " This is possible when each method in the chain returns the object itself (`self`) after performing its operation.\n",
        " It can make code more concise and readable for sequential operations on the same object.\n",
        "\n",
        "Q.25 What is the purpose of the __call__ method in Python?\n",
        "\n",
        " The `__call__(self, *args, **kwargs)` method makes an instance of a class callable, just like a function.\n",
        " When you define this method in a class, you can call an object of that class using parentheses, passing arguments like you would to a function.\n",
        " This is useful for creating objects that behave like functions, often used in scenarios like decorators, function factories, or objects representing mathematical functions.\n"
      ],
      "metadata": {
        "id": "GCAwHgF30rqu"
      }
    },
    {
      "cell_type": "code",
      "source": [
        "\n",
        "# 1. CREATE A PARENT CLASS ANIMAL WITH A METHOD SPEAK() THAT PRINTS A GENERIC MESSAGE. CREATE A CHILD CLASS DOG THAT OVERRIDES THE SPEAK() METHOD TO PRINT \"BARK!\".\n",
        "\n",
        "class Animal:\n",
        "  def speak(self):\n",
        "    print(\"Generic animal sound\")\n",
        "\n",
        "class Dog(Animal):\n",
        "  def speak(self):\n",
        "    print(\"Bark!\")\n",
        "\n",
        "Dog().speak()"
      ],
      "metadata": {
        "colab": {
          "base_uri": "https://localhost:8080/"
        },
        "id": "AtYyDklWD3II",
        "outputId": "ea9edba8-3530-4a41-ee56-10f342bea72f"
      },
      "execution_count": 7,
      "outputs": [
        {
          "output_type": "stream",
          "name": "stdout",
          "text": [
            "Bark!\n"
          ]
        }
      ]
    },
    {
      "cell_type": "code",
      "source": [
        "# 2. WRITE A PROGRAM TO CREATE AN ABSTRACT CLASS SHAPE WITH A METHOD AREA(). DERIVE CLASSES CIRCLE AND RECTANGLE FROM IT AND IMPLEMENT THE AREA() METHOD IN BOTH.\n",
        "\n",
        "from abc import ABC, abstractmethod\n",
        "import math\n",
        "\n",
        "class Shape(ABC):\n",
        "  @abstractmethod\n",
        "  def area(self):\n",
        "    pass\n",
        "\n",
        "class Circle(Shape):\n",
        "  def __init__(self, radius):\n",
        "    self.radius = radius\n",
        "\n",
        "  def area(self):\n",
        "    return math.pi * self.radius**2\n",
        "\n",
        "class Rectangle(Shape):\n",
        "  def __init__(self, width, height):\n",
        "    self.width = width\n",
        "    self.height = height\n",
        "\n",
        "  def area(self):\n",
        "    return self.width * self.height\n",
        "\n"
      ],
      "metadata": {
        "id": "oNj_qyY0ElpI"
      },
      "execution_count": 8,
      "outputs": []
    },
    {
      "cell_type": "code",
      "source": [
        "# 3. IMPLEMENT A MULTI-LEVEL INHERITANCE SCENARIO WHERE A CLASS VEHICLE HAS AN ATTRIBUTE TYPE. DERIVE A CLASS CAR AND FURTHER DERIVE A CLASS ELECTRICCAR THAT ADDS A BATTERY ATTRIBUTE.\n",
        "\n",
        "class Vehicle:\n",
        "  def __init__(self, vehicle_type):\n",
        "    self.type = vehicle_type\n",
        "\n",
        "class Car(Vehicle):\n",
        "  def __init__(self, vehicle_type=\"Car\"):\n",
        "    super().__init__(vehicle_type)\n",
        "\n",
        "class ElectricCar(Car):\n",
        "  def __init__(self, battery_capacity_kwh, vehicle_type=\"Electric Car\"):\n",
        "    super().__init__(vehicle_type)\n",
        "    self.battery = battery_capacity_kwh\n"
      ],
      "metadata": {
        "id": "Q4Wkz712Ehyl"
      },
      "execution_count": null,
      "outputs": []
    },
    {
      "cell_type": "code",
      "source": [
        "\n",
        "# 4. DEMONSTRATE POLYMORPHISM BY CREATING A BASE CLASS BIRD WITH A METHOD FLY(). CREATE TWO DERIVED CLASSES SPARROW AND PENGUIN THAT OVERRIDE THE FLY() METHOD.\n",
        "\n",
        "class Bird:\n",
        "  def fly(self):\n",
        "    print(\"Bird is flying\")\n",
        "\n",
        "class Sparrow(Bird):\n",
        "  def fly(self):\n",
        "    print(\"Sparrow is soaring\")\n",
        "\n",
        "class Penguin(Bird):\n",
        "  def fly(self):\n",
        "    print(\"Penguins can't fly, but they can swim!\")\n",
        "\n"
      ],
      "metadata": {
        "id": "ZAgiLDlDEe0V"
      },
      "execution_count": null,
      "outputs": []
    },
    {
      "cell_type": "code",
      "source": [
        "\n",
        "# 5. WRITE A PROGRAM TO DEMONSTRATE ENCAPSULATION BY CREATING A CLASS BANKACCOUNT WITH PRIVATE ATTRIBUTES BALANCE AND METHODS TO DEPOSIT, WITHDRAW, AND CHECK BALANCE.\n",
        "\n",
        "class BankAccount:\n",
        "  def __init__(self, initial_balance=0):\n",
        "    self.__balance = initial_balance # Private attribute\n",
        "\n",
        "  def deposit(self, amount):\n",
        "    if amount > 0:\n",
        "      self.__balance += amount\n",
        "      print(f\"Deposited: ${amount}. New balance: ${self.__balance}\")\n",
        "    else:\n",
        "      print(\"Deposit amount must be positive.\")\n",
        "\n",
        "  def withdraw(self, amount):\n",
        "    if 0 < amount <= self.__balance:\n",
        "      self.__balance -= amount\n",
        "      print(f\"Withdrew: ${amount}. New balance: ${self.__balance}\")\n",
        "    elif amount > self.__balance:\n",
        "      print(\"Insufficient funds.\")\n",
        "    else:\n",
        "      print(\"Withdrawal amount must be positive.\")\n",
        "\n",
        "  def get_balance(self):\n",
        "    return self.__balance\n"
      ],
      "metadata": {
        "id": "M9Gkm9U6Ea8p"
      },
      "execution_count": null,
      "outputs": []
    },
    {
      "cell_type": "code",
      "source": [
        "# 6. DEMONSTRATE RUNTIME POLYMORPHISM USING A METHOD PLAY() IN A BASE CLASS INSTRUMENT. DERIVE CLASSES GUITAR AND PIANO THAT IMPLEMENT THEIR OWN VERSION OF PLAY().\n",
        "\n",
        "class Instrument:\n",
        "  def play(self):\n",
        "    print(\"Instrument is playing sound\")\n",
        "\n",
        "class Guitar(Instrument):\n",
        "  def play(self):\n",
        "    print(\"Strumming the guitar\")\n",
        "\n",
        "class Piano(Instrument):\n",
        "  def play(self):\n",
        "    print(\"Playing the piano keys\")\n"
      ],
      "metadata": {
        "id": "oeWre-CDEXTb"
      },
      "execution_count": null,
      "outputs": []
    },
    {
      "cell_type": "code",
      "source": [
        "\n",
        "# 7. CREATE A CLASS MATHOPERATIONS WITH A CLASS METHOD ADD_NUMBERS() TO ADD TWO NUMBERS AND A STATIC METHOD SUBTRACT_NUMBERS() TO SUBTRACT TWO NUMBERS.\n",
        "\n",
        "class MathOperations:\n",
        "  @classmethod\n",
        "  def add_numbers(cls, a, b):\n",
        "    return a + b\n",
        "\n",
        "  @staticmethod\n",
        "  def subtract_numbers(a, b):\n",
        "    return a - b\n"
      ],
      "metadata": {
        "id": "aFuy7voFET9U"
      },
      "execution_count": null,
      "outputs": []
    },
    {
      "cell_type": "code",
      "source": [
        "\n",
        "# 8. IMPLEMENT A CLASS PERSON WITH A CLASS METHOD TO COUNT THE TOTAL NUMBER OF PERSONS CREATED.\n",
        "\n",
        "class Person:\n",
        "  number_of_persons = 0\n",
        "\n",
        "  def __init__(self, name):\n",
        "    self.name = name\n",
        "    Person.number_of_persons += 1\n",
        "\n",
        "  @classmethod\n",
        "  def count_persons(cls):\n",
        "    return cls.number_of_persons\n",
        "\n"
      ],
      "metadata": {
        "id": "BMr1EyAcERcb"
      },
      "execution_count": null,
      "outputs": []
    },
    {
      "cell_type": "code",
      "source": [
        "# 9. WRITE A CLASS FRACTION WITH ATTRIBUTES NUMERATOR AND DENOMINATOR. OVERRIDE THE STR METHOD TO DISPLAY THE FRACTION AS \"NUMERATOR/DENOMINATOR\".\n",
        "\n",
        "class Fraction:\n",
        "  def __init__(self, numerator, denominator):\n",
        "    self.numerator = numerator\n",
        "    self.denominator = denominator\n",
        "\n",
        "  def __str__(self):\n",
        "    return f\"{self.numerator}/{self.denominator}\"\n",
        "\n"
      ],
      "metadata": {
        "id": "6BaTmBQREM2e"
      },
      "execution_count": null,
      "outputs": []
    },
    {
      "cell_type": "code",
      "source": [
        "# 10. DEMONSTRATE OPERATOR OVERLOADING BY CREATING A CLASS VECTOR AND OVERRIDING THE ADD METHOD TO ADD TWO VECTORS.\n",
        "\n",
        "class Vector:\n",
        "  def __init__(self, x, y):\n",
        "    self.x = x\n",
        "    self.y = y\n",
        "\n",
        "  def __add__(self, other):\n",
        "    if isinstance(other, Vector):\n",
        "      return Vector(self.x + other.x, self.y + other.y)\n",
        "    else:\n",
        "      raise TypeError(\"Can only add a Vector to another Vector\")\n",
        "\n",
        "  def __str__(self):\n",
        "    return f\"Vector({self.x}, {self.y})\"\n"
      ],
      "metadata": {
        "id": "fLb1-HzGEJov"
      },
      "execution_count": null,
      "outputs": []
    },
    {
      "cell_type": "code",
      "source": [
        "\n",
        "# 11. CREATE A CLASS PERSON WITH ATTRIBUTES NAME AND AGE. ADD A METHOD GREET() THAT PRINTS \"HELLO, MY NAME IS {NAME} AND I AM {AGE} YEARS OLD.\"\n",
        "\n",
        "class Person:\n",
        "  def __init__(self, name, age):\n",
        "    self.name = name\n",
        "    self.age = age\n",
        "\n",
        "  def greet(self):\n",
        "    print(f\"Hello, my name is {self.name} and I am {self.age} years old.\")\n",
        "\n"
      ],
      "metadata": {
        "id": "nQAq3Gi1EGOF"
      },
      "execution_count": null,
      "outputs": []
    },
    {
      "cell_type": "code",
      "source": [
        "# 12. IMPLEMENT A CLASS STUDENT WITH ATTRIBUTES NAME AND GRADES. CREATE A METHOD AVERAGE_GRADE() TO COMPUTE THE AVERAGE OF THE GRADES.\n",
        "\n",
        "class Student:\n",
        "  def __init__(self, name, grades):\n",
        "    self.name = name\n",
        "    self.grades = grades # grades should be a list of numbers\n",
        "\n",
        "  def average_grade(self):\n",
        "    if not self.grades:\n",
        "      return 0\n",
        "    return sum(self.grades) / len(self.grades)\n"
      ],
      "metadata": {
        "id": "dJZJlvB-EDOB"
      },
      "execution_count": null,
      "outputs": []
    },
    {
      "cell_type": "code",
      "source": [
        "\n",
        "# 13. CREATE A CLASS RECTANGLE WITH METHODS SET_DIMENSIONS() TO SET THE\n",
        "\n",
        "class Rectangle:\n",
        "  def __init__(self, width=0, height=0):\n",
        "    self.width = width\n",
        "    self.height = height\n",
        "\n",
        "  def set_dimensions(self, width, height):\n",
        "    if width >= 0 and height >= 0:\n",
        "      self.width = width\n",
        "      self.height = height\n",
        "    else:\n",
        "      print(\"Dimensions must be non-negative.\")\n",
        "\n",
        "  def area(self):\n",
        "    return self.width * self.height\n",
        "\n",
        "  def perimeter(self):\n",
        "    return 2 * (self.width + self.height)\n"
      ],
      "metadata": {
        "id": "oBckxXk5D9zS"
      },
      "execution_count": null,
      "outputs": []
    }
  ]
}