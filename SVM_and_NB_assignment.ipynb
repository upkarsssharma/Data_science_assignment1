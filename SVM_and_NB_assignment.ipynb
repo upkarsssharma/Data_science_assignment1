{
  "cells": [
    {
      "cell_type": "code",
      "execution_count": null,
      "id": "68dbda09-5d41-410c-8706-140e9d194b99",
      "metadata": {
        "id": "68dbda09-5d41-410c-8706-140e9d194b99"
      },
      "outputs": [],
      "source": []
    },
    {
      "cell_type": "code",
      "execution_count": null,
      "id": "7d8d7c22-8979-48f7-9104-b99aaa4e640c",
      "metadata": {
        "id": "7d8d7c22-8979-48f7-9104-b99aaa4e640c",
        "outputId": "0bde0f35-99ed-4b10-8358-b9c8b9ba8691"
      },
      "outputs": [
        {
          "ename": "SyntaxError",
          "evalue": "invalid syntax (4055292600.py, line 1)",
          "output_type": "error",
          "traceback": [
            "\u001b[1;36m  Cell \u001b[1;32mIn[1], line 1\u001b[1;36m\u001b[0m\n\u001b[1;33m    Q1: What is a Support Vector Machine (SVM)?\u001b[0m\n\u001b[1;37m                  ^\u001b[0m\n\u001b[1;31mSyntaxError\u001b[0m\u001b[1;31m:\u001b[0m invalid syntax\n"
          ]
        }
      ],
      "source": [
        "Q1: What is a Support Vector Machine (SVM)?\n",
        "A:\n",
        "A Support Vector Machine is a supervised machine learning algorithm used for classification and regression tasks. It works by finding the optimal hyperplane that best separates data points of different classes in the feature space, maximizing the margin between the classes."
      ]
    },
    {
      "cell_type": "code",
      "execution_count": null,
      "id": "9510dbd3-df72-4c2a-af44-fa57e2eb4f02",
      "metadata": {
        "id": "9510dbd3-df72-4c2a-af44-fa57e2eb4f02"
      },
      "outputs": [],
      "source": [
        "Q2: What is the difference between Hard Margin and Soft Margin SVM?\n",
        "A:\n",
        "\n",
        "Hard Margin SVM does not allow any misclassifications. It works only when the data is perfectly linearly separable.\n",
        "\n",
        "Soft Margin SVM allows some misclassifications by introducing slack variables, making it suitable for real-world data that may not be perfectly separable."
      ]
    },
    {
      "cell_type": "code",
      "execution_count": null,
      "id": "702feb76-0f8d-43cd-80d8-a08a79bc8bed",
      "metadata": {
        "id": "702feb76-0f8d-43cd-80d8-a08a79bc8bed"
      },
      "outputs": [],
      "source": [
        "Q3: What is the mathematical intuition behind SVM?\n",
        "A:\n",
        "SVM aims to find the hyperplane that maximizes the margin between two classes. This is achieved by minimizing the norm of the weight vector\n",
        "∣∣w∣∣, subject to constraints that ensure correct classification:\n",
        "min 2 1 ​ ∣∣w∣∣ 2 subject to y i ​ (w T x i ​ +b)≥1\n",
        "In soft margin SVM, slack variables ξi  are introduced to allow some violations."
      ]
    },
    {
      "cell_type": "code",
      "execution_count": null,
      "id": "bdbe1eff-f743-4ec9-8603-d1a263fc0dae",
      "metadata": {
        "id": "bdbe1eff-f743-4ec9-8603-d1a263fc0dae"
      },
      "outputs": [],
      "source": [
        "Q4: What is the role of Lagrange Multipliers in SVM?\n",
        "A:\n",
        "Lagrange Multipliers are used to convert the constrained optimization problem of SVM into its dual form. This allows the use of the kernel trick to solve the problem in a higher-dimensional space without explicitly computing the transformation."
      ]
    },
    {
      "cell_type": "code",
      "execution_count": null,
      "id": "dec75a94-78f6-4289-9624-7eaf7b2a3b28",
      "metadata": {
        "id": "dec75a94-78f6-4289-9624-7eaf7b2a3b28"
      },
      "outputs": [],
      "source": [
        "Q5: What are Support Vectors in SVM?\n",
        "A:\n",
        "Support Vectors are the data points that lie closest to the decision boundary (hyperplane). They are critical in defining the margin and the position of the hyperplane, and removing them would change the model."
      ]
    },
    {
      "cell_type": "code",
      "execution_count": null,
      "id": "b679ed16-5813-44eb-9074-c3250434cb9e",
      "metadata": {
        "id": "b679ed16-5813-44eb-9074-c3250434cb9e"
      },
      "outputs": [],
      "source": [
        "Q6: What is a Support Vector Classifier (SVC)?\n",
        "A:\n",
        "A Support Vector Classifier is the classification version of SVM. It uses support vectors to construct the decision boundary and classify new data points."
      ]
    },
    {
      "cell_type": "code",
      "execution_count": null,
      "id": "742bce24-3be3-48b6-9517-5590e9dc5a3b",
      "metadata": {
        "id": "742bce24-3be3-48b6-9517-5590e9dc5a3b"
      },
      "outputs": [],
      "source": [
        "Q7: What is a Support Vector Regressor (SVR)?\n",
        "A:\n",
        "Support Vector Regressor is the regression counterpart of SVM. It attempts to fit a function within a margin of tolerance (ε-tube) around the actual target values, penalizing only the points that fall outside the margin."
      ]
    },
    {
      "cell_type": "code",
      "execution_count": null,
      "id": "4ab94b2a-1124-4da0-8575-4399d554ab84",
      "metadata": {
        "id": "4ab94b2a-1124-4da0-8575-4399d554ab84"
      },
      "outputs": [],
      "source": [
        "Q8: What is the Kernel Trick in SVM?\n",
        "A:\n",
        "The Kernel Trick allows SVM to perform well on non-linearly separable data by implicitly mapping the input features into a higher-dimensional space using a kernel function. It avoids explicitly computing the transformation, making the computation efficient."
      ]
    },
    {
      "cell_type": "code",
      "execution_count": null,
      "id": "8396fbab-fb83-47d5-8991-b8b2edc7a160",
      "metadata": {
        "id": "8396fbab-fb83-47d5-8991-b8b2edc7a160"
      },
      "outputs": [],
      "source": [
        "Q9: Compare Linear Kernel, Polynomial Kernel, and RBF Kernel.\n",
        "A:\n",
        "\n",
        "\n",
        "| Kernel Type        | Formula                               | Use Case                   |\n",
        "| ------------------ | ------------------------------------- | -------------------------- |\n",
        "| **Linear**         | $K(x, x') = x^T x'$                   | Linearly separable data    |\n",
        "| **Polynomial**     | $K(x, x') = (x^T x' + c)^d$           | Complex, curved boundaries |\n",
        "| **RBF (Gaussian)** | ( K(x, x') = e^{-\\gamma x - x'  ^2} ) |Highly non-linear, complex datasets |"
      ]
    },
    {
      "cell_type": "code",
      "execution_count": null,
      "id": "ae0754d3-b3fa-42ec-80ed-796b8729090b",
      "metadata": {
        "id": "ae0754d3-b3fa-42ec-80ed-796b8729090b"
      },
      "outputs": [],
      "source": [
        "Q10: What is the effect of the C parameter in SVM?\n",
        "A:\n",
        "The C parameter controls the trade-off between maximizing the margin and minimizing classification error:\n",
        "\n",
        "High C → less tolerance for errors, narrower margin, may overfit.\n",
        "\n",
        "Low C → more tolerance, wider margin, may underfit."
      ]
    },
    {
      "cell_type": "code",
      "execution_count": null,
      "id": "0b778a09-4511-4caf-8cf5-73ad938848cf",
      "metadata": {
        "id": "0b778a09-4511-4caf-8cf5-73ad938848cf"
      },
      "outputs": [],
      "source": [
        "Q11: What is the role of the Gamma parameter in RBF Kernel SVM?\n",
        "A:\n",
        "Gamma defines how far the influence of a single training example reaches:\n",
        "\n",
        "High gamma → close reach (tight boundaries), risk of overfitting.\n",
        "\n",
        "Low gamma → far reach (smooth boundaries), risk of underfitting."
      ]
    },
    {
      "cell_type": "code",
      "execution_count": null,
      "id": "98eeb288-d035-4227-a67e-ddb37eff5c86",
      "metadata": {
        "id": "98eeb288-d035-4227-a67e-ddb37eff5c86"
      },
      "outputs": [],
      "source": [
        "🔷 Naïve Bayes\n",
        "Q12: What is the Naïve Bayes classifier, and why is it called \"Naïve\"?\n",
        "A:\n",
        "Naïve Bayes is a probabilistic classifier based on Bayes’ Theorem, with a strong assumption of feature independence. It’s called \"naïve\" because it assumes that features are independent of each other, which is rarely true in practice."
      ]
    },
    {
      "cell_type": "code",
      "execution_count": null,
      "id": "72cf693d-b998-47ec-bd9e-66c227fbb1fc",
      "metadata": {
        "id": "72cf693d-b998-47ec-bd9e-66c227fbb1fc"
      },
      "outputs": [],
      "source": [
        "Q13: What is Bayes’ Theorem?\n",
        "A:\n",
        "Bayes’ Theorem calculates the probability of a class given the features:\n",
        "\n",
        "P(A∣B)= P(B) P(B∣A)⋅P(A)\n",
        "\n",
        "In classification, it helps compute the probability of a class given the observed features."
      ]
    },
    {
      "cell_type": "code",
      "execution_count": null,
      "id": "af05898d-d2e4-4e9b-ab23-985943f12bc6",
      "metadata": {
        "id": "af05898d-d2e4-4e9b-ab23-985943f12bc6"
      },
      "outputs": [],
      "source": [
        "Q14: Explain the differences between Gaussian Naïve Bayes, Multinomial Naïve Bayes, and Bernoulli Naïve Bayes.\n",
        "A:\n",
        "\n",
        "Gaussian Naïve Bayes: Assumes continuous features follow a normal distribution.\n",
        "\n",
        "Multinomial Naïve Bayes: Used for discrete count data (e.g., word counts).\n",
        "\n",
        "Bernoulli Naïve Bayes: Used for binary features (e.g., word present or not)."
      ]
    },
    {
      "cell_type": "code",
      "execution_count": null,
      "id": "19145fa2-c672-422e-9d6a-76ddd12a788f",
      "metadata": {
        "id": "19145fa2-c672-422e-9d6a-76ddd12a788f"
      },
      "outputs": [],
      "source": [
        "Q15: When should you use Gaussian Naïve Bayes over other variants?\n",
        "A:\n",
        "Use Gaussian Naïve Bayes when your features are continuous and can be reasonably assumed to follow a normal distribution, such as with sensor data or real-valued measurements."
      ]
    },
    {
      "cell_type": "code",
      "execution_count": null,
      "id": "8c197d6a-6f48-48ad-a45a-9d8425338236",
      "metadata": {
        "id": "8c197d6a-6f48-48ad-a45a-9d8425338236"
      },
      "outputs": [],
      "source": [
        "Q16: What are the key assumptions made by Naïve Bayes?\n",
        "A:\n",
        "\n",
        "Conditional Independence: Features are independent given the class.\n",
        "\n",
        "Class Conditional Feature Distribution: Each feature follows a known distribution per class (e.g., Gaussian, Bernoulli, or Multinomial).\n",
        "\n",
        "All Features Are Relevant: Even though they’re independent, each contributes to the classification."
      ]
    },
    {
      "cell_type": "code",
      "execution_count": null,
      "id": "d907fab2-905c-4988-a4da-036367a3c995",
      "metadata": {
        "id": "d907fab2-905c-4988-a4da-036367a3c995"
      },
      "outputs": [],
      "source": [
        "Q17: What are the advantages and disadvantages of Naïve Bayes?\n",
        "A:\n",
        "✅ Advantages:\n",
        "\n",
        "Fast to train and predict.\n",
        "\n",
        "Works well with high-dimensional data.\n",
        "\n",
        "Performs well with limited training data.\n",
        "\n",
        "❌ Disadvantages:\n",
        "\n",
        "Assumes feature independence, which is rarely true.\n",
        "\n",
        "May perform poorly with correlated features."
      ]
    },
    {
      "cell_type": "code",
      "execution_count": null,
      "id": "f429c1a1-f305-48a3-87ca-d859da0cbdb2",
      "metadata": {
        "id": "f429c1a1-f305-48a3-87ca-d859da0cbdb2"
      },
      "outputs": [],
      "source": [
        "Q18: Why is Naïve Bayes a good choice for text classification?\n",
        "A:\n",
        "\n",
        "Text data is high-dimensional and sparse.\n",
        "\n",
        "Words can be treated as conditionally independent features.\n",
        "\n",
        "Multinomial Naïve Bayes performs well with word frequencies.\n",
        "\n",
        "It’s fast and effective even on large datasets."
      ]
    },
    {
      "cell_type": "code",
      "execution_count": null,
      "id": "ae807f93-7c62-4d9a-bdd1-26c9e53d05f6",
      "metadata": {
        "id": "ae807f93-7c62-4d9a-bdd1-26c9e53d05f6"
      },
      "outputs": [],
      "source": [
        "Q19: Compare SVM and Naïve Bayes for classification tasks.\n",
        "A:\n",
        "\n",
        "Feature\tSVM\tNaïve Bayes\n",
        "Accuracy\tOften higher with good tuning\tCompetitive, especially in NLP\n",
        "Training Time\tSlower\tVery fast\n",
        "Assumptions\tNo feature distribution assumption\tAssumes feature independence\n",
        "Small Dataset Handling\tNeeds tuning\tWorks well out-of-the-box\n",
        "Interpretability\tLower\tHigh (probabilistic)\n",
        "Robustness\tHigh\tModerate"
      ]
    },
    {
      "cell_type": "code",
      "execution_count": null,
      "id": "6d1cbcfa-762a-4661-8e0d-ad31615cd854",
      "metadata": {
        "id": "6d1cbcfa-762a-4661-8e0d-ad31615cd854"
      },
      "outputs": [],
      "source": [
        "Q20: How does Laplace Smoothing help in Naïve Bayes?\n",
        "A:\n",
        "Laplace Smoothing adds 1 (or a small constant) to word counts to avoid zero probabilities for unseen words in the test data:\n",
        "\n",
        "P(w∣c)= count(w,c)+1 /  ∑ w​ count(w,c)+∣V∣\n",
        "\n",
        "This prevents the entire product of probabilities from becoming zero during classification."
      ]
    },
    {
      "cell_type": "code",
      "execution_count": 1,
      "id": "310739df-ac13-4626-ae0b-1e05968abc23",
      "metadata": {
        "colab": {
          "base_uri": "https://localhost:8080/"
        },
        "id": "310739df-ac13-4626-ae0b-1e05968abc23",
        "outputId": "bc21171e-6833-494c-f543-62d4adf23145"
      },
      "outputs": [
        {
          "output_type": "stream",
          "name": "stdout",
          "text": [
            "SVM Accuracy on Iris dataset: 1.0\n"
          ]
        }
      ],
      "source": [
        "# SVM and Naive Bayes Practical Projects\n",
        "\n",
        "## 1. SVM on Iris Dataset\n",
        "from sklearn.datasets import load_iris\n",
        "from sklearn.model_selection import train_test_split\n",
        "from sklearn.svm import SVC\n",
        "from sklearn.metrics import accuracy_score\n",
        "\n",
        "X, y = load_iris(return_X_y=True)\n",
        "X_train, X_test, y_train, y_test = train_test_split(X, y, test_size=0.2, random_state=42)\n",
        "\n",
        "clf = SVC(kernel='linear')\n",
        "clf.fit(X_train, y_train)\n",
        "y_pred = clf.predict(X_test)\n",
        "print(\"SVM Accuracy on Iris dataset:\", accuracy_score(y_test, y_pred))"
      ]
    },
    {
      "cell_type": "code",
      "execution_count": 3,
      "id": "761692c0-bbee-4fc9-8ca3-17fdb8fcd0de",
      "metadata": {
        "colab": {
          "base_uri": "https://localhost:8080/"
        },
        "id": "761692c0-bbee-4fc9-8ca3-17fdb8fcd0de",
        "outputId": "0ad684cc-43d0-4945-fd7a-c2a760e3d747"
      },
      "outputs": [
        {
          "output_type": "stream",
          "name": "stdout",
          "text": [
            "Linear Kernel Accuracy: 0.9815\n",
            "RBF Kernel Accuracy: 0.7593\n"
          ]
        }
      ],
      "source": [
        "## 2. SVM with Linear and RBF Kernels on Wine Dataset\n",
        "from sklearn.datasets import load_wine\n",
        "\n",
        "X, y = load_wine(return_X_y=True)\n",
        "X_train, X_test, y_train, y_test = train_test_split(X, y, test_size=0.3, random_state=42)\n",
        "\n",
        "clf_linear = SVC(kernel='linear')\n",
        "clf_linear.fit(X_train, y_train)\n",
        "acc_linear = accuracy_score(y_test, clf_linear.predict(X_test))\n",
        "\n",
        "clf_rbf = SVC(kernel='rbf')\n",
        "clf_rbf.fit(X_train, y_train)\n",
        "acc_rbf = accuracy_score(y_test, clf_rbf.predict(X_test))\n",
        "\n",
        "print(f\"Linear Kernel Accuracy: {acc_linear:.4f}\")\n",
        "print(f\"RBF Kernel Accuracy: {acc_rbf:.4f}\")"
      ]
    },
    {
      "cell_type": "code",
      "execution_count": 4,
      "id": "1c7f077a-baad-4a7d-9e06-c61cdaaf1a05",
      "metadata": {
        "colab": {
          "base_uri": "https://localhost:8080/"
        },
        "id": "1c7f077a-baad-4a7d-9e06-c61cdaaf1a05",
        "outputId": "1c2eee4f-9e7c-470f-86e0-205ce2a0dbb5"
      },
      "outputs": [
        {
          "output_type": "stream",
          "name": "stdout",
          "text": [
            "SVR Mean Squared Error: 0.35519846199894134\n"
          ]
        }
      ],
      "source": [
        "## 3. SVR on California Housing with MSE\n",
        "from sklearn.datasets import fetch_california_housing\n",
        "from sklearn.svm import SVR\n",
        "from sklearn.preprocessing import StandardScaler\n",
        "from sklearn.metrics import mean_squared_error\n",
        "\n",
        "housing = fetch_california_housing()\n",
        "X, y = housing.data, housing.target\n",
        "scaler = StandardScaler()\n",
        "X_scaled = scaler.fit_transform(X)\n",
        "\n",
        "X_train, X_test, y_train, y_test = train_test_split(X_scaled, y, test_size=0.2, random_state=42)\n",
        "svr = SVR(kernel='rbf')\n",
        "svr.fit(X_train, y_train)\n",
        "y_pred = svr.predict(X_test)\n",
        "print(\"SVR Mean Squared Error:\", mean_squared_error(y_test, y_pred))"
      ]
    },
    {
      "cell_type": "code",
      "execution_count": 5,
      "id": "84f36416-8435-4897-ac7a-a04ab974a60c",
      "metadata": {
        "colab": {
          "base_uri": "https://localhost:8080/",
          "height": 452
        },
        "id": "84f36416-8435-4897-ac7a-a04ab974a60c",
        "outputId": "bf0d943b-1ef3-4449-9f01-df431a9af64c"
      },
      "outputs": [
        {
          "output_type": "display_data",
          "data": {
            "text/plain": [
              "<Figure size 640x480 with 1 Axes>"
            ],
            "image/png": "[encoded data removed]"
          },
          "metadata": {}
        }
      ],
      "source": [
        "## 4. Polynomial Kernel SVM with Decision Boundary\n",
        "import numpy as np\n",
        "import matplotlib.pyplot as plt\n",
        "from sklearn.datasets import make_moons\n",
        "\n",
        "X, y = make_moons(n_samples=200, noise=0.2, random_state=42)\n",
        "clf = SVC(kernel='poly', degree=3, C=1)\n",
        "clf.fit(X, y)\n",
        "\n",
        "x_min, x_max = X[:, 0].min() - 1, X[:, 0].max() + 1\n",
        "y_min, y_max = X[:, 1].min() - 1, X[:, 1].max() + 1\n",
        "xx, yy = np.meshgrid(np.linspace(x_min, x_max, 300), np.linspace(y_min, y_max, 300))\n",
        "Z = clf.predict(np.c_[xx.ravel(), yy.ravel()]).reshape(xx.shape)\n",
        "\n",
        "plt.contourf(xx, yy, Z, cmap=plt.cm.coolwarm, alpha=0.6)\n",
        "plt.scatter(X[:, 0], X[:, 1], c=y, cmap=plt.cm.coolwarm)\n",
        "plt.title(\"SVM with Polynomial Kernel\")\n",
        "plt.show()"
      ]
    },
    {
      "cell_type": "code",
      "execution_count": 6,
      "id": "792162d2-04b8-4d14-8e9d-01877dc9bb87",
      "metadata": {
        "colab": {
          "base_uri": "https://localhost:8080/"
        },
        "id": "792162d2-04b8-4d14-8e9d-01877dc9bb87",
        "outputId": "39b4d43b-408f-4340-d61d-f362005abbc9"
      },
      "outputs": [
        {
          "output_type": "stream",
          "name": "stdout",
          "text": [
            "Gaussian Naive Bayes Accuracy: 0.9415204678362573\n"
          ]
        }
      ],
      "source": [
        "## 5. Gaussian Naive Bayes on Breast Cancer Dataset\n",
        "from sklearn.naive_bayes import GaussianNB\n",
        "from sklearn.datasets import load_breast_cancer\n",
        "\n",
        "X, y = load_breast_cancer(return_X_y=True)\n",
        "X_train, X_test, y_train, y_test = train_test_split(X, y, test_size=0.3, random_state=42)\n",
        "\n",
        "clf = GaussianNB()\n",
        "clf.fit(X_train, y_train)\n",
        "y_pred = clf.predict(X_test)\n",
        "print(\"Gaussian Naive Bayes Accuracy:\", accuracy_score(y_test, y_pred))"
      ]
    },
    {
      "cell_type": "code",
      "execution_count": 7,
      "id": "7ae9e689-dd97-46f8-8052-6ab855731072",
      "metadata": {
        "colab": {
          "base_uri": "https://localhost:8080/"
        },
        "id": "7ae9e689-dd97-46f8-8052-6ab855731072",
        "outputId": "6cb1e290-2542-4b3f-f20c-884dd1863381"
      },
      "outputs": [
        {
          "output_type": "stream",
          "name": "stdout",
          "text": [
            "Multinomial Naive Bayes Accuracy: 0.6723259762308998\n"
          ]
        }
      ],
      "source": [
        "## 6. Multinomial Naive Bayes for 20 Newsgroups\n",
        "from sklearn.datasets import fetch_20newsgroups\n",
        "from sklearn.feature_extraction.text import CountVectorizer\n",
        "from sklearn.naive_bayes import MultinomialNB\n",
        "\n",
        "newsgroups = fetch_20newsgroups(subset='all', remove=('headers', 'footers', 'quotes'))\n",
        "X, y = newsgroups.data, newsgroups.target\n",
        "\n",
        "vectorizer = CountVectorizer(stop_words='english')\n",
        "X_vec = vectorizer.fit_transform(X)\n",
        "\n",
        "X_train, X_test, y_train, y_test = train_test_split(X_vec, y, test_size=0.25, random_state=42)\n",
        "clf = MultinomialNB()\n",
        "clf.fit(X_train, y_train)\n",
        "y_pred = clf.predict(X_test)\n",
        "print(\"Multinomial Naive Bayes Accuracy:\", accuracy_score(y_test, y_pred))"
      ]
    },
    {
      "cell_type": "code",
      "execution_count": 1,
      "id": "edd01c4f-2cb8-4c5f-bdf5-532c7d811cc8",
      "metadata": {
        "colab": {
          "base_uri": "https://localhost:8080/",
          "height": 211
        },
        "id": "edd01c4f-2cb8-4c5f-bdf5-532c7d811cc8",
        "outputId": "462a9181-9fd8-4c68-df14-ee40ae701766"
      },
      "outputs": [
        {
          "output_type": "error",
          "ename": "NameError",
          "evalue": "name 'SVC' is not defined",
          "traceback": [
            "\u001b[0;31m---------------------------------------------------------------------------\u001b[0m",
            "\u001b[0;31mNameError\u001b[0m                                 Traceback (most recent call last)",
            "\u001b[0;32m/tmp/ipython-input-1-3060245985.py\u001b[0m in \u001b[0;36m<cell line: 0>\u001b[0;34m()\u001b[0m\n\u001b[1;32m      2\u001b[0m \u001b[0;32mfrom\u001b[0m \u001b[0msklearn\u001b[0m\u001b[0;34m.\u001b[0m\u001b[0mfeature_selection\u001b[0m \u001b[0;32mimport\u001b[0m \u001b[0mRFE\u001b[0m\u001b[0;34m\u001b[0m\u001b[0;34m\u001b[0m\u001b[0m\n\u001b[1;32m      3\u001b[0m \u001b[0;34m\u001b[0m\u001b[0m\n\u001b[0;32m----> 4\u001b[0;31m \u001b[0mmodel\u001b[0m \u001b[0;34m=\u001b[0m \u001b[0mSVC\u001b[0m\u001b[0;34m(\u001b[0m\u001b[0mkernel\u001b[0m\u001b[0;34m=\u001b[0m\u001b[0;34m'linear'\u001b[0m\u001b[0;34m)\u001b[0m\u001b[0;34m\u001b[0m\u001b[0;34m\u001b[0m\u001b[0m\n\u001b[0m\u001b[1;32m      5\u001b[0m \u001b[0mrfe\u001b[0m \u001b[0;34m=\u001b[0m \u001b[0mRFE\u001b[0m\u001b[0;34m(\u001b[0m\u001b[0mmodel\u001b[0m\u001b[0;34m,\u001b[0m \u001b[0mn_features_to_select\u001b[0m\u001b[0;34m=\u001b[0m\u001b[0;36m10\u001b[0m\u001b[0;34m)\u001b[0m\u001b[0;34m\u001b[0m\u001b[0;34m\u001b[0m\u001b[0m\n\u001b[1;32m      6\u001b[0m \u001b[0mrfe\u001b[0m\u001b[0;34m.\u001b[0m\u001b[0mfit\u001b[0m\u001b[0;34m(\u001b[0m\u001b[0mX_train\u001b[0m\u001b[0;34m,\u001b[0m \u001b[0my_train\u001b[0m\u001b[0;34m)\u001b[0m\u001b[0;34m\u001b[0m\u001b[0;34m\u001b[0m\u001b[0m\n",
            "\u001b[0;31mNameError\u001b[0m: name 'SVC' is not defined"
          ]
        }
      ],
      "source": [
        "## 7. SVM with RFE Feature Selection\n",
        "from sklearn.feature_selection import RFE\n",
        "\n",
        "model = SVC(kernel='linear')\n",
        "rfe = RFE(model, n_features_to_select=10)\n",
        "rfe.fit(X_train, y_train)\n",
        "\n",
        "X_train_sel = rfe.transform(X_train)\n",
        "X_test_sel = rfe.transform(X_test)\n",
        "\n",
        "model.fit(X_train_sel, y_train)\n",
        "y_pred = model.predict(X_test_sel)\n",
        "print(\"SVM with RFE Accuracy:\", accuracy_score(y_test, y_pred))"
      ]
    },
    {
      "cell_type": "code",
      "execution_count": null,
      "id": "ba26fc75-9595-4746-be8a-fe9d86aba143",
      "metadata": {
        "id": "ba26fc75-9595-4746-be8a-fe9d86aba143"
      },
      "outputs": [],
      "source": [
        "## 8. SVM Classification Report with Precision, Recall, F1-Score\n",
        "from sklearn.metrics import classification_report\n",
        "\n",
        "clf = SVC()\n",
        "clf.fit(X_train, y_train)\n",
        "y_pred = clf.predict(X_test)\n",
        "print(classification_report(y_test, y_pred))"
      ]
    },
    {
      "cell_type": "code",
      "execution_count": null,
      "id": "0d664882-95cf-4936-bf65-5ab221eea962",
      "metadata": {
        "id": "0d664882-95cf-4936-bf65-5ab221eea962"
      },
      "outputs": [],
      "source": [
        "## 9. Naive Bayes with Log Loss\n",
        "from sklearn.metrics import log_loss\n",
        "\n",
        "clf = GaussianNB()\n",
        "clf.fit(X_train, y_train)\n",
        "probs = clf.predict_proba(X_test)\n",
        "print(\"Naive Bayes Log Loss:\", log_loss(y_test, probs))"
      ]
    },
    {
      "cell_type": "code",
      "execution_count": null,
      "id": "c163f6b0-e1b0-42d3-8e06-8e0acc106bec",
      "metadata": {
        "id": "c163f6b0-e1b0-42d3-8e06-8e0acc106bec"
      },
      "outputs": [],
      "source": [
        "## 10. SVM Confusion Matrix Visualization\n",
        "import seaborn as sns\n",
        "from sklearn.metrics import confusion_matrix\n",
        "\n",
        "clf = SVC()\n",
        "clf.fit(X_train, y_train)\n",
        "y_pred = clf.predict(X_test)\n",
        "\n",
        "cm = confusion_matrix(y_test, y_pred)\n",
        "sns.heatmap(cm, annot=True, fmt='d', cmap='Blues')\n",
        "plt.title(\"SVM Confusion Matrix\")\n",
        "plt.xlabel(\"Predicted\")\n",
        "plt.ylabel(\"Actual\")\n",
        "plt.show()"
      ]
    },
    {
      "cell_type": "code",
      "execution_count": null,
      "id": "e8ce5ac3-8bf6-47eb-867a-864b2944d55f",
      "metadata": {
        "id": "e8ce5ac3-8bf6-47eb-867a-864b2944d55f"
      },
      "outputs": [],
      "source": [
        "## 11. SVR with MAE\n",
        "from sklearn.metrics import mean_absolute_error\n",
        "\n",
        "svr = SVR()\n",
        "svr.fit(X_train, y_train)\n",
        "y_pred = svr.predict(X_test)\n",
        "print(\"SVR Mean Absolute Error:\", mean_absolute_error(y_test, y_pred))"
      ]
    },
    {
      "cell_type": "code",
      "execution_count": null,
      "id": "5a052428-51fd-4ab2-ac68-15e6aa10263c",
      "metadata": {
        "id": "5a052428-51fd-4ab2-ac68-15e6aa10263c"
      },
      "outputs": [],
      "source": [
        "## 12. Naive Bayes with ROC-AUC Score\n",
        "from sklearn.metrics import roc_auc_score\n",
        "\n",
        "clf = GaussianNB()\n",
        "clf.fit(X_train, y_train)\n",
        "probs = clf.predict_proba(X_test)[:, 1]\n",
        "print(\"Naive Bayes ROC-AUC:\", roc_auc_score(y_test, probs))"
      ]
    },
    {
      "cell_type": "code",
      "execution_count": null,
      "id": "64fdf72a-1b54-4762-ac04-0473ce169c64",
      "metadata": {
        "id": "64fdf72a-1b54-4762-ac04-0473ce169c64"
      },
      "outputs": [],
      "source": [
        "## 13. SVM Precision-Recall Curve\n",
        "from sklearn.metrics import precision_recall_curve, PrecisionRecallDisplay\n",
        "\n",
        "clf = SVC(probability=True)\n",
        "clf.fit(X_train, y_train)\n",
        "probs = clf.predict_proba(X_test)[:, 1]\n",
        "\n",
        "precision, recall, _ = precision_recall_curve(y_test, probs)\n",
        "disp = PrecisionRecallDisplay(precision=precision, recall=recall)\n",
        "disp.plot()"
      ]
    },
    {
      "cell_type": "code",
      "execution_count": null,
      "id": "9bf90753-9516-4ec1-af0f-e423e491dcf0",
      "metadata": {
        "id": "9bf90753-9516-4ec1-af0f-e423e491dcf0"
      },
      "outputs": [],
      "source": [
        "## 14. Bernoulli Naive Bayes on Binary Features\n",
        "from sklearn.naive_bayes import BernoulliNB\n",
        "\n",
        "X = np.random.randint(0, 2, (100, 10))\n",
        "y = np.random.randint(0, 2, 100)\n",
        "\n",
        "X_train, X_test, y_train, y_test = train_test_split(X, y, random_state=42)\n",
        "model = BernoulliNB()\n",
        "model.fit(X_train, y_train)\n",
        "y_pred = model.predict(X_test)\n",
        "print(\"BernoulliNB Accuracy:\", accuracy_score(y_test, y_pred))"
      ]
    },
    {
      "cell_type": "code",
      "execution_count": null,
      "id": "28fe3628-33e5-4c8b-a72f-5b4593f19312",
      "metadata": {
        "id": "28fe3628-33e5-4c8b-a72f-5b4593f19312"
      },
      "outputs": [],
      "source": [
        "## 15. SVM with Feature Scaling vs Without\n",
        "from sklearn.preprocessing import StandardScaler\n",
        "\n",
        "X, y = load_iris(return_X_y=True)\n",
        "X_train, X_test, y_train, y_test = train_test_split(X, y, random_state=42)\n",
        "\n",
        "# Without scaling\n",
        "clf = SVC()\n",
        "clf.fit(X_train, y_train)\n",
        "acc_unscaled = accuracy_score(y_test, clf.predict(X_test))\n",
        "\n",
        "# With scaling\n",
        "scaler = StandardScaler()\n",
        "X_scaled = scaler.fit_transform(X)\n",
        "X_train_s, X_test_s, y_train, y_test = train_test_split(X_scaled, y, random_state=42)\n",
        "clf = SVC()\n",
        "clf.fit(X_train_s, y_train)\n",
        "acc_scaled = accuracy_score(y_test, clf.predict(X_test_s))\n",
        "\n",
        "print(\"Accuracy without scaling:\", acc_unscaled)\n",
        "print(\"Accuracy with scaling:\", acc_scaled)"
      ]
    },
    {
      "cell_type": "code",
      "execution_count": null,
      "id": "e36965c6-1013-44bd-9a62-28e2fdcb9275",
      "metadata": {
        "id": "e36965c6-1013-44bd-9a62-28e2fdcb9275"
      },
      "outputs": [],
      "source": [
        "## 16. Naive Bayes with Laplace Smoothing\n",
        "clf = MultinomialNB(alpha=1.0)  # Laplace smoothing\n",
        "clf.fit(X_train, y_train)\n",
        "y_pred = clf.predict(X_test)\n",
        "print(\"MultinomialNB with Laplace Smoothing Accuracy:\", accuracy_score(y_test, y_pred))"
      ]
    },
    {
      "cell_type": "code",
      "execution_count": null,
      "id": "117f0131-0435-4e3d-a929-bd8f0298e3ed",
      "metadata": {
        "id": "117f0131-0435-4e3d-a929-bd8f0298e3ed"
      },
      "outputs": [],
      "source": [
        "## 17. SVM with GridSearchCV for Hyperparameter Tuning\n",
        "from sklearn.model_selection import GridSearchCV\n",
        "\n",
        "param_grid = {'C': [0.1, 1, 10], 'gamma': ['scale', 'auto'], 'kernel': ['linear', 'rbf']}\n",
        "clf = GridSearchCV(SVC(), param_grid, cv=5)\n",
        "clf.fit(X_train, y_train)\n",
        "print(\"Best Parameters from GridSearch:\", clf.best_params_)\n",
        "print(\"Best Score:\", clf.best_score_)"
      ]
    },
    {
      "cell_type": "code",
      "execution_count": null,
      "id": "f344e2ee-7066-4865-99cf-e1be1823e626",
      "metadata": {
        "id": "f344e2ee-7066-4865-99cf-e1be1823e626"
      },
      "outputs": [],
      "source": [
        "## 18. SVM on Imbalanced Dataset with Class Weighting\n",
        "from sklearn.datasets import make_classification\n",
        "\n",
        "X, y = make_classification(n_samples=1000, n_classes=2, weights=[0.9, 0.1], random_state=42)\n",
        "X_train, X_test, y_train, y_test = train_test_split(X, y, random_state=42)\n",
        "\n",
        "clf = SVC(class_weight='balanced')\n",
        "clf.fit(X_train, y_train)\n",
        "y_pred = clf.predict(X_test)\n",
        "print(\"SVM with Class Weighting Accuracy:\", accuracy_score(y_test, y_pred))"
      ]
    },
    {
      "cell_type": "code",
      "execution_count": null,
      "id": "c841c77c-e750-4f58-afcf-4831a1b8207a",
      "metadata": {
        "id": "c841c77c-e750-4f58-afcf-4831a1b8207a"
      },
      "outputs": [],
      "source": [
        "## 19. Naive Bayes for Spam Detection\n",
        "from sklearn.model_selection import train_test_split\n",
        "from sklearn.feature_extraction.text import TfidfVectorizer\n",
        "\n",
        "emails = [\"Free money\", \"Hi Bob, how are you\", \"Win lottery now\", \"Lunch tomorrow\"]\n",
        "labels = [1, 0, 1, 0]  # 1 = spam, 0 = ham\n",
        "\n",
        "vectorizer = TfidfVectorizer()\n",
        "X = vectorizer.fit_transform(emails)\n",
        "X_train, X_test, y_train, y_test = train_test_split(X, labels, random_state=42)\n",
        "\n",
        "clf = MultinomialNB()\n",
        "clf.fit(X_train, y_train)\n",
        "y_pred = clf.predict(X_test)\n",
        "print(\"Spam Detection Accuracy:\", accuracy_score(y_test, y_pred))"
      ]
    },
    {
      "cell_type": "code",
      "execution_count": null,
      "id": "beb465f7-8f08-424f-ad18-e2bd84168859",
      "metadata": {
        "id": "beb465f7-8f08-424f-ad18-e2bd84168859"
      },
      "outputs": [],
      "source": [
        "## 20. SVM vs Naive Bayes Accuracy Comparison\n",
        "X, y = load_breast_cancer(return_X_y=True)\n",
        "X_train, X_test, y_train, y_test = train_test_split(X, y, random_state=42)\n",
        "\n",
        "svm = SVC()\n",
        "nb = GaussianNB()\n",
        "svm.fit(X_train, y_train)\n",
        "nb.fit(X_train, y_train)\n",
        "\n",
        "print(\"SVM Accuracy:\", accuracy_score(y_test, svm.predict(X_test)))\n",
        "print(\"Naive Bayes Accuracy:\", accuracy_score(y_test, nb.predict(X_test)))"
      ]
    },
    {
      "cell_type": "code",
      "execution_count": null,
      "id": "1cd2f974-8ca6-4f17-835b-f381e2d84bc4",
      "metadata": {
        "id": "1cd2f974-8ca6-4f17-835b-f381e2d84bc4"
      },
      "outputs": [],
      "source": [
        "## 21. Naive Bayes with Different Priors\n",
        "priors = [0.3, 0.7]\n",
        "clf = GaussianNB(priors=priors)\n",
        "clf.fit(X_train, y_train)\n",
        "y_pred = clf.predict(X_test)\n",
        "print(\"Naive Bayes Accuracy with Custom Priors:\", accuracy_score(y_test, y_pred))"
      ]
    },
    {
      "cell_type": "code",
      "execution_count": null,
      "id": "d639ac4f-8f61-41e8-bad8-905f1e490b61",
      "metadata": {
        "id": "d639ac4f-8f61-41e8-bad8-905f1e490b61"
      },
      "outputs": [],
      "source": [
        "## 22. SVM OvR vs OvO Strategy Comparison\n",
        "from sklearn.multiclass import OneVsRestClassifier, OneVsOneClassifier\n",
        "\n",
        "X, y = load_wine(return_X_y=True)\n",
        "X_train, X_test, y_train, y_test = train_test_split(X, y, random_state=42)\n",
        "\n",
        "ovr = OneVsRestClassifier(SVC())\n",
        "ovo = OneVsOneClassifier(SVC())\n",
        "\n",
        "ovr.fit(X_train, y_train)\n",
        "ovo.fit(X_train, y_train)\n",
        "\n",
        "print(\"OvR Accuracy:\", accuracy_score(y_test, ovr.predict(X_test)))\n",
        "print(\"OvO Accuracy:\", accuracy_score(y_test, ovo.predict(X_test)))"
      ]
    },
    {
      "cell_type": "code",
      "execution_count": null,
      "id": "4a0c026d-be03-41a4-b1c2-65e0fb4a9473",
      "metadata": {
        "id": "4a0c026d-be03-41a4-b1c2-65e0fb4a9473"
      },
      "outputs": [],
      "source": [
        "## 23. SVM with Linear, Polynomial, and RBF Kernels Comparison\n",
        "kernels = ['linear', 'poly', 'rbf']\n",
        "X, y = load_breast_cancer(return_X_y=True)\n",
        "X_train, X_test, y_train, y_test = train_test_split(X, y, random_state=42)\n",
        "\n",
        "for k in kernels:\n",
        "    clf = SVC(kernel=k)\n",
        "    clf.fit(X_train, y_train)\n",
        "    acc = accuracy_score(y_test, clf.predict(X_test))\n",
        "    print(f\"Kernel = {k}, Accuracy = {acc:.4f}\")"
      ]
    },
    {
      "cell_type": "code",
      "execution_count": null,
      "id": "5fc925c0-833f-468d-a7e8-c5018aa495cd",
      "metadata": {
        "id": "5fc925c0-833f-468d-a7e8-c5018aa495cd"
      },
      "outputs": [],
      "source": [
        "## 24. SVM with Stratified K-Fold CV\n",
        "from sklearn.model_selection import StratifiedKFold, cross_val_score\n",
        "\n",
        "clf = SVC()\n",
        "skf = StratifiedKFold(n_splits=5)\n",
        "scores = cross_val_score(clf, X, y, cv=skf)\n",
        "print(\"Stratified K-Fold CV Accuracy:\", scores.mean())"
      ]
    },
    {
      "cell_type": "code",
      "execution_count": null,
      "id": "036a102f-c4e6-466c-8ad7-fe07f8025a87",
      "metadata": {
        "id": "036a102f-c4e6-466c-8ad7-fe07f8025a87"
      },
      "outputs": [],
      "source": []
    },
    {
      "cell_type": "code",
      "execution_count": null,
      "id": "ed8911dd-6ca9-4207-980f-56592abe303c",
      "metadata": {
        "id": "ed8911dd-6ca9-4207-980f-56592abe303c"
      },
      "outputs": [],
      "source": []
    },
    {
      "cell_type": "code",
      "execution_count": null,
      "id": "de965c06-d2db-4f87-a2d3-6244df763a9d",
      "metadata": {
        "id": "de965c06-d2db-4f87-a2d3-6244df763a9d"
      },
      "outputs": [],
      "source": []
    },
    {
      "cell_type": "code",
      "execution_count": null,
      "id": "afafabd8-d1b6-402d-a629-112e8e0ad67f",
      "metadata": {
        "id": "afafabd8-d1b6-402d-a629-112e8e0ad67f"
      },
      "outputs": [],
      "source": []
    },
    {
      "cell_type": "code",
      "execution_count": null,
      "id": "02c47267-4f54-4f9d-acdf-443942dbb46b",
      "metadata": {
        "id": "02c47267-4f54-4f9d-acdf-443942dbb46b"
      },
      "outputs": [],
      "source": []
    }
  ],
  "metadata": {
    "kernelspec": {
      "display_name": "Python 3",
      "name": "python3"
    },
    "language_info": {
      "codemirror_mode": {
        "name": "ipython",
        "version": 3
      },
      "file_extension": ".py",
      "mimetype": "text/x-python",
      "name": "python",
      "nbconvert_exporter": "python",
      "pygments_lexer": "ipython3",
      "version": "3.12.7"
    },
    "colab": {
      "provenance": [],
      "gpuType": "T4"
    },
    "accelerator": "GPU"
  },
  "nbformat": 4,
  "nbformat_minor": 5
}