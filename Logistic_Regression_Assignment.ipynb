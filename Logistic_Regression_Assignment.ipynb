{
  "cells": [
    {
      "cell_type": "markdown",
      "id": "6e5f292a",
      "metadata": {
        "id": "6e5f292a"
      },
      "source": [
        "# Logistic Regression Assignment by upkar sharma\n",
        "## Part 1: Theoretical Q&A\n"
      ]
    },
    {
      "cell_type": "markdown",
      "id": "bdca17e9",
      "metadata": {
        "id": "bdca17e9"
      },
      "source": [
        "### Q: What is Logistic Regression, and how does it differ from Linear Regression?\n",
        "**A:** Logistic Regression is a supervised learning algorithm used for classification tasks, especially binary classification. While Linear Regression predicts continuous outcomes, Logistic Regression predicts probabilities (between 0 and 1) using the sigmoid function, which are then converted to binary outcomes using a threshold (commonly 0.5).\n"
      ]
    },
    {
      "cell_type": "markdown",
      "id": "b2c5ccfc",
      "metadata": {
        "id": "b2c5ccfc"
      },
      "source": [
        "### Q: What is the mathematical equation of Logistic Regression?\n",
        "**A:** The logistic regression model uses the sigmoid function: \\n$h_\\\\theta(x) = \\\\frac{1}{1 + e^{-\\\\theta^T x}}$\\nWhere:\n",
        "- `x` is the input vector\n",
        "- `θ` is the coefficient vector\n",
        "- `hθ(x)` gives the probability of class 1.\n"
      ]
    },
    {
      "cell_type": "markdown",
      "id": "ff2fbdbb",
      "metadata": {
        "id": "ff2fbdbb"
      },
      "source": [
        "### Q: Why do we use the Sigmoid function in Logistic Regression?\n",
        "**A:** The sigmoid function maps real-valued inputs into the (0, 1) range, making it ideal for predicting probabilities. It allows binary classification by applying a threshold on the output.\n"
      ]
    },
    {
      "cell_type": "markdown",
      "id": "8499304e",
      "metadata": {
        "id": "8499304e"
      },
      "source": [
        "### Q: What is the cost function of Logistic Regression?\n",
        "**A:** The cost function is binary cross-entropy (log loss):\\n$J(\\\\theta) = -\\\\frac{1}{m} \\\\sum_{i=1}^{m} \\\\left[ y^{(i)} \\\\log(h_\\\\theta(x^{(i)})) + (1 - y^{(i)}) \\\\log(1 - h_\\\\theta(x^{(i)})) \\\\right]$\n"
      ]
    },
    {
      "cell_type": "markdown",
      "id": "8d8059b7",
      "metadata": {
        "id": "8d8059b7"
      },
      "source": [
        "### Q: What is Regularization in Logistic Regression? Why is it needed?\n",
        "**A:** Regularization adds a penalty to the loss function to prevent overfitting and improve generalization. Common types include L1 (Lasso) and L2 (Ridge).\n"
      ]
    },
    {
      "cell_type": "markdown",
      "id": "982c0905",
      "metadata": {
        "id": "982c0905"
      },
      "source": [
        "### Q: Explain the difference between Lasso, Ridge, and Elastic Net regression\n",
        "**A:** - **Lasso (L1)**: Adds absolute value penalty; promotes sparsity.\n",
        "- **Ridge (L2)**: Adds squared value penalty; reduces magnitude but keeps all features.\n",
        "- **Elastic Net**: Combines L1 and L2 for balanced regularization.\n"
      ]
    },
    {
      "cell_type": "markdown",
      "id": "b223fc5e",
      "metadata": {
        "id": "b223fc5e"
      },
      "source": [
        "### Q: When should we use Elastic Net instead of Lasso or Ridge?\n",
        "**A:** Elastic Net is preferred when features are highly correlated and you want both sparsity and stability. It balances Lasso's feature selection with Ridge's regularization.\n"
      ]
    },
    {
      "cell_type": "markdown",
      "id": "04923db2",
      "metadata": {
        "id": "04923db2"
      },
      "source": [
        "### Q: What is the impact of the regularization parameter (λ) in Logistic Regression?\n",
        "**A:** A small λ implies weak regularization (risk of overfitting), while a large λ implies strong regularization (risk of underfitting). It must be tuned using cross-validation.\n"
      ]
    },
    {
      "cell_type": "markdown",
      "id": "66b63e2f",
      "metadata": {
        "id": "66b63e2f"
      },
      "source": [
        "### Q: What are the key assumptions of Logistic Regression?\n",
        "**A:** 1. Linearity in the log-odds\n",
        "2. No multicollinearity\n",
        "3. Independent observations\n",
        "4. Large sample size\n",
        "5. Scaled features (recommended)\n"
      ]
    },
    {
      "cell_type": "markdown",
      "id": "29486da3",
      "metadata": {
        "id": "29486da3"
      },
      "source": [
        "### Q: What are some alternatives to Logistic Regression for classification tasks?\n",
        "**A:** Decision Trees, Random Forest, SVM, KNN, Naive Bayes, Neural Networks, XGBoost.\n"
      ]
    },
    {
      "cell_type": "markdown",
      "id": "b78532cf",
      "metadata": {
        "id": "b78532cf"
      },
      "source": [
        "### Q: What are Classification Evaluation Metrics?\n",
        "**A:** Accuracy, Precision, Recall, F1 Score, ROC-AUC, Log Loss, Confusion Matrix.\n"
      ]
    },
    {
      "cell_type": "markdown",
      "id": "e8454d0c",
      "metadata": {
        "id": "e8454d0c"
      },
      "source": [
        "### Q: How does class imbalance affect Logistic Regression?\n",
        "**A:** It biases the model towards the majority class. Accuracy becomes misleading. Use class weights, resampling, or metrics like F1-score.\n"
      ]
    },
    {
      "cell_type": "markdown",
      "id": "b887a65d",
      "metadata": {
        "id": "b887a65d"
      },
      "source": [
        "### Q: What is Hyperparameter Tuning in Logistic Regression?\n",
        "**A:** It’s the process of finding optimal values for hyperparameters like regularization strength (C or λ), penalty type, and solver using GridSearchCV or RandomizedSearchCV.\n"
      ]
    },
    {
      "cell_type": "markdown",
      "id": "b9f38645",
      "metadata": {
        "id": "b9f38645"
      },
      "source": [
        "### Q: What are different solvers in Logistic Regression? Which one should be used?\n",
        "**A:** Common solvers: liblinear, saga, lbfgs, newton-cg. Choice depends on dataset size, penalty type, and multiclass support.\n"
      ]
    },
    {
      "cell_type": "markdown",
      "id": "5c8d47d0",
      "metadata": {
        "id": "5c8d47d0"
      },
      "source": [
        "### Q: How is Logistic Regression extended for multiclass classification?\n",
        "**A:** Using One-vs-Rest (OvR) or Softmax (multinomial). OvR trains separate binary classifiers. Softmax handles all classes simultaneously.\n"
      ]
    },
    {
      "cell_type": "markdown",
      "id": "39761bbd",
      "metadata": {
        "id": "39761bbd"
      },
      "source": [
        "### Q: What are the advantages and disadvantages of Logistic Regression?\n",
        "**A:** **Advantages:** Simple, interpretable, fast. **Disadvantages:** Assumes linearity, sensitive to outliers, less effective on non-linear data.\n"
      ]
    },
    {
      "cell_type": "markdown",
      "id": "60f394e6",
      "metadata": {
        "id": "60f394e6"
      },
      "source": [
        "### Q: What are some use cases of Logistic Regression?\n",
        "**A:** Spam detection, disease prediction, credit scoring, customer churn prediction.\n"
      ]
    },
    {
      "cell_type": "markdown",
      "id": "204992ae",
      "metadata": {
        "id": "204992ae"
      },
      "source": [
        "### Q: What is the difference between Softmax Regression and Logistic Regression?\n",
        "**A:** Logistic Regression handles binary classification. Softmax handles multiclass by outputting a probability distribution across all classes.\n"
      ]
    },
    {
      "cell_type": "markdown",
      "id": "260eac5c",
      "metadata": {
        "id": "260eac5c"
      },
      "source": [
        "### Q: How do we choose between One-vs-Rest (OvR) and Softmax for multiclass classification?\n",
        "**A:** Use OvR for simpler and imbalanced data. Use Softmax for better probabilistic output when classes are mutually exclusive.\n"
      ]
    },
    {
      "cell_type": "markdown",
      "id": "f81a7131",
      "metadata": {
        "id": "f81a7131"
      },
      "source": [
        "### Q: How do we interpret coefficients in Logistic Regression?\n",
        "**A:** Coefficients represent change in log-odds. `exp(coef)` gives the odds ratio. A positive coef increases odds of class 1.\n"
      ]
    },
    {
      "cell_type": "markdown",
      "id": "2b43f922",
      "metadata": {
        "id": "2b43f922"
      },
      "source": [
        "---\n",
        "## Part 2: Practical\n"
      ]
    },
    {
      "cell_type": "code",
      "execution_count": null,
      "id": "d855a086",
      "metadata": {
        "id": "d855a086"
      },
      "outputs": [],
      "source": [
        "from sklearn.datasets import load_breast_cancerfrom sklearn.linear_model import LogisticRegressionfrom sklearn.model_selection import train_test_splitfrom sklearn.metrics import accuracy_scoredata = load_breast_cancer()X_train, X_test, y_train, y_test = train_test_split(data.data, data.target, test_size=0.3, random_state=42)model = LogisticRegression(max_iter=10000)model.fit(X_train, y_train)y_pred = model.predict(X_test)print(\"Accuracy:\", accuracy_score(y_test, y_pred))"
      ]
    },
    {
      "cell_type": "code",
      "execution_count": null,
      "id": "3919abfc",
      "metadata": {
        "id": "3919abfc"
      },
      "outputs": [],
      "source": [
        "from sklearn.linear_model import LogisticRegressionmodel = LogisticRegression(penalty='l1', solver='liblinear')model.fit(X_train, y_train)y_pred = model.predict(X_test)print(\"L1 Regularized Accuracy:\", accuracy_score(y_test, y_pred))"
      ]
    },
    {
      "cell_type": "code",
      "execution_count": null,
      "id": "4bbe6ab0",
      "metadata": {
        "id": "4bbe6ab0"
      },
      "outputs": [],
      "source": [
        "model = LogisticRegression(penalty='l2', solver='liblinear')model.fit(X_train, y_train)y_pred = model.predict(X_test)print(\"L2 Regularized Accuracy:\", accuracy_score(y_test, y_pred))print(\"Coefficients:\", model.coef_)"
      ]
    },
    {
      "cell_type": "code",
      "execution_count": null,
      "id": "789f36c8-2edc-4127-8b92-c1cd0b7aeafa",
      "metadata": {
        "id": "789f36c8-2edc-4127-8b92-c1cd0b7aeafa"
      },
      "outputs": [],
      "source": [
        "1. How do you load a dataset, split it into training and testing sets, apply Logistic Regression, and print the model accuracy?"
      ]
    },
    {
      "cell_type": "code",
      "execution_count": null,
      "id": "037acf2b-073e-4e38-8b53-eb647f307cbf",
      "metadata": {
        "id": "037acf2b-073e-4e38-8b53-eb647f307cbf",
        "outputId": "e8e97e7f-7481-4c50-e294-e337e1449c16"
      },
      "outputs": [
        {
          "name": "stdout",
          "output_type": "stream",
          "text": [
            "Accuracy: 0.956140350877193\n"
          ]
        }
      ],
      "source": [
        "from sklearn.datasets import load_breast_cancer\n",
        "from sklearn.linear_model import LogisticRegression\n",
        "from sklearn.model_selection import train_test_split\n",
        "from sklearn.metrics import accuracy_score\n",
        "import warnings\n",
        "warnings.filterwarnings('ignore')\n",
        "\n",
        "data = load_breast_cancer()\n",
        "X, y = data.data, data.target\n",
        "\n",
        "X_train, X_test, y_train, y_test = train_test_split(X, y, test_size=0.2, random_state=42)\n",
        "\n",
        "model = LogisticRegression()\n",
        "model.fit(X_train, y_train)\n",
        "\n",
        "y_pred = model.predict(X_test)\n",
        "print(\"Accuracy:\", accuracy_score(y_test, y_pred))"
      ]
    },
    {
      "cell_type": "code",
      "execution_count": null,
      "id": "e21885db-e1f6-4379-9bed-5a98115e5092",
      "metadata": {
        "id": "e21885db-e1f6-4379-9bed-5a98115e5092"
      },
      "outputs": [],
      "source": [
        "2. How do you apply L1 regularization (Lasso) using Logistic Regression and print the model accuracy?"
      ]
    },
    {
      "cell_type": "code",
      "execution_count": null,
      "id": "8841693c-ebce-4bcf-9a27-0fb396e12000",
      "metadata": {
        "id": "8841693c-ebce-4bcf-9a27-0fb396e12000",
        "outputId": "ab054d36-bd7c-4a0e-fa07-665586773bce"
      },
      "outputs": [
        {
          "name": "stdout",
          "output_type": "stream",
          "text": [
            "L1 Regularized Accuracy: 0.956140350877193\n"
          ]
        }
      ],
      "source": [
        "model = LogisticRegression(penalty='l1', solver='liblinear', C=1.0)\n",
        "model.fit(X_train, y_train)\n",
        "\n",
        "print(\"L1 Regularized Accuracy:\", accuracy_score(y_test, model.predict(X_test)))"
      ]
    },
    {
      "cell_type": "code",
      "execution_count": null,
      "id": "43fb594e-3217-4661-97a2-4423f61a865f",
      "metadata": {
        "id": "43fb594e-3217-4661-97a2-4423f61a865f"
      },
      "outputs": [],
      "source": []
    },
    {
      "cell_type": "code",
      "execution_count": null,
      "id": "b3ea0e3d-306c-421f-8f9f-9caf4a9f6014",
      "metadata": {
        "id": "b3ea0e3d-306c-421f-8f9f-9caf4a9f6014"
      },
      "outputs": [],
      "source": [
        "3. How do you apply L2 regularization (Ridge) using Logistic Regression and print model accuracy and coefficients?"
      ]
    },
    {
      "cell_type": "code",
      "execution_count": null,
      "id": "2c6176cc-889b-492c-bedd-4325eabdf779",
      "metadata": {
        "id": "2c6176cc-889b-492c-bedd-4325eabdf779"
      },
      "outputs": [],
      "source": []
    },
    {
      "cell_type": "code",
      "execution_count": null,
      "id": "235d935f-e5ab-4199-95a4-1aac45a8231e",
      "metadata": {
        "id": "235d935f-e5ab-4199-95a4-1aac45a8231e",
        "outputId": "1f6572bb-4e5f-4155-b9e8-cf88638e81d9"
      },
      "outputs": [
        {
          "name": "stdout",
          "output_type": "stream",
          "text": [
            "L2 Accuracy: 0.956140350877193\n",
            "Coefficients: [[ 2.09767666e+00  1.53094100e-01 -1.38058367e-01 -8.85703711e-04\n",
            "  -1.37602682e-01 -4.09678916e-01 -6.36606284e-01 -3.33081072e-01\n",
            "  -2.00977850e-01 -2.95405668e-02 -4.50323347e-02  1.43421375e+00\n",
            "  -2.87933547e-01 -7.35896162e-02 -1.53436931e-02 -6.34733106e-03\n",
            "  -4.78318191e-02 -3.66645267e-02 -4.06738088e-02  4.81941484e-03\n",
            "   1.24461748e+00 -4.03609258e-01 -4.09058744e-02 -2.69260430e-02\n",
            "  -2.53247503e-01 -1.19777694e+00 -1.58931865e+00 -5.97181518e-01\n",
            "  -7.17766059e-01 -1.16066738e-01]]\n"
          ]
        }
      ],
      "source": [
        "model = LogisticRegression(penalty='l2', solver='liblinear', C=1.0)\n",
        "model.fit(X_train, y_train)\n",
        "\n",
        "print(\"L2 Accuracy:\", accuracy_score(y_test, model.predict(X_test)))\n",
        "print(\"Coefficients:\", model.coef_)"
      ]
    },
    {
      "cell_type": "code",
      "execution_count": null,
      "id": "a54b7ca5-8517-4a69-887e-1990c6947e67",
      "metadata": {
        "id": "a54b7ca5-8517-4a69-887e-1990c6947e67"
      },
      "outputs": [],
      "source": [
        "4. How do you apply Elastic Net regularization in Logistic Regression?"
      ]
    },
    {
      "cell_type": "code",
      "execution_count": null,
      "id": "5a739467-6359-4f76-8dca-646d27f3e17b",
      "metadata": {
        "id": "5a739467-6359-4f76-8dca-646d27f3e17b",
        "outputId": "418c0db2-dae5-4bad-ffa0-c01719ca5c9c"
      },
      "outputs": [
        {
          "name": "stdout",
          "output_type": "stream",
          "text": [
            "Elastic Net Accuracy: 0.9649122807017544\n"
          ]
        }
      ],
      "source": [
        "model = LogisticRegression(penalty='elasticnet', solver='saga', l1_ratio=0.5, C=1.0, max_iter=1000)\n",
        "model.fit(X_train, y_train)\n",
        "\n",
        "print(\"Elastic Net Accuracy:\", accuracy_score(y_test, model.predict(X_test)))"
      ]
    },
    {
      "cell_type": "code",
      "execution_count": null,
      "id": "e8d92460-bd0a-40a6-ad0b-a35d7a056145",
      "metadata": {
        "id": "e8d92460-bd0a-40a6-ad0b-a35d7a056145"
      },
      "outputs": [],
      "source": []
    },
    {
      "cell_type": "code",
      "execution_count": null,
      "id": "2cc36292-dd5a-43e9-bfba-3ad0add633c8",
      "metadata": {
        "id": "2cc36292-dd5a-43e9-bfba-3ad0add633c8"
      },
      "outputs": [],
      "source": [
        "5. How do you train Logistic Regression for multiclass classification using One-vs-Rest (OvR)?"
      ]
    },
    {
      "cell_type": "code",
      "execution_count": null,
      "id": "2d63993c-61a0-48f1-bd7f-8de7475eeacf",
      "metadata": {
        "id": "2d63993c-61a0-48f1-bd7f-8de7475eeacf"
      },
      "outputs": [],
      "source": []
    },
    {
      "cell_type": "code",
      "execution_count": null,
      "id": "fa24af0b-f1eb-4296-9698-d131cec235c1",
      "metadata": {
        "id": "fa24af0b-f1eb-4296-9698-d131cec235c1",
        "outputId": "954ff23d-2013-4b07-82d6-f8640acb1926"
      },
      "outputs": [
        {
          "name": "stdout",
          "output_type": "stream",
          "text": [
            "Multiclass OvR Accuracy: 0.9555555555555556\n"
          ]
        }
      ],
      "source": [
        "from sklearn.datasets import load_iris\n",
        "\n",
        "X, y = load_iris(return_X_y=True)\n",
        "X_train, X_test, y_train, y_test = train_test_split(X, y, test_size=0.3, random_state=42)\n",
        "\n",
        "model = LogisticRegression(multi_class='ovr', solver='lbfgs', max_iter=200)\n",
        "model.fit(X_train, y_train)\n",
        "\n",
        "print(\"Multiclass OvR Accuracy:\", accuracy_score(y_test, model.predict(X_test)))"
      ]
    },
    {
      "cell_type": "code",
      "execution_count": null,
      "id": "3339644f-2f36-4f0d-a9f3-b3690a533a8c",
      "metadata": {
        "id": "3339644f-2f36-4f0d-a9f3-b3690a533a8c"
      },
      "outputs": [],
      "source": []
    },
    {
      "cell_type": "code",
      "execution_count": null,
      "id": "18b601e2-d5af-4dae-bc03-2a1028fbc4c1",
      "metadata": {
        "id": "18b601e2-d5af-4dae-bc03-2a1028fbc4c1"
      },
      "outputs": [],
      "source": [
        "6. How do you tune hyperparameters (C and penalty) in Logistic Regression using GridSearchCV?"
      ]
    },
    {
      "cell_type": "code",
      "execution_count": null,
      "id": "f5eced33-fde4-494e-ade3-288033157923",
      "metadata": {
        "id": "f5eced33-fde4-494e-ade3-288033157923"
      },
      "outputs": [],
      "source": []
    },
    {
      "cell_type": "code",
      "execution_count": null,
      "id": "952102fa-fe95-4006-9757-1553212631bc",
      "metadata": {
        "id": "952102fa-fe95-4006-9757-1553212631bc",
        "outputId": "46ae9a38-66f1-46b6-ee5b-580ddbb5f4dd"
      },
      "outputs": [
        {
          "name": "stdout",
          "output_type": "stream",
          "text": [
            "Best Parameters: {'C': 10, 'penalty': 'l2', 'solver': 'liblinear'}\n",
            "Best Accuracy: 1.0\n"
          ]
        }
      ],
      "source": [
        "from sklearn.model_selection import GridSearchCV\n",
        "\n",
        "param_grid = {\n",
        "    'C': [0.01, 0.1, 1, 10],\n",
        "    'penalty': ['l1', 'l2'],\n",
        "    'solver': ['liblinear']\n",
        "}\n",
        "\n",
        "grid = GridSearchCV(LogisticRegression(max_iter=1000), param_grid, cv=5)\n",
        "grid.fit(X_train, y_train)\n",
        "\n",
        "print(\"Best Parameters:\", grid.best_params_)\n",
        "print(\"Best Accuracy:\", grid.score(X_test, y_test))"
      ]
    },
    {
      "cell_type": "code",
      "execution_count": null,
      "id": "fe80a37f-28a8-49d0-aad7-bd0751403df1",
      "metadata": {
        "id": "fe80a37f-28a8-49d0-aad7-bd0751403df1"
      },
      "outputs": [],
      "source": []
    },
    {
      "cell_type": "code",
      "execution_count": null,
      "id": "7cd58965-0079-4820-8d89-c1b148b29900",
      "metadata": {
        "id": "7cd58965-0079-4820-8d89-c1b148b29900"
      },
      "outputs": [],
      "source": [
        "7. How do you tune hyperparameters (C, penalty, solver) using RandomizedSearchCV in Logistic Regression?"
      ]
    },
    {
      "cell_type": "code",
      "execution_count": null,
      "id": "25092226-7fbb-43d0-be27-8416c4bc1416",
      "metadata": {
        "id": "25092226-7fbb-43d0-be27-8416c4bc1416",
        "outputId": "62c6a578-7fc9-41fc-991b-f5c071e464e1"
      },
      "outputs": [
        {
          "name": "stdout",
          "output_type": "stream",
          "text": [
            "Best Parameters: {'C': 1.7729341017399656, 'penalty': 'l2', 'solver': 'saga'}\n",
            "Best Accuracy: 1.0\n"
          ]
        }
      ],
      "source": [
        "from sklearn.model_selection import RandomizedSearchCV\n",
        "import scipy.stats as stats\n",
        "\n",
        "param_dist = {\n",
        "    'C': stats.loguniform(0.01, 10),\n",
        "    'penalty': ['l1', 'l2'],\n",
        "    'solver': ['liblinear', 'saga']\n",
        "}\n",
        "\n",
        "random_search = RandomizedSearchCV(LogisticRegression(max_iter=1000), param_dist, n_iter=10, cv=5)\n",
        "random_search.fit(X_train, y_train)\n",
        "\n",
        "print(\"Best Parameters:\", random_search.best_params_)\n",
        "print(\"Best Accuracy:\", random_search.score(X_test, y_test))"
      ]
    },
    {
      "cell_type": "code",
      "execution_count": null,
      "id": "8e98d4fa-9960-4093-a794-fc7d137a18fc",
      "metadata": {
        "id": "8e98d4fa-9960-4093-a794-fc7d137a18fc"
      },
      "outputs": [],
      "source": []
    },
    {
      "cell_type": "code",
      "execution_count": null,
      "id": "c53d9463-2736-4f01-8514-e39e4396f702",
      "metadata": {
        "id": "c53d9463-2736-4f01-8514-e39e4396f702"
      },
      "outputs": [],
      "source": [
        "8. How do you implement One-vs-One (OvO) multiclass Logistic Regression?"
      ]
    },
    {
      "cell_type": "code",
      "execution_count": null,
      "id": "3d4f8d3e-04f0-4f36-b6c9-5fd579a05ca4",
      "metadata": {
        "id": "3d4f8d3e-04f0-4f36-b6c9-5fd579a05ca4"
      },
      "outputs": [],
      "source": []
    },
    {
      "cell_type": "code",
      "execution_count": null,
      "id": "16e7a6f3-5543-480f-b599-3f49c422e20f",
      "metadata": {
        "id": "16e7a6f3-5543-480f-b599-3f49c422e20f",
        "outputId": "ee0be157-0f24-4cde-fe3c-0b517a2d2043"
      },
      "outputs": [
        {
          "name": "stdout",
          "output_type": "stream",
          "text": [
            "OvO Accuracy: 1.0\n"
          ]
        }
      ],
      "source": [
        "from sklearn.multiclass import OneVsOneClassifier\n",
        "\n",
        "ovo_model = OneVsOneClassifier(LogisticRegression(max_iter=1000))\n",
        "ovo_model.fit(X_train, y_train)\n",
        "\n",
        "print(\"OvO Accuracy:\", accuracy_score(y_test, ovo_model.predict(X_test)))"
      ]
    },
    {
      "cell_type": "code",
      "execution_count": null,
      "id": "cb27a947-2145-4fc1-867f-7c14a2605cc7",
      "metadata": {
        "id": "cb27a947-2145-4fc1-867f-7c14a2605cc7"
      },
      "outputs": [],
      "source": []
    },
    {
      "cell_type": "code",
      "execution_count": null,
      "id": "be5a4804-11d2-4b32-8ed5-c8e8b0f3fd93",
      "metadata": {
        "id": "be5a4804-11d2-4b32-8ed5-c8e8b0f3fd93"
      },
      "outputs": [],
      "source": [
        "9. How do you visualize the confusion matrix for binary Logistic Regression?"
      ]
    },
    {
      "cell_type": "code",
      "execution_count": null,
      "id": "feed4b51-8e6f-4c16-b61f-aeda0029da96",
      "metadata": {
        "id": "feed4b51-8e6f-4c16-b61f-aeda0029da96"
      },
      "outputs": [],
      "source": []
    },
    {
      "cell_type": "code",
      "execution_count": null,
      "id": "6fe61bc6-a617-4076-b4be-ede410045688",
      "metadata": {
        "id": "6fe61bc6-a617-4076-b4be-ede410045688",
        "outputId": "925668b4-55cb-4bc5-c6fb-1555e554a457"
      },
      "outputs": [
        {
          "data": {
            "text/plain": [
              "<sklearn.metrics._plot.confusion_matrix.ConfusionMatrixDisplay at 0x24c376969f0>"
            ]
          },
          "execution_count": 40,
          "metadata": {},
          "output_type": "execute_result"
        },
        {
          "data": {
            "image/png": "[encoded data removed]",
            "text/plain": [
              "<Figure size 640x480 with 2 Axes>"
            ]
          },
          "metadata": {},
          "output_type": "display_data"
        }
      ],
      "source": [
        "from sklearn.metrics import ConfusionMatrixDisplay\n",
        "\n",
        "model.fit(X_train, y_train)\n",
        "y_pred = model.predict(X_test)\n",
        "\n",
        "ConfusionMatrixDisplay.from_estimator(model, X_test, y_test)"
      ]
    },
    {
      "cell_type": "code",
      "execution_count": null,
      "id": "0c576499-f760-4525-9a8b-dbc3acc2d557",
      "metadata": {
        "id": "0c576499-f760-4525-9a8b-dbc3acc2d557"
      },
      "outputs": [],
      "source": []
    },
    {
      "cell_type": "code",
      "execution_count": null,
      "id": "1561d66f-8587-481e-8586-6f079f1d0633",
      "metadata": {
        "id": "1561d66f-8587-481e-8586-6f079f1d0633"
      },
      "outputs": [],
      "source": [
        "10. How do you evaluate Logistic Regression using Precision, Recall, and F1-score?"
      ]
    },
    {
      "cell_type": "code",
      "execution_count": null,
      "id": "caefbe92-1b66-4ff8-892e-c91bd000ee3a",
      "metadata": {
        "id": "caefbe92-1b66-4ff8-892e-c91bd000ee3a"
      },
      "outputs": [],
      "source": []
    },
    {
      "cell_type": "code",
      "execution_count": null,
      "id": "6906764d-2462-4cc6-b707-40e76639331f",
      "metadata": {
        "id": "6906764d-2462-4cc6-b707-40e76639331f",
        "outputId": "66f9de99-731d-4c39-f2b2-2cc51ead86a4"
      },
      "outputs": [
        {
          "name": "stdout",
          "output_type": "stream",
          "text": [
            "Precision: 0.9614814814814815\n",
            "Recall: 0.9555555555555556\n",
            "F1 Score: 0.9552910052910052\n"
          ]
        }
      ],
      "source": [
        "from sklearn.metrics import precision_score, recall_score, f1_score\n",
        "\n",
        "print(\"Precision:\", precision_score(y_test, y_pred,average='weighted'))\n",
        "print(\"Recall:\", recall_score(y_test, y_pred,average='weighted'))\n",
        "print(\"F1 Score:\", f1_score(y_test, y_pred,average='weighted'))"
      ]
    },
    {
      "cell_type": "code",
      "execution_count": null,
      "id": "4582368a-4b40-4ca2-8461-4690837f954c",
      "metadata": {
        "id": "4582368a-4b40-4ca2-8461-4690837f954c"
      },
      "outputs": [],
      "source": [
        "11. How do you handle imbalanced data in Logistic Regression using class weights?"
      ]
    },
    {
      "cell_type": "code",
      "execution_count": null,
      "id": "9fa51100-b3d0-4791-81b3-6792c274df5a",
      "metadata": {
        "id": "9fa51100-b3d0-4791-81b3-6792c274df5a",
        "outputId": "932f2118-6cd8-499a-c161-0148fee7d1b1"
      },
      "outputs": [
        {
          "name": "stdout",
          "output_type": "stream",
          "text": [
            "Accuracy on Imbalanced Data: 1.0\n"
          ]
        }
      ],
      "source": [
        "model = LogisticRegression(class_weight='balanced', max_iter=1000)\n",
        "model.fit(X_train, y_train)\n",
        "\n",
        "print(\"Accuracy on Imbalanced Data:\", accuracy_score(y_test, model.predict(X_test)))"
      ]
    },
    {
      "cell_type": "code",
      "execution_count": null,
      "id": "f767b9dd-c8ae-43d5-a09b-d21c9e02991c",
      "metadata": {
        "id": "f767b9dd-c8ae-43d5-a09b-d21c9e02991c",
        "outputId": "c418ba71-d48a-4981-9526-90444b3d646a"
      },
      "outputs": [
        {
          "name": "stdout",
          "output_type": "stream",
          "text": [
            "Object `performance` not found.\n"
          ]
        }
      ],
      "source": [
        "12. How do you train Logistic Regression on the Titanic dataset, handle missing values, and evaluate performance?"
      ]
    },
    {
      "cell_type": "code",
      "execution_count": null,
      "id": "2c6916bf-9d9d-4385-a214-c3a63725705f",
      "metadata": {
        "id": "2c6916bf-9d9d-4385-a214-c3a63725705f"
      },
      "outputs": [],
      "source": []
    },
    {
      "cell_type": "code",
      "execution_count": null,
      "id": "7b031845-6074-4e07-af2a-a845ae53b386",
      "metadata": {
        "id": "7b031845-6074-4e07-af2a-a845ae53b386"
      },
      "outputs": [],
      "source": [
        "import pandas as pd\n",
        "from sklearn.impute import SimpleImputer\n",
        "\n",
        "df = pd.read_csv(\"titanic.csv\")\n",
        "df = df.drop(columns=['Name', 'Cabin', 'Ticket', 'Embarked'])\n",
        "\n",
        "df['Sex'] = df['Sex'].map({'male': 0, 'female': 1})\n",
        "X = df.drop('Survived', axis=1)\n",
        "y = df['Survived']\n",
        "\n",
        "imp = SimpleImputer(strategy='mean')\n",
        "X = imp.fit_transform(X)\n",
        "\n",
        "X_train, X_test, y_train, y_test = train_test_split(X, y, test_size=0.2)\n",
        "\n",
        "model = LogisticRegression(max_iter=1000)\n",
        "model.fit(X_train, y_train)\n",
        "\n",
        "print(\"Titanic Accuracy:\", accuracy_score(y_test, model.predict(X_test)))"
      ]
    },
    {
      "cell_type": "code",
      "execution_count": null,
      "id": "9c457c72-0ba0-4ba1-8f26-bc0729f506e7",
      "metadata": {
        "id": "9c457c72-0ba0-4ba1-8f26-bc0729f506e7"
      },
      "outputs": [],
      "source": []
    },
    {
      "cell_type": "code",
      "execution_count": null,
      "id": "bef71f5f-6084-4cdc-8a53-683ba0cbe7a4",
      "metadata": {
        "id": "bef71f5f-6084-4cdc-8a53-683ba0cbe7a4"
      },
      "outputs": [],
      "source": [
        "13. How do you apply feature scaling before training Logistic Regression and compare accuracy with and without scaling?"
      ]
    },
    {
      "cell_type": "code",
      "execution_count": null,
      "id": "a8891711-f582-43e4-a013-7491e2cb85db",
      "metadata": {
        "id": "a8891711-f582-43e4-a013-7491e2cb85db"
      },
      "outputs": [],
      "source": []
    },
    {
      "cell_type": "code",
      "execution_count": null,
      "id": "0db96dc7-c777-4228-bebd-7c99158dbd56",
      "metadata": {
        "id": "0db96dc7-c777-4228-bebd-7c99158dbd56",
        "outputId": "7f710bb0-8c3a-4855-90d7-9c5be78bac3b"
      },
      "outputs": [
        {
          "name": "stdout",
          "output_type": "stream",
          "text": [
            "Without Scaling: 1.0\n",
            "With Scaling: 1.0\n"
          ]
        }
      ],
      "source": [
        "from sklearn.preprocessing import StandardScaler\n",
        "\n",
        "scaler = StandardScaler()\n",
        "X_scaled = scaler.fit_transform(X)\n",
        "\n",
        "X_train1, X_test1, y_train1, y_test1 = train_test_split(X, y, test_size=0.2)\n",
        "X_train2, X_test2, y_train2, y_test2 = train_test_split(X_scaled, y, test_size=0.2)\n",
        "\n",
        "model1 = LogisticRegression(max_iter=1000).fit(X_train1, y_train1)\n",
        "model2 = LogisticRegression(max_iter=1000).fit(X_train2, y_train2)\n",
        "\n",
        "print(\"Without Scaling:\", accuracy_score(y_test1, model1.predict(X_test1)))\n",
        "print(\"With Scaling:\", accuracy_score(y_test2, model2.predict(X_test2)))"
      ]
    },
    {
      "cell_type": "code",
      "execution_count": null,
      "id": "1090780a-7e79-4cda-a406-8704a49a4f7e",
      "metadata": {
        "id": "1090780a-7e79-4cda-a406-8704a49a4f7e"
      },
      "outputs": [],
      "source": [
        "14. How do you evaluate Logistic Regression using ROC-AUC Score?"
      ]
    },
    {
      "cell_type": "code",
      "execution_count": null,
      "id": "6bb81a4b-4783-4336-952f-62915ce47a45",
      "metadata": {
        "id": "6bb81a4b-4783-4336-952f-62915ce47a45"
      },
      "outputs": [],
      "source": [
        "from sklearn.metrics import roc_auc_score\n",
        "\n",
        "y_proba = model.predict_proba(X_test)[:, 1]\n",
        "print(\"ROC-AUC Score:\", roc_auc_score(y_test, y_proba))"
      ]
    },
    {
      "cell_type": "code",
      "execution_count": null,
      "id": "3672ba14-337d-4055-aae7-c8a6e0cbddc6",
      "metadata": {
        "id": "3672ba14-337d-4055-aae7-c8a6e0cbddc6"
      },
      "outputs": [],
      "source": [
        "15. How do you train Logistic Regression using a custom regularization strength (C = 0.5)?"
      ]
    },
    {
      "cell_type": "code",
      "execution_count": null,
      "id": "950dc8e2-1887-421b-ad33-439142855458",
      "metadata": {
        "id": "950dc8e2-1887-421b-ad33-439142855458",
        "outputId": "d3a236c8-ab42-422e-eae8-b27867d37ae6"
      },
      "outputs": [
        {
          "name": "stdout",
          "output_type": "stream",
          "text": [
            "Accuracy with C=0.5: 1.0\n"
          ]
        }
      ],
      "source": [
        "model = LogisticRegression(C=0.5, max_iter=1000)\n",
        "model.fit(X_train, y_train)\n",
        "\n",
        "print(\"Accuracy with C=0.5:\", accuracy_score(y_test, model.predict(X_test)))"
      ]
    },
    {
      "cell_type": "code",
      "execution_count": null,
      "id": "2d00c784-d1e3-426e-8948-24a740db56c4",
      "metadata": {
        "id": "2d00c784-d1e3-426e-8948-24a740db56c4"
      },
      "outputs": [],
      "source": [
        "16. How do you identify important features from a Logistic Regression model?"
      ]
    },
    {
      "cell_type": "code",
      "execution_count": null,
      "id": "1bd696f7-048d-48d5-970f-c6f1a3910670",
      "metadata": {
        "id": "1bd696f7-048d-48d5-970f-c6f1a3910670",
        "outputId": "b50da722-5d38-4852-ba1d-5e1f7fece103"
      },
      "outputs": [
        {
          "name": "stdout",
          "output_type": "stream",
          "text": [
            "Feature Importances: [0.37964163 0.64507202 1.84377579 0.75843671]\n"
          ]
        }
      ],
      "source": [
        "import numpy as np\n",
        "\n",
        "model.fit(X_train, y_train)\n",
        "feature_importance = np.abs(model.coef_[0])\n",
        "print(\"Feature Importances:\", feature_importance)"
      ]
    },
    {
      "cell_type": "code",
      "execution_count": null,
      "id": "583f7423-2f96-436f-b5c0-72b7354b78dd",
      "metadata": {
        "id": "583f7423-2f96-436f-b5c0-72b7354b78dd"
      },
      "outputs": [],
      "source": [
        "17. How do you evaluate Logistic Regression using Cohen’s Kappa Score?"
      ]
    },
    {
      "cell_type": "code",
      "execution_count": null,
      "id": "60e965ee-e9ed-435d-9d9d-f988ffc38f01",
      "metadata": {
        "id": "60e965ee-e9ed-435d-9d9d-f988ffc38f01",
        "outputId": "60ec2dcf-4415-4e97-ad49-8bc21ad81be0"
      },
      "outputs": [
        {
          "name": "stdout",
          "output_type": "stream",
          "text": [
            "Cohen's Kappa Score: 0.9321266968325792\n"
          ]
        }
      ],
      "source": [
        "from sklearn.metrics import cohen_kappa_score\n",
        "\n",
        "print(\"Cohen's Kappa Score:\", cohen_kappa_score(y_test, y_pred))"
      ]
    },
    {
      "cell_type": "code",
      "execution_count": null,
      "id": "990ab4e8-eb45-42f6-9048-155bfcae359d",
      "metadata": {
        "id": "990ab4e8-eb45-42f6-9048-155bfcae359d"
      },
      "outputs": [],
      "source": [
        "18. How do you visualize the Precision-Recall curve for Logistic Regression?"
      ]
    },
    {
      "cell_type": "code",
      "execution_count": null,
      "id": "4df933a5-1eed-499f-b996-122ced688589",
      "metadata": {
        "scrolled": true,
        "id": "4df933a5-1eed-499f-b996-122ced688589"
      },
      "outputs": [],
      "source": [
        "from sklearn.metrics import precision_recall_curve, PrecisionRecallDisplay\n",
        "\n",
        "y_scores = model.predict_proba(X_test)[:, 1]\n",
        "prec, rec, _ = precision_recall_curve(y_test, y_scores)\n",
        "disp = PrecisionRecallDisplay(precision=prec, recall=rec)\n",
        "disp.plot()"
      ]
    },
    {
      "cell_type": "code",
      "execution_count": null,
      "id": "d6191a1d-c7dc-40b8-ba21-6490c3197049",
      "metadata": {
        "id": "d6191a1d-c7dc-40b8-ba21-6490c3197049"
      },
      "outputs": [],
      "source": [
        "19. How do you train Logistic Regression using different solvers and compare their accuracies?"
      ]
    },
    {
      "cell_type": "code",
      "execution_count": null,
      "id": "6bb07b4e-ddc5-4b02-90be-4d2ea5b9f225",
      "metadata": {
        "id": "6bb07b4e-ddc5-4b02-90be-4d2ea5b9f225",
        "outputId": "f25b2514-abe7-437f-9d7f-46fb21a5014c"
      },
      "outputs": [
        {
          "name": "stdout",
          "output_type": "stream",
          "text": [
            "liblinear Accuracy: 0.9777777777777777\n",
            "lbfgs Accuracy: 1.0\n",
            "saga Accuracy: 1.0\n"
          ]
        }
      ],
      "source": [
        "solvers = ['liblinear', 'lbfgs', 'saga']\n",
        "for solver in solvers:\n",
        "    model = LogisticRegression(solver=solver, max_iter=1000)\n",
        "    model.fit(X_train, y_train)\n",
        "    print(f\"{solver} Accuracy:\", accuracy_score(y_test, model.predict(X_test)))"
      ]
    },
    {
      "cell_type": "code",
      "execution_count": null,
      "id": "e64d7f64-1cdf-4111-8d0e-55b526086d45",
      "metadata": {
        "id": "e64d7f64-1cdf-4111-8d0e-55b526086d45"
      },
      "outputs": [],
      "source": [
        "20. How do you evaluate Logistic Regression using Matthews Correlation Coefficient (MCC)?"
      ]
    },
    {
      "cell_type": "code",
      "execution_count": null,
      "id": "5a92cd6a-273a-4abd-83d9-6f3564857d35",
      "metadata": {
        "id": "5a92cd6a-273a-4abd-83d9-6f3564857d35",
        "outputId": "1f0870b3-9813-4359-db3e-3268751ff8d9"
      },
      "outputs": [
        {
          "name": "stdout",
          "output_type": "stream",
          "text": [
            "MCC: 0.9349513296612868\n"
          ]
        }
      ],
      "source": [
        "from sklearn.metrics import matthews_corrcoef\n",
        "\n",
        "print(\"MCC:\", matthews_corrcoef(y_test, y_pred))"
      ]
    },
    {
      "cell_type": "code",
      "execution_count": null,
      "id": "75e43eb0-1aa9-4ea0-8b5d-512e7b893f00",
      "metadata": {
        "id": "75e43eb0-1aa9-4ea0-8b5d-512e7b893f00"
      },
      "outputs": [],
      "source": [
        "21. How do you compare Logistic Regression accuracy on raw vs standardized data?"
      ]
    },
    {
      "cell_type": "code",
      "execution_count": null,
      "id": "651a1c28-6091-4c40-b819-ee6f599a8339",
      "metadata": {
        "id": "651a1c28-6091-4c40-b819-ee6f599a8339",
        "outputId": "05ecd3e8-3295-4836-b93f-cd818ed34e4a"
      },
      "outputs": [
        {
          "name": "stdout",
          "output_type": "stream",
          "text": [
            "Without Scaling: 0.9333333333333333\n",
            "With Scaling: 0.9666666666666667\n"
          ]
        }
      ],
      "source": [
        "scaler = StandardScaler()\n",
        "X_scaled = scaler.fit_transform(X)\n",
        "\n",
        "X_train1, X_test1, y_train1, y_test1 = train_test_split(X, y, test_size=0.2)\n",
        "X_train2, X_test2, y_train2, y_test2 = train_test_split(X_scaled, y, test_size=0.2)\n",
        "\n",
        "model1 = LogisticRegression(max_iter=1000).fit(X_train1, y_train1)\n",
        "model2 = LogisticRegression(max_iter=1000).fit(X_train2, y_train2)\n",
        "\n",
        "print(\"Without Scaling:\", accuracy_score(y_test1, model1.predict(X_test1)))\n",
        "print(\"With Scaling:\", accuracy_score(y_test2, model2.predict(X_test2)))"
      ]
    },
    {
      "cell_type": "code",
      "execution_count": null,
      "id": "42b8cd32-e55c-4b34-b86b-597fe88c2ca7",
      "metadata": {
        "id": "42b8cd32-e55c-4b34-b86b-597fe88c2ca7"
      },
      "outputs": [],
      "source": [
        "22. How do you find the optimal value of C using cross-validation?"
      ]
    },
    {
      "cell_type": "code",
      "execution_count": null,
      "id": "fcec698a-2cca-4898-9dd3-5d3ce0b7ddcd",
      "metadata": {
        "id": "fcec698a-2cca-4898-9dd3-5d3ce0b7ddcd",
        "outputId": "3830016b-a4e4-476e-9715-064eaeed28fc"
      },
      "outputs": [
        {
          "name": "stdout",
          "output_type": "stream",
          "text": [
            "C=0.01, Mean Accuracy=0.8600\n",
            "C=0.1, Mean Accuracy=0.9467\n",
            "C=1, Mean Accuracy=0.9733\n",
            "C=10, Mean Accuracy=0.9733\n"
          ]
        }
      ],
      "source": [
        "from sklearn.model_selection import cross_val_score\n",
        "\n",
        "C_values = [0.01, 0.1, 1, 10]\n",
        "for c in C_values:\n",
        "    model = LogisticRegression(C=c, max_iter=1000)\n",
        "    scores = cross_val_score(model, X, y, cv=5)\n",
        "    print(f\"C={c}, Mean Accuracy={scores.mean():.4f}\")"
      ]
    },
    {
      "cell_type": "code",
      "execution_count": null,
      "id": "6b09eb5c-430c-48b3-a357-6d5e36437352",
      "metadata": {
        "id": "6b09eb5c-430c-48b3-a357-6d5e36437352"
      },
      "outputs": [],
      "source": [
        "23. How do you save a trained Logistic Regression model using joblib and load it again to make predictions?"
      ]
    },
    {
      "cell_type": "code",
      "execution_count": null,
      "id": "00f80656-7753-48cc-a578-6c3414731a9b",
      "metadata": {
        "id": "00f80656-7753-48cc-a578-6c3414731a9b",
        "outputId": "03e014bc-639a-4aba-c031-f3870c32327e"
      },
      "outputs": [
        {
          "name": "stdout",
          "output_type": "stream",
          "text": [
            "Loaded Model Accuracy: 1.0\n"
          ]
        }
      ],
      "source": [
        "import joblib\n",
        "model.fit(X,y)\n",
        "joblib.dump(model, 'logreg_model.pkl')\n",
        "loaded_model = joblib.load('logreg_model.pkl')\n",
        "\n",
        "print(\"Loaded Model Accuracy:\", accuracy_score(y_test, loaded_model.predict(X_test)))"
      ]
    },
    {
      "cell_type": "code",
      "execution_count": null,
      "id": "8cc3715c-527c-46be-bcf1-fb10c102ff6a",
      "metadata": {
        "id": "8cc3715c-527c-46be-bcf1-fb10c102ff6a"
      },
      "outputs": [],
      "source": []
    }
  ],
  "metadata": {
    "kernelspec": {
      "display_name": "Python 3 (ipykernel)",
      "language": "python",
      "name": "python3"
    },
    "language_info": {
      "codemirror_mode": {
        "name": "ipython",
        "version": 3
      },
      "file_extension": ".py",
      "mimetype": "text/x-python",
      "name": "python",
      "nbconvert_exporter": "python",
      "pygments_lexer": "ipython3",
      "version": "3.12.7"
    },
    "colab": {
      "provenance": []
    }
  },
  "nbformat": 4,
  "nbformat_minor": 5
}