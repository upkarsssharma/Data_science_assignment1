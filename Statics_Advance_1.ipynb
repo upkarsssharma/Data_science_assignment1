{
  "cells": [
    {
      "cell_type": "code",
      "execution_count": null,
      "id": "eeb9a183-8d0c-4b53-9d76-66c0e65e98d3",
      "metadata": {
        "id": "eeb9a183-8d0c-4b53-9d76-66c0e65e98d3"
      },
      "outputs": [],
      "source": [
        "1. Q: What is a random variable in probability theory?\n",
        "A: A random variable is a numerical outcome of a random experiment. It maps outcomes from a sample space to real numbers."
      ]
    },
    {
      "cell_type": "code",
      "execution_count": null,
      "id": "e832be2b-cfc0-40de-a4d0-c4fdad1dbd48",
      "metadata": {
        "id": "e832be2b-cfc0-40de-a4d0-c4fdad1dbd48",
        "outputId": "cc3b99c8-42de-4364-f134-c05014c0e8de"
      },
      "outputs": [
        {
          "name": "stdout",
          "output_type": "stream",
          "text": [
            "Random variable (Die roll): 2\n"
          ]
        }
      ],
      "source": [
        "import random\n",
        "# Random variable representing the outcome of a die roll\n",
        "random_variable = random.randint(1, 6)\n",
        "print(\"Random variable (Die roll):\", random_variable)"
      ]
    },
    {
      "cell_type": "code",
      "execution_count": null,
      "id": "213fbb5d-27e2-46fb-a712-891de7c14726",
      "metadata": {
        "id": "213fbb5d-27e2-46fb-a712-891de7c14726"
      },
      "outputs": [],
      "source": [
        "2. Q: What are the types of random variables?\n",
        "A:\n",
        "\n",
        "Discrete Random Variable: Takes countable values (e.g., 1, 2, 3).\n",
        "\n",
        "Continuous Random Variable: Takes infinite values in a range (e.g., height, weight)."
      ]
    },
    {
      "cell_type": "code",
      "execution_count": null,
      "id": "bb5def72-78b4-4812-8c43-c4f1c85128b6",
      "metadata": {
        "id": "bb5def72-78b4-4812-8c43-c4f1c85128b6"
      },
      "outputs": [],
      "source": [
        "3. Q: What is the difference between discrete and continuous distributions?\n",
        "A:\n",
        "\n",
        "Discrete distributions deal with countable outcomes (e.g., coin toss).\n",
        "\n",
        "Continuous distributions deal with measurable quantities (e.g., temperature)."
      ]
    },
    {
      "cell_type": "code",
      "execution_count": null,
      "id": "fa524fb3-8bc5-4aca-9014-64019539b727",
      "metadata": {
        "id": "fa524fb3-8bc5-4aca-9014-64019539b727"
      },
      "outputs": [],
      "source": [
        "4. Q: What are probability distribution functions (PDFs)?\n",
        "A: A PDF gives the probability that a continuous random variable falls within a specific range. For discrete variables, it's called a Probability Mass Function (PMF)."
      ]
    },
    {
      "cell_type": "code",
      "execution_count": null,
      "id": "c1412b36-0bcb-4064-9917-53708128aad0",
      "metadata": {
        "id": "c1412b36-0bcb-4064-9917-53708128aad0"
      },
      "outputs": [],
      "source": [
        "5. Q: How do cumulative distribution functions (CDFs) differ from PDFs?\n",
        "A:\n",
        "\n",
        "PDF gives probability for a specific value or small interval.\n",
        "\n",
        "CDF gives the probability that a variable is less than or equal to a value."
      ]
    },
    {
      "cell_type": "code",
      "execution_count": null,
      "id": "c6b4443e-ceba-4779-916a-5eb96cb1daa4",
      "metadata": {
        "id": "c6b4443e-ceba-4779-916a-5eb96cb1daa4"
      },
      "outputs": [],
      "source": []
    },
    {
      "cell_type": "code",
      "execution_count": null,
      "id": "bc2d45cb-c2d5-4087-80db-fc0a982574cf",
      "metadata": {
        "id": "bc2d45cb-c2d5-4087-80db-fc0a982574cf",
        "outputId": "24716de7-01cb-4801-86f1-1a3651835b49"
      },
      "outputs": [
        {
          "name": "stdout",
          "output_type": "stream",
          "text": [
            "CDF of x=1 in N(0,1): 0.8413447460685429\n"
          ]
        }
      ],
      "source": [
        "from scipy.stats import norm\n",
        "print(\"CDF of x=1 in N(0,1):\", norm.cdf(1))  # Standard Normal"
      ]
    },
    {
      "cell_type": "code",
      "execution_count": null,
      "id": "ebff53c3-2768-4480-84b8-7549eeb0be9c",
      "metadata": {
        "id": "ebff53c3-2768-4480-84b8-7549eeb0be9c"
      },
      "outputs": [],
      "source": [
        "6. Q: What is a discrete uniform distribution?\n",
        "A: Every outcome in a finite set has equal probability."
      ]
    },
    {
      "cell_type": "code",
      "execution_count": null,
      "id": "4e9bf8cc-04d4-41f1-938b-f7ad45fde85c",
      "metadata": {
        "id": "4e9bf8cc-04d4-41f1-938b-f7ad45fde85c",
        "outputId": "d027d193-f605-4598-e267-b9461a90ec81"
      },
      "outputs": [
        {
          "data": {
            "text/plain": [
              "3"
            ]
          },
          "execution_count": 13,
          "metadata": {},
          "output_type": "execute_result"
        }
      ],
      "source": [
        "import random\n",
        "value = random.choice([1, 2, 3, 4, 5, 6])  # Die roll\n",
        "value"
      ]
    },
    {
      "cell_type": "code",
      "execution_count": null,
      "id": "bebe028a-bc05-4ecb-9619-183aed3582a4",
      "metadata": {
        "id": "bebe028a-bc05-4ecb-9619-183aed3582a4"
      },
      "outputs": [],
      "source": [
        "7. Q: What are the key properties of a Bernoulli distribution?\n",
        "A:\n",
        "\n",
        "Two outcomes: success (1) and failure (0)\n",
        "\n",
        "Parameter:\n",
        "p (probability of success)\n",
        "\n",
        "Mean = p, Variance = p(1−p)"
      ]
    },
    {
      "cell_type": "code",
      "execution_count": null,
      "id": "2cbca312-8c27-4713-9b48-7fd14d758930",
      "metadata": {
        "id": "2cbca312-8c27-4713-9b48-7fd14d758930",
        "outputId": "fd3dc02b-aacc-4517-f17e-68698ba74e16"
      },
      "outputs": [
        {
          "name": "stdout",
          "output_type": "stream",
          "text": [
            "Bernoulli Trial (p=0.6): 1\n"
          ]
        }
      ],
      "source": [
        "from scipy.stats import bernoulli\n",
        "print(\"Bernoulli Trial (p=0.6):\", bernoulli.rvs(p=0.6))"
      ]
    },
    {
      "cell_type": "code",
      "execution_count": null,
      "id": "e53382c9-4309-483f-a3bc-06c8d5036338",
      "metadata": {
        "id": "e53382c9-4309-483f-a3bc-06c8d5036338"
      },
      "outputs": [],
      "source": [
        "8. Q: What is the binomial distribution, and how is it used in probability?\n",
        "A: The binomial distribution models the number of successes in n independent Bernoulli trials."
      ]
    },
    {
      "cell_type": "code",
      "execution_count": null,
      "id": "7f533cb3-4a7b-4a11-96f1-893c5cab9426",
      "metadata": {
        "id": "7f533cb3-4a7b-4a11-96f1-893c5cab9426",
        "outputId": "0c4874f2-a65b-4d2c-f3fb-e7c6aab31244"
      },
      "outputs": [
        {
          "name": "stdout",
          "output_type": "stream",
          "text": [
            "Binomial P(X=2): 0.31249999999999983\n"
          ]
        }
      ],
      "source": [
        "from scipy.stats import binom\n",
        "# P(X=2) for 5 trials, p=0.5\n",
        "print(\"Binomial P(X=2):\", binom.pmf(2, 5, 0.5))"
      ]
    },
    {
      "cell_type": "code",
      "execution_count": null,
      "id": "092d02c4-24b4-4244-a6bf-b2d821bb402f",
      "metadata": {
        "id": "092d02c4-24b4-4244-a6bf-b2d821bb402f"
      },
      "outputs": [],
      "source": [
        "9. Q: What is the Poisson distribution and where is it applied?\n",
        "A: Models the number of events in a fixed interval with a known average rate (λ)."
      ]
    },
    {
      "cell_type": "code",
      "execution_count": null,
      "id": "ba323fde-11c4-46b2-9d8b-60ad17626a24",
      "metadata": {
        "id": "ba323fde-11c4-46b2-9d8b-60ad17626a24",
        "outputId": "a2be0b31-bcee-441b-a1cf-1aa2b67521ff"
      },
      "outputs": [
        {
          "name": "stdout",
          "output_type": "stream",
          "text": [
            "Poisson P(X=3) when λ=2: 0.18044704431548356\n"
          ]
        }
      ],
      "source": [
        "from scipy.stats import poisson\n",
        "print(\"Poisson P(X=3) when λ=2:\", poisson.pmf(3, mu=2))"
      ]
    },
    {
      "cell_type": "code",
      "execution_count": null,
      "id": "ae50ce70-b421-4353-a684-30350302f400",
      "metadata": {
        "id": "ae50ce70-b421-4353-a684-30350302f400"
      },
      "outputs": [],
      "source": [
        "10. Q: What is a continuous uniform distribution?\n",
        "A: All values within an interval [a, b] are equally likely."
      ]
    },
    {
      "cell_type": "code",
      "execution_count": null,
      "id": "fbb626ba-178f-4b25-aa80-41ec69873904",
      "metadata": {
        "id": "fbb626ba-178f-4b25-aa80-41ec69873904",
        "outputId": "38d16949-7eab-445f-83f4-1d782953d400"
      },
      "outputs": [
        {
          "name": "stdout",
          "output_type": "stream",
          "text": [
            "PDF at x=0.5 in U(0,1): 1.0\n"
          ]
        }
      ],
      "source": [
        "from scipy.stats import uniform\n",
        "print(\"PDF at x=0.5 in U(0,1):\", uniform.pdf(0.5, loc=0, scale=1))"
      ]
    },
    {
      "cell_type": "code",
      "execution_count": null,
      "id": "6ead38c2-62ad-487e-b10c-0520ae9e5960",
      "metadata": {
        "id": "6ead38c2-62ad-487e-b10c-0520ae9e5960"
      },
      "outputs": [],
      "source": [
        "11. Q: What are the characteristics of a normal distribution?\n",
        "A:\n",
        "\n",
        "Bell-shaped, symmetric about the mean\n",
        "\n",
        "Defined by mean μ and standard deviation σ\n",
        "\n",
        "Total area under curve = 1"
      ]
    },
    {
      "cell_type": "code",
      "execution_count": null,
      "id": "0a5f0219-8b91-4ac6-8ca0-e1f9e41b94fd",
      "metadata": {
        "id": "0a5f0219-8b91-4ac6-8ca0-e1f9e41b94fd"
      },
      "outputs": [],
      "source": [
        "12. Q: What is the standard normal distribution, and why is it important?\n",
        "A: A normal distribution with μ=0 and σ=1.\n",
        "Used for Z-scores and simplifying calculations."
      ]
    },
    {
      "cell_type": "code",
      "execution_count": null,
      "id": "4179ce56-862e-4074-9bf6-0d1943c384df",
      "metadata": {
        "id": "4179ce56-862e-4074-9bf6-0d1943c384df"
      },
      "outputs": [],
      "source": [
        "13. Q: What is the Central Limit Theorem (CLT), and why is it critical in statistics?\n",
        "A: The CLT states that the sampling distribution of the sample mean approaches normality as sample size increases, regardless of population distribution. It's crucial for hypothesis testing and confidence intervals."
      ]
    },
    {
      "cell_type": "code",
      "execution_count": null,
      "id": "a20fdec0-9e4a-43c0-9724-846671080c9b",
      "metadata": {
        "id": "a20fdec0-9e4a-43c0-9724-846671080c9b"
      },
      "outputs": [],
      "source": [
        "14. Q: How does the Central Limit Theorem relate to the normal distribution?\n",
        "A: The CLT explains why normal distribution appears so often in statistics — even non-normal populations yield normal sample means as sample size grows."
      ]
    },
    {
      "cell_type": "code",
      "execution_count": null,
      "id": "458f6594-8298-44ba-b836-85bf88da90f0",
      "metadata": {
        "id": "458f6594-8298-44ba-b836-85bf88da90f0"
      },
      "outputs": [],
      "source": [
        "15. Q: What is the application of Z-statistics in hypothesis testing?\n",
        "A: Z-statistics determine how far a sample mean is from the population mean in standard deviation units, useful for testing population parameters when variance is known."
      ]
    },
    {
      "cell_type": "code",
      "execution_count": null,
      "id": "7b09a352-a9f2-4a8d-90e7-7da137585ea4",
      "metadata": {
        "id": "7b09a352-a9f2-4a8d-90e7-7da137585ea4"
      },
      "outputs": [],
      "source": [
        "16. Q: How do you calculate a Z-score, and what does it represent?\n",
        "A:\n",
        "Z = (𝑋−𝜇)/𝜎\n",
        "\n",
        "It tells how many standard deviations an observation is from the mean."
      ]
    },
    {
      "cell_type": "code",
      "execution_count": null,
      "id": "bf074207-3464-48c0-94d8-970e5916b875",
      "metadata": {
        "id": "bf074207-3464-48c0-94d8-970e5916b875"
      },
      "outputs": [],
      "source": [
        "17. Q: What are point estimates and interval estimates in statistics?\n",
        "A:\n",
        "\n",
        "Point Estimate: A single value (e.g., sample mean) used to estimate a population parameter.\n",
        "\n",
        "Interval Estimate: A range (confidence interval) likely to contain the parameter."
      ]
    },
    {
      "cell_type": "code",
      "execution_count": null,
      "id": "d04434d4-94ca-47f8-9cd1-2a2d859c5023",
      "metadata": {
        "id": "d04434d4-94ca-47f8-9cd1-2a2d859c5023"
      },
      "outputs": [],
      "source": [
        "18. Q: What is the significance of confidence intervals in statistical analysis?\n",
        "A: They provide a range where the true population parameter is likely to fall, adding reliability to estimates."
      ]
    },
    {
      "cell_type": "code",
      "execution_count": null,
      "id": "33ca93a1-501e-454c-b2cd-35129dae1712",
      "metadata": {
        "id": "33ca93a1-501e-454c-b2cd-35129dae1712"
      },
      "outputs": [],
      "source": [
        "19. Q: What is the relationship between a Z-score and a confidence interval?\n",
        "A: Z-scores determine the critical values for constructing confidence intervals.\n",
        "\n",
        "📌 Example:\n",
        "For 95% confidence: use Z ≈ ±1.96"
      ]
    },
    {
      "cell_type": "code",
      "execution_count": null,
      "id": "15d76e44-354a-4bb3-88d4-e7aab1e79ff3",
      "metadata": {
        "id": "15d76e44-354a-4bb3-88d4-e7aab1e79ff3"
      },
      "outputs": [],
      "source": [
        "20. Q: How are Z-scores used to compare different distributions?\n",
        "A: Z-scores standardize different datasets to a common scale, making them comparable."
      ]
    },
    {
      "cell_type": "code",
      "execution_count": null,
      "id": "aa442207-37a2-4b43-b65b-f847d1f35a38",
      "metadata": {
        "id": "aa442207-37a2-4b43-b65b-f847d1f35a38"
      },
      "outputs": [],
      "source": [
        "21. Q: What are the assumptions for applying the Central Limit Theorem?\n",
        "A:\n",
        "\n",
        "Sample size should be large (n ≥ 30 is common)\n",
        "\n",
        "Random sampling\n",
        "\n",
        "Independent observations"
      ]
    },
    {
      "cell_type": "code",
      "execution_count": null,
      "id": "0fae6d97-d0c0-4418-ad76-47b6cd2bee3d",
      "metadata": {
        "id": "0fae6d97-d0c0-4418-ad76-47b6cd2bee3d"
      },
      "outputs": [],
      "source": [
        "22. Q: What is the concept of expected value in a probability distribution?\n",
        "A: The long-run average value of repetitions of the experiment."
      ]
    },
    {
      "cell_type": "code",
      "execution_count": null,
      "id": "d91a9270-fefc-45dc-ae80-7579f7659b52",
      "metadata": {
        "id": "d91a9270-fefc-45dc-ae80-7579f7659b52",
        "outputId": "4ab416fe-62f9-421e-bb33-32e1d0c988a7"
      },
      "outputs": [
        {
          "name": "stdout",
          "output_type": "stream",
          "text": [
            "Expected Value: 2.1\n"
          ]
        }
      ],
      "source": [
        "values = [1, 2, 3]\n",
        "probs = [0.2, 0.5, 0.3]\n",
        "expected_value = sum(x*p for x, p in zip(values, probs))\n",
        "print(\"Expected Value:\", expected_value)"
      ]
    },
    {
      "cell_type": "code",
      "execution_count": null,
      "id": "a290e752-b372-4234-b092-de8b2f4084e2",
      "metadata": {
        "id": "a290e752-b372-4234-b092-de8b2f4084e2"
      },
      "outputs": [],
      "source": [
        "23. Q: How does a probability distribution relate to the expected outcome of a random variable?\n",
        "A: The probability distribution defines the likelihood of each outcome, and the expected value summarizes the average outcome over many trials."
      ]
    },
    {
      "cell_type": "code",
      "execution_count": null,
      "id": "9f2985bb-422c-4253-8091-3cedb2d1e4dd",
      "metadata": {
        "id": "9f2985bb-422c-4253-8091-3cedb2d1e4dd"
      },
      "outputs": [],
      "source": [
        "##Practical questions from here"
      ]
    },
    {
      "cell_type": "code",
      "execution_count": null,
      "id": "dc342020-664a-4af0-9e54-328b3f3756c3",
      "metadata": {
        "id": "dc342020-664a-4af0-9e54-328b3f3756c3"
      },
      "outputs": [],
      "source": [
        "Q1: Write a Python program to generate a random variable and display its value."
      ]
    },
    {
      "cell_type": "code",
      "execution_count": null,
      "id": "17f5f129-dcbc-44bc-99cb-faa2eb68a547",
      "metadata": {
        "id": "17f5f129-dcbc-44bc-99cb-faa2eb68a547",
        "outputId": "f602276f-a738-4b11-cd8a-e511e0b46e49"
      },
      "outputs": [
        {
          "name": "stdout",
          "output_type": "stream",
          "text": [
            "Random Variable Value: 2\n"
          ]
        }
      ],
      "source": [
        "import random\n",
        "\n",
        "# Generate a random integer between 1 and 10\n",
        "random_variable = random.randint(1, 10)\n",
        "print(\"Random Variable Value:\", random_variable)"
      ]
    },
    {
      "cell_type": "code",
      "execution_count": null,
      "id": "d6d015b6-2fb7-4d26-be2e-5de9d75a4998",
      "metadata": {
        "id": "d6d015b6-2fb7-4d26-be2e-5de9d75a4998"
      },
      "outputs": [],
      "source": [
        "Q2: Generate a discrete uniform distribution using Python and plot the probability mass function (PMF)."
      ]
    },
    {
      "cell_type": "code",
      "execution_count": null,
      "id": "e58ddb21-ee85-4f2b-81bf-e3ab9297b699",
      "metadata": {
        "id": "e58ddb21-ee85-4f2b-81bf-e3ab9297b699",
        "outputId": "9d980d99-07e0-42fc-a944-4f3948476f3a"
      },
      "outputs": [
        {
          "data": {
            "image/png": "[encoded data removed]",
            "text/plain": [
              "<Figure size 640x480 with 1 Axes>"
            ]
          },
          "metadata": {},
          "output_type": "display_data"
        }
      ],
      "source": [
        "import numpy as np\n",
        "import matplotlib.pyplot as plt\n",
        "from scipy.stats import randint\n",
        "\n",
        "# Define discrete uniform distribution (e.g., integers from 1 to 6)\n",
        "low, high = 1, 7\n",
        "x = np.arange(low, high)\n",
        "pmf = randint.pmf(x, low, high)\n",
        "\n",
        "# Plot PMF\n",
        "plt.stem(x, pmf)\n",
        "plt.title('PMF of Discrete Uniform Distribution')\n",
        "plt.xlabel('x')\n",
        "plt.ylabel('P(X=x)')\n",
        "plt.grid(True)\n",
        "plt.show()"
      ]
    },
    {
      "cell_type": "code",
      "execution_count": null,
      "id": "d4f8e0c2-63d3-4f3c-b02b-066ffdbe5238",
      "metadata": {
        "id": "d4f8e0c2-63d3-4f3c-b02b-066ffdbe5238"
      },
      "outputs": [],
      "source": [
        "Q3: Write a Python function to calculate the probability distribution function (PDF) of a Bernoulli distribution."
      ]
    },
    {
      "cell_type": "code",
      "execution_count": null,
      "id": "a147b480-f6bd-4275-ba24-0edc24b76499",
      "metadata": {
        "id": "a147b480-f6bd-4275-ba24-0edc24b76499",
        "outputId": "1cec3a03-9099-48fb-ac61-9893fcd0148a"
      },
      "outputs": [
        {
          "name": "stdout",
          "output_type": "stream",
          "text": [
            "P(X=0) = 0.4000000000000001\n",
            "P(X=1) = 0.6\n"
          ]
        }
      ],
      "source": [
        "from scipy.stats import bernoulli\n",
        "\n",
        "def bernoulli_pdf(p):\n",
        "    x = [0, 1]\n",
        "    probs = bernoulli.pmf(x, p)\n",
        "    for val, prob in zip(x, probs):\n",
        "        print(f\"P(X={val}) = {prob}\")\n",
        "\n",
        "# Example with p = 0.6\n",
        "bernoulli_pdf(0.6)"
      ]
    },
    {
      "cell_type": "code",
      "execution_count": null,
      "id": "e159e01e-a70c-410e-9ec5-debc5b3d12bc",
      "metadata": {
        "id": "e159e01e-a70c-410e-9ec5-debc5b3d12bc"
      },
      "outputs": [],
      "source": [
        "Q4: Write a Python script to simulate a binomial distribution with n=10 and p=0.5, then plot its histogram."
      ]
    },
    {
      "cell_type": "code",
      "execution_count": null,
      "id": "430e13b2-542b-4397-aa8b-6ffca72c7273",
      "metadata": {
        "id": "430e13b2-542b-4397-aa8b-6ffca72c7273",
        "outputId": "8d56fbce-1941-41f8-efda-ede5f3c73918"
      },
      "outputs": [
        {
          "data": {
            "image/png": "[encoded data removed]",
            "text/plain": [
              "<Figure size 640x480 with 1 Axes>"
            ]
          },
          "metadata": {},
          "output_type": "display_data"
        }
      ],
      "source": [
        "import numpy as np\n",
        "import matplotlib.pyplot as plt\n",
        "\n",
        "# Simulate binomial distribution\n",
        "n, p = 10, 0.5\n",
        "data = np.random.binomial(n, p, size=1000)\n",
        "\n",
        "# Plot histogram\n",
        "plt.hist(data, bins=np.arange(0, 12)-0.5, density=True, edgecolor='black')\n",
        "plt.title('Binomial Distribution (n=10, p=0.5)')\n",
        "plt.xlabel('Number of Successes')\n",
        "plt.ylabel('Frequency')\n",
        "plt.grid(True)\n",
        "plt.show()"
      ]
    },
    {
      "cell_type": "code",
      "execution_count": null,
      "id": "8b440a07-4146-4a04-a99d-e5e56d7b56ff",
      "metadata": {
        "id": "8b440a07-4146-4a04-a99d-e5e56d7b56ff"
      },
      "outputs": [],
      "source": [
        "Q5: Create a Poisson distribution and visualize it using Python."
      ]
    },
    {
      "cell_type": "code",
      "execution_count": null,
      "id": "2743fc1b-9ac1-46e4-b53d-c5081c923c28",
      "metadata": {
        "id": "2743fc1b-9ac1-46e4-b53d-c5081c923c28",
        "outputId": "38158b37-5a14-4b61-dfc6-596db250b915"
      },
      "outputs": [
        {
          "data": {
            "image/png": "[encoded data removed]",
            "text/plain": [
              "<Figure size 640x480 with 1 Axes>"
            ]
          },
          "metadata": {},
          "output_type": "display_data"
        }
      ],
      "source": [
        "from scipy.stats import poisson\n",
        "\n",
        "mu = 3  # average number of events\n",
        "x = np.arange(0, 10)\n",
        "pmf = poisson.pmf(x, mu)\n",
        "\n",
        "plt.stem(x, pmf)\n",
        "plt.title('Poisson Distribution (μ=3)')\n",
        "plt.xlabel('Number of Events')\n",
        "plt.ylabel('Probability')\n",
        "plt.grid(True)\n",
        "plt.show()"
      ]
    },
    {
      "cell_type": "code",
      "execution_count": null,
      "id": "2cbcea7a-9c5a-4015-aa91-6f259115ca1a",
      "metadata": {
        "id": "2cbcea7a-9c5a-4015-aa91-6f259115ca1a"
      },
      "outputs": [],
      "source": [
        "Q6: Write a Python program to calculate and plot the cumulative distribution function (CDF) of a discrete uniform distribution."
      ]
    },
    {
      "cell_type": "code",
      "execution_count": null,
      "id": "18bf57ee-270a-4fc7-a51e-02c10450de57",
      "metadata": {
        "id": "18bf57ee-270a-4fc7-a51e-02c10450de57",
        "outputId": "db74bfc1-1124-4f8f-e91e-7b467cd9a921"
      },
      "outputs": [
        {
          "data": {
            "image/png": "[encoded data removed]",
            "text/plain": [
              "<Figure size 640x480 with 1 Axes>"
            ]
          },
          "metadata": {},
          "output_type": "display_data"
        }
      ],
      "source": [
        "from scipy.stats import randint\n",
        "\n",
        "low, high = 1, 7\n",
        "x = np.arange(low, high)\n",
        "cdf = randint.cdf(x, low, high)\n",
        "\n",
        "plt.step(x, cdf, where='post')\n",
        "plt.title('CDF of Discrete Uniform Distribution')\n",
        "plt.xlabel('x')\n",
        "plt.ylabel('P(X ≤ x)')\n",
        "plt.grid(True)\n",
        "plt.show()"
      ]
    },
    {
      "cell_type": "code",
      "execution_count": null,
      "id": "3bd96634-df2f-43cc-bbef-038ee0b74618",
      "metadata": {
        "id": "3bd96634-df2f-43cc-bbef-038ee0b74618"
      },
      "outputs": [],
      "source": [
        "Q7: Generate a continuous uniform distribution using NumPy and visualize it."
      ]
    },
    {
      "cell_type": "code",
      "execution_count": null,
      "id": "08efbb8b-a701-4437-a35e-8374a8e840c8",
      "metadata": {
        "id": "08efbb8b-a701-4437-a35e-8374a8e840c8",
        "outputId": "0aa3d2f6-de96-4428-8e6b-75807f10e38c"
      },
      "outputs": [
        {
          "data": {
            "image/png": "[encoded data removed]",
            "text/plain": [
              "<Figure size 640x480 with 1 Axes>"
            ]
          },
          "metadata": {},
          "output_type": "display_data"
        }
      ],
      "source": [
        "data = np.random.uniform(0, 1, size=1000)\n",
        "\n",
        "plt.hist(data, bins=20, edgecolor='black', density=True)\n",
        "plt.title('Continuous Uniform Distribution U(0,1)')\n",
        "plt.xlabel('Value')\n",
        "plt.ylabel('Density')\n",
        "plt.grid(True)\n",
        "plt.show()"
      ]
    },
    {
      "cell_type": "code",
      "execution_count": null,
      "id": "19ef0ea3-88b3-404d-9861-25c6cffaf3c6",
      "metadata": {
        "id": "19ef0ea3-88b3-404d-9861-25c6cffaf3c6"
      },
      "outputs": [],
      "source": [
        "Q8: Simulate data from a normal distribution and plot its histogram."
      ]
    },
    {
      "cell_type": "code",
      "execution_count": null,
      "id": "2a8693fc-af8f-471a-a7e4-645022fa4524",
      "metadata": {
        "id": "2a8693fc-af8f-471a-a7e4-645022fa4524",
        "outputId": "9cffad49-dae0-4d7f-fb56-eb1d05672076"
      },
      "outputs": [
        {
          "data": {
            "image/png": "[encoded data removed]",
            "text/plain": [
              "<Figure size 640x480 with 1 Axes>"
            ]
          },
          "metadata": {},
          "output_type": "display_data"
        }
      ],
      "source": [
        "mu, sigma = 0, 1\n",
        "data = np.random.normal(mu, sigma, 1000)\n",
        "\n",
        "plt.hist(data, bins=30, edgecolor='black', density=True)\n",
        "plt.title('Histogram of Normal Distribution (μ=0, σ=1)')\n",
        "plt.xlabel('Value')\n",
        "plt.ylabel('Density')\n",
        "plt.grid(True)\n",
        "plt.show()"
      ]
    },
    {
      "cell_type": "code",
      "execution_count": null,
      "id": "3fedaa19-bd01-43da-b135-0f4a1c9c5313",
      "metadata": {
        "id": "3fedaa19-bd01-43da-b135-0f4a1c9c5313"
      },
      "outputs": [],
      "source": [
        "Q9: Write a Python function to calculate Z-scores from a dataset and plot them."
      ]
    },
    {
      "cell_type": "code",
      "execution_count": null,
      "id": "4b6fce81-d5d7-4476-b914-fde1393c7ccc",
      "metadata": {
        "id": "4b6fce81-d5d7-4476-b914-fde1393c7ccc",
        "outputId": "513214ce-c49f-44c6-a036-be7d0f304257"
      },
      "outputs": [
        {
          "data": {
            "image/png": "[encoded data removed]",
            "text/plain": [
              "<Figure size 640x480 with 1 Axes>"
            ]
          },
          "metadata": {},
          "output_type": "display_data"
        }
      ],
      "source": [
        "import seaborn as sns\n",
        "\n",
        "def plot_z_scores(data):\n",
        "    mean = np.mean(data)\n",
        "    std = np.std(data)\n",
        "    z_scores = (data - mean) / std\n",
        "\n",
        "    sns.histplot(z_scores, kde=True)\n",
        "    plt.title('Z-scores of the Data')\n",
        "    plt.xlabel('Z-score')\n",
        "    plt.ylabel('Frequency')\n",
        "    plt.grid(True)\n",
        "    plt.show()\n",
        "    return z_scores\n",
        "\n",
        "# Example usage\n",
        "data = np.random.normal(50, 10, 1000)\n",
        "z_scores = plot_z_scores(data)"
      ]
    },
    {
      "cell_type": "code",
      "execution_count": null,
      "id": "91e10ebc-800a-4f3c-8125-6e58f224bc2a",
      "metadata": {
        "id": "91e10ebc-800a-4f3c-8125-6e58f224bc2a"
      },
      "outputs": [],
      "source": [
        "Q10: Implement the Central Limit Theorem (CLT) using Python for a non-normal distribution."
      ]
    },
    {
      "cell_type": "code",
      "execution_count": null,
      "id": "c98496f0-4a93-47e6-9389-86fc456af2cc",
      "metadata": {
        "id": "c98496f0-4a93-47e6-9389-86fc456af2cc",
        "outputId": "b087823f-4c9e-40d6-bf19-031eb4e27e11"
      },
      "outputs": [
        {
          "data": {
            "image/png": "[encoded data removed]",
            "text/plain": [
              "<Figure size 640x480 with 1 Axes>"
            ]
          },
          "metadata": {},
          "output_type": "display_data"
        }
      ],
      "source": [
        "# Original population: exponential (non-normal)\n",
        "population = np.random.exponential(scale=2.0, size=10000)\n",
        "\n",
        "# Draw sample means\n",
        "sample_means = []\n",
        "for _ in range(1000):\n",
        "    sample = np.random.choice(population, size=30)\n",
        "    sample_means.append(np.mean(sample))\n",
        "\n",
        "# Plot histogram of sample means\n",
        "plt.hist(sample_means, bins=30, edgecolor='black', density=True)\n",
        "plt.title('Central Limit Theorem Demonstration')\n",
        "plt.xlabel('Sample Mean')\n",
        "plt.ylabel('Density')\n",
        "plt.grid(True)\n",
        "plt.show()"
      ]
    },
    {
      "cell_type": "code",
      "execution_count": null,
      "id": "0bf10cde-1734-4856-8920-518f9d261d3a",
      "metadata": {
        "id": "0bf10cde-1734-4856-8920-518f9d261d3a"
      },
      "outputs": [],
      "source": [
        "Q11: Simulate multiple samples from a normal distribution and verify the Central Limit Theorem (CLT)."
      ]
    },
    {
      "cell_type": "code",
      "source": [
        "import numpy as np\n",
        "import matplotlib.pyplot as plt\n",
        "\n",
        "# Simulate population from normal distribution\n",
        "population = np.random.normal(loc=50, scale=15, size=100000)\n",
        "\n",
        "# Draw multiple sample means\n",
        "sample_means = [np.mean(np.random.choice(population, 30)) for _ in range(1000)]\n",
        "\n",
        "# Plot histogram of sample means\n",
        "plt.hist(sample_means, bins=30, edgecolor='black', density=True)\n",
        "plt.title('CLT: Distribution of Sample Means')\n",
        "plt.xlabel('Sample Mean')\n",
        "plt.ylabel('Density')\n",
        "plt.grid(True)\n",
        "plt.show()\n"
      ],
      "metadata": {
        "colab": {
          "base_uri": "https://localhost:8080/",
          "height": 472
        },
        "id": "YcAbC_g7B0tj",
        "outputId": "0af1165f-85bc-4c8a-cd03-b2f3b3c00c2a"
      },
      "id": "YcAbC_g7B0tj",
      "execution_count": 1,
      "outputs": [
        {
          "output_type": "display_data",
          "data": {
            "text/plain": [
              "<Figure size 640x480 with 1 Axes>"
            ],
            "image/png": "[encoded data removed]"
          },
          "metadata": {}
        }
      ]
    },
    {
      "cell_type": "code",
      "source": [
        "Q12: Write a Python function to calculate and plot the standard normal distribution (mean = 0, std = 1)."
      ],
      "metadata": {
        "id": "9KIOQApUB78T"
      },
      "id": "9KIOQApUB78T",
      "execution_count": null,
      "outputs": []
    },
    {
      "cell_type": "code",
      "source": [
        "from scipy.stats import norm\n",
        "\n",
        "def plot_standard_normal():\n",
        "    x = np.linspace(-4, 4, 1000)\n",
        "    y = norm.pdf(x, 0, 1)\n",
        "\n",
        "    plt.plot(x, y)\n",
        "    plt.title('Standard Normal Distribution')\n",
        "    plt.xlabel('Z')\n",
        "    plt.ylabel('Density')\n",
        "    plt.grid(True)\n",
        "    plt.show()\n",
        "\n",
        "plot_standard_normal()\n"
      ],
      "metadata": {
        "colab": {
          "base_uri": "https://localhost:8080/",
          "height": 472
        },
        "id": "8rrX1H1KB8en",
        "outputId": "20ecd39b-0693-4f91-b659-418e9aaae2ba"
      },
      "id": "8rrX1H1KB8en",
      "execution_count": 2,
      "outputs": [
        {
          "output_type": "display_data",
          "data": {
            "text/plain": [
              "<Figure size 640x480 with 1 Axes>"
            ],
            "image/png": "[encoded data removed]"
          },
          "metadata": {}
        }
      ]
    },
    {
      "cell_type": "code",
      "source": [
        "Q13: Generate random variables and calculate their corresponding probabilities using the binomial distribution."
      ],
      "metadata": {
        "id": "FtA_uxJuCEEn"
      },
      "id": "FtA_uxJuCEEn",
      "execution_count": null,
      "outputs": []
    },
    {
      "cell_type": "code",
      "source": [
        "from scipy.stats import binom\n",
        "\n",
        "n, p = 10, 0.5\n",
        "x = np.arange(0, n+1)\n",
        "pmf = binom.pmf(x, n, p)\n",
        "\n",
        "for xi, prob in zip(x, pmf):\n",
        "    print(f\"P(X={xi}) = {prob:.4f}\")\n"
      ],
      "metadata": {
        "colab": {
          "base_uri": "https://localhost:8080/"
        },
        "id": "VApVML2jCFCY",
        "outputId": "8e0ec6aa-e571-47fa-eba0-fd0ae9340a40"
      },
      "id": "VApVML2jCFCY",
      "execution_count": 3,
      "outputs": [
        {
          "output_type": "stream",
          "name": "stdout",
          "text": [
            "P(X=0) = 0.0010\n",
            "P(X=1) = 0.0098\n",
            "P(X=2) = 0.0439\n",
            "P(X=3) = 0.1172\n",
            "P(X=4) = 0.2051\n",
            "P(X=5) = 0.2461\n",
            "P(X=6) = 0.2051\n",
            "P(X=7) = 0.1172\n",
            "P(X=8) = 0.0439\n",
            "P(X=9) = 0.0098\n",
            "P(X=10) = 0.0010\n"
          ]
        }
      ]
    },
    {
      "cell_type": "code",
      "source": [
        "Q14: Write a Python program to calculate the Z-score for a given data point and compare it to a standard normal distribution."
      ],
      "metadata": {
        "id": "YGhqFrvYCQFn"
      },
      "id": "YGhqFrvYCQFn",
      "execution_count": null,
      "outputs": []
    },
    {
      "cell_type": "code",
      "source": [
        "from scipy.stats import norm\n",
        "\n",
        "def calculate_z_score(x, mean, std):\n",
        "    z = (x - mean) / std\n",
        "    p = norm.cdf(z)\n",
        "    print(f\"Z-score: {z:.2f}\")\n",
        "    print(f\"Probability of observing a value less than {x}: {p:.4f}\")\n",
        "\n",
        "calculate_z_score(75, mean=70, std=10)\n"
      ],
      "metadata": {
        "id": "aWeabmOgCSEO"
      },
      "id": "aWeabmOgCSEO",
      "execution_count": null,
      "outputs": []
    },
    {
      "cell_type": "code",
      "source": [
        "Q15: Implement hypothesis testing using Z-statistics for a sample dataset."
      ],
      "metadata": {
        "id": "hlX8MKreCYNB"
      },
      "id": "hlX8MKreCYNB",
      "execution_count": null,
      "outputs": []
    },
    {
      "cell_type": "code",
      "source": [
        "# Hypothesis Test: Is the sample mean significantly different from the population mean?\n",
        "sample = np.random.normal(102, 10, 30)\n",
        "sample_mean = np.mean(sample)\n",
        "pop_mean = 100\n",
        "std = 10\n",
        "\n",
        "z = (sample_mean - pop_mean) / (std / np.sqrt(len(sample)))\n",
        "p_value = 2 * (1 - norm.cdf(abs(z)))\n",
        "\n",
        "print(f\"Z-statistic = {z:.2f}, p-value = {p_value:.4f}\")\n"
      ],
      "metadata": {
        "id": "5CHRqkl7CauQ"
      },
      "id": "5CHRqkl7CauQ",
      "execution_count": null,
      "outputs": []
    },
    {
      "cell_type": "code",
      "source": [
        "Q16: Create a confidence interval for a dataset using Python and interpret the result."
      ],
      "metadata": {
        "id": "TW2oaXtDCffN"
      },
      "id": "TW2oaXtDCffN",
      "execution_count": null,
      "outputs": []
    },
    {
      "cell_type": "code",
      "source": [
        "import scipy.stats as stats\n",
        "\n",
        "data = np.random.normal(50, 10, 100)\n",
        "mean = np.mean(data)\n",
        "sem = stats.sem(data)\n",
        "ci = stats.t.interval(0.95, len(data)-1, loc=mean, scale=sem)\n",
        "\n",
        "print(f\"95% Confidence Interval: {ci}\")\n"
      ],
      "metadata": {
        "id": "QVyPMblYCgDd"
      },
      "id": "QVyPMblYCgDd",
      "execution_count": null,
      "outputs": []
    },
    {
      "cell_type": "code",
      "source": [
        "Q17: Generate data from a normal distribution, then calculate and interpret the confidence interval for its mean."
      ],
      "metadata": {
        "id": "KiIfzbTWCuAD"
      },
      "id": "KiIfzbTWCuAD",
      "execution_count": null,
      "outputs": []
    },
    {
      "cell_type": "code",
      "source": [
        "data = np.random.normal(loc=70, scale=12, size=50)\n",
        "mean = np.mean(data)\n",
        "sem = stats.sem(data)\n",
        "ci = stats.t.interval(0.95, len(data)-1, loc=mean, scale=sem)\n",
        "\n",
        "print(f\"Mean = {mean:.2f}\")\n",
        "print(f\"95% Confidence Interval for the Mean: {ci}\")\n"
      ],
      "metadata": {
        "id": "ydp6yWJ5Cuv3"
      },
      "id": "ydp6yWJ5Cuv3",
      "execution_count": null,
      "outputs": []
    },
    {
      "cell_type": "code",
      "source": [
        "Q18: Write a Python script to calculate and visualize the probability density function (PDF) of a normal distribution."
      ],
      "metadata": {
        "id": "PE_UzfCVC0aX"
      },
      "id": "PE_UzfCVC0aX",
      "execution_count": null,
      "outputs": []
    },
    {
      "cell_type": "code",
      "source": [
        "mu, sigma = 0, 1\n",
        "x = np.linspace(-4, 4, 1000)\n",
        "pdf = norm.pdf(x, mu, sigma)\n",
        "\n",
        "plt.plot(x, pdf)\n",
        "plt.title('PDF of Normal Distribution (μ=0, σ=1)')\n",
        "plt.xlabel('x')\n",
        "plt.ylabel('Density')\n",
        "plt.grid(True)\n",
        "plt.show()\n"
      ],
      "metadata": {
        "id": "iHebPJkWC3IS"
      },
      "id": "iHebPJkWC3IS",
      "execution_count": null,
      "outputs": []
    },
    {
      "cell_type": "code",
      "source": [
        "Q19: Use Python to calculate and interpret the cumulative distribution function (CDF) of a Poisson distribution."
      ],
      "metadata": {
        "id": "nXSP-EUsC-pd"
      },
      "id": "nXSP-EUsC-pd",
      "execution_count": null,
      "outputs": []
    },
    {
      "cell_type": "code",
      "source": [
        "from scipy.stats import poisson\n",
        "\n",
        "mu = 3\n",
        "x = np.arange(0, 10)\n",
        "cdf = poisson.cdf(x, mu)\n",
        "\n",
        "for xi, prob in zip(x, cdf):\n",
        "    print(f\"P(X ≤ {xi}) = {prob:.4f}\")\n"
      ],
      "metadata": {
        "id": "_Ct5hLfwC_bl"
      },
      "id": "_Ct5hLfwC_bl",
      "execution_count": null,
      "outputs": []
    },
    {
      "cell_type": "code",
      "source": [
        "Q20: Simulate a random variable using a continuous uniform distribution and calculate its expected value."
      ],
      "metadata": {
        "id": "R_qwT_BdD1H7"
      },
      "id": "R_qwT_BdD1H7",
      "execution_count": null,
      "outputs": []
    },
    {
      "cell_type": "code",
      "source": [
        "a, b = 10, 20\n",
        "data = np.random.uniform(a, b, 1000)\n",
        "expected_value = np.mean(data)\n",
        "\n",
        "print(f\"Expected Value (Approx): {expected_value:.2f}\")\n"
      ],
      "metadata": {
        "id": "2X2x4CZ1D4SE"
      },
      "id": "2X2x4CZ1D4SE",
      "execution_count": null,
      "outputs": []
    },
    {
      "cell_type": "code",
      "source": [
        "Q21: Write a Python program to compare the standard deviations of two datasets and visualize the difference."
      ],
      "metadata": {
        "id": "VFGx0160EKQv"
      },
      "id": "VFGx0160EKQv",
      "execution_count": null,
      "outputs": []
    },
    {
      "cell_type": "code",
      "source": [
        "data1 = np.random.normal(50, 5, 1000)\n",
        "data2 = np.random.normal(50, 15, 1000)\n",
        "\n",
        "print(\"Standard Deviation of Dataset 1:\", np.std(data1))\n",
        "print(\"Standard Deviation of Dataset 2:\", np.std(data2))\n",
        "\n",
        "plt.hist(data1, bins=30, alpha=0.6, label='SD = 5')\n",
        "plt.hist(data2, bins=30, alpha=0.6, label='SD = 15')\n",
        "plt.legend()\n",
        "plt.title('Comparison of Standard Deviations')\n",
        "plt.grid(True)\n",
        "plt.show()\n"
      ],
      "metadata": {
        "id": "AvDAqxKtELAM"
      },
      "id": "AvDAqxKtELAM",
      "execution_count": null,
      "outputs": []
    },
    {
      "cell_type": "code",
      "source": [
        "Q22: Calculate the range and interquartile range (IQR) of a dataset generated from a normal distribution."
      ],
      "metadata": {
        "id": "R_Uql1C7ERxt"
      },
      "id": "R_Uql1C7ERxt",
      "execution_count": null,
      "outputs": []
    },
    {
      "cell_type": "code",
      "source": [
        "data = np.random.normal(100, 20, 1000)\n",
        "data_range = np.max(data) - np.min(data)\n",
        "iqr = np.percentile(data, 75) - np.percentile(data, 25)\n",
        "\n",
        "print(f\"Range: {data_range:.2f}\")\n",
        "print(f\"IQR: {iqr:.2f}\")\n"
      ],
      "metadata": {
        "id": "rOrLQAzuEWNz"
      },
      "id": "rOrLQAzuEWNz",
      "execution_count": null,
      "outputs": []
    },
    {
      "cell_type": "code",
      "source": [
        "Q23: Implement Z-score normalization on a dataset and visualize its transformation."
      ],
      "metadata": {
        "id": "PUAOunB7EfXz"
      },
      "id": "PUAOunB7EfXz",
      "execution_count": null,
      "outputs": []
    },
    {
      "cell_type": "code",
      "source": [
        "data = np.random.normal(80, 15, 1000)\n",
        "z_scores = (data - np.mean(data)) / np.std(data)\n",
        "\n",
        "plt.hist(z_scores, bins=30, edgecolor='black')\n",
        "plt.title('Z-score Normalized Data')\n",
        "plt.xlabel('Z-score')\n",
        "plt.ylabel('Frequency')\n",
        "plt.grid(True)\n",
        "plt.show()\n"
      ],
      "metadata": {
        "id": "WmNqeCAOEibP"
      },
      "id": "WmNqeCAOEibP",
      "execution_count": null,
      "outputs": []
    },
    {
      "cell_type": "code",
      "source": [
        "Q24: Write a Python function to calculate the skewness and kurtosis of a dataset generated from a normal distribution."
      ],
      "metadata": {
        "id": "MT9HoG40EjEw"
      },
      "id": "MT9HoG40EjEw",
      "execution_count": null,
      "outputs": []
    },
    {
      "cell_type": "code",
      "source": [
        "from scipy.stats import skew, kurtosis\n",
        "\n",
        "def calculate_skew_kurtosis(data):\n",
        "    sk = skew(data)\n",
        "    ku = kurtosis(data)\n",
        "    print(f\"Skewness: {sk:.2f}\")\n",
        "    print(f\"Kurtosis: {ku:.2f}\")\n",
        "\n",
        "# Generate normal data\n",
        "data = np.random.normal(0, 1, 1000)\n",
        "calculate_skew_kurtosis(data)\n"
      ],
      "metadata": {
        "id": "eY75t2L5EkJj"
      },
      "id": "eY75t2L5EkJj",
      "execution_count": null,
      "outputs": []
    },
    {
      "cell_type": "code",
      "source": [],
      "metadata": {
        "id": "kT0Lo3C2Ej_R"
      },
      "id": "kT0Lo3C2Ej_R",
      "execution_count": null,
      "outputs": []
    },
    {
      "cell_type": "code",
      "source": [],
      "metadata": {
        "id": "H7sMig8qEjgW"
      },
      "id": "H7sMig8qEjgW",
      "execution_count": null,
      "outputs": []
    }
  ],
  "metadata": {
    "kernelspec": {
      "display_name": "Python 3 (ipykernel)",
      "language": "python",
      "name": "python3"
    },
    "language_info": {
      "codemirror_mode": {
        "name": "ipython",
        "version": 3
      },
      "file_extension": ".py",
      "mimetype": "text/x-python",
      "name": "python",
      "nbconvert_exporter": "python",
      "pygments_lexer": "ipython3",
      "version": "3.12.7"
    },
    "colab": {
      "provenance": []
    }
  },
  "nbformat": 4,
  "nbformat_minor": 5
}