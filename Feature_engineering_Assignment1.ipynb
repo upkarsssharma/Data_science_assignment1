{
  "cells": [
    {
      "cell_type": "markdown",
      "id": "15f410c1",
      "metadata": {
        "id": "15f410c1"
      },
      "source": [
        "### What is a parameter?\n",
        "\n",
        "A **parameter** is an internal variable in a model that is learned from the data during training.\n",
        "In linear regression, for example, the slope and intercept are parameters.\n",
        "\n",
        "```python\n",
        "from sklearn.linear_model import LinearRegression\n",
        "model = LinearRegression().fit(X, y)\n",
        "print(model.coef_)       # slope(s)\n",
        "print(model.intercept_)  # intercept\n",
        "```"
      ]
    },
    {
      "cell_type": "markdown",
      "id": "bac4df46",
      "metadata": {
        "id": "bac4df46"
      },
      "source": [
        "### What is correlation?\n",
        "\n",
        "Correlation is a statistical measure that describes the strength and direction of a relationship between two variables."
      ]
    },
    {
      "cell_type": "markdown",
      "id": "86104b53",
      "metadata": {
        "id": "86104b53"
      },
      "source": [
        "### What does negative correlation mean?\n",
        "\n",
        "A **negative correlation** means that as one variable increases, the other decreases.\n",
        "\n",
        "```python\n",
        "import pandas as pd\n",
        "\n",
        "df = pd.DataFrame({'hours_of_tv': [1, 2, 3, 4], 'grades': [90, 85, 80, 70]})\n",
        "print(df.corr())  # Shows negative correlation between TV and grades\n",
        "```"
      ]
    },
    {
      "cell_type": "markdown",
      "id": "0b13cc82",
      "metadata": {
        "id": "0b13cc82"
      },
      "source": [
        "### Define Machine Learning. What are the main components in Machine Learning?\n",
        "\n",
        "**Machine Learning** is a field of study that gives computers the ability to learn from data without being explicitly programmed.\n",
        "\n",
        "**Main components**:\n",
        "- Dataset\n",
        "- Features & labels\n",
        "- Model\n",
        "- Loss function\n",
        "- Optimizer\n",
        "- Evaluation metric"
      ]
    },
    {
      "cell_type": "markdown",
      "id": "5f80e701",
      "metadata": {
        "id": "5f80e701"
      },
      "source": [
        "### How does loss value help in determining whether the model is good or not?\n",
        "\n",
        "Loss value indicates how far the model's predictions are from the actual values. A lower loss indicates better performance."
      ]
    },
    {
      "cell_type": "markdown",
      "id": "f00185eb",
      "metadata": {
        "id": "f00185eb"
      },
      "source": [
        "### What are continuous and categorical variables?\n",
        "\n",
        "- **Continuous variables**: Numeric values with infinite possibilities (e.g., weight, height).\n",
        "- **Categorical variables**: Represent categories or labels (e.g., gender, country)."
      ]
    },
    {
      "cell_type": "markdown",
      "id": "2b92c82b-9fdd-465e-9129-b625c0cb2c0a",
      "metadata": {
        "id": "2b92c82b-9fdd-465e-9129-b625c0cb2c0a"
      },
      "source": [
        "### How do we handle categorical variables in Machine Learning?\n",
        "\n",
        "**Techniques**:\n",
        "- Label Encoding\n",
        "- One-Hot Encoding\n",
        "\n",
        "```python"
      ]
    },
    {
      "cell_type": "markdown",
      "id": "9081ed9a-81f4-42eb-9ddf-9b2c8e1e120b",
      "metadata": {
        "id": "9081ed9a-81f4-42eb-9ddf-9b2c8e1e120b"
      },
      "source": [
        "from sklearn.preprocessing import OneHotEncoder\n",
        "\n",
        "encoder = OneHotEncoder()\n",
        "encoded = encoder.fit_transform([['Male'], ['Female'], ['Male']]).toarray()\n",
        "print(encoded)"
      ]
    },
    {
      "cell_type": "markdown",
      "id": "2a53832f-f104-48d7-b74a-7a11ed9b1544",
      "metadata": {
        "id": "2a53832f-f104-48d7-b74a-7a11ed9b1544"
      },
      "source": []
    },
    {
      "cell_type": "markdown",
      "id": "4fc1d20a",
      "metadata": {
        "id": "4fc1d20a"
      },
      "source": [
        "### What do you mean by training and testing a dataset?\n",
        "\n",
        "- **Training set**: Used to train the model.\n",
        "- **Test set**: Used to evaluate the model’s performance on unseen data."
      ]
    },
    {
      "cell_type": "markdown",
      "id": "e6320b41",
      "metadata": {
        "id": "e6320b41"
      },
      "source": [
        "### What is sklearn.preprocessing?\n",
        "\n",
        "`sklearn.preprocessing` provides preprocessing utilities like scaling, encoding, and imputation."
      ]
    },
    {
      "cell_type": "markdown",
      "id": "c93fad78",
      "metadata": {
        "id": "c93fad78"
      },
      "source": [
        "### What is a Test set?\n",
        "\n",
        "The test set is a portion of the data not seen by the model during training, used to measure its generalization ability."
      ]
    },
    {
      "cell_type": "markdown",
      "id": "605c4f4a",
      "metadata": {
        "id": "605c4f4a"
      },
      "source": [
        "### How do we split data for model fitting in Python?\n",
        "\n",
        "\n",
        "from sklearn.model_selection import train_test_split\n",
        "\n",
        "X_train, X_test, y_train, y_test = train_test_split(X, y, test_size=0.2, random_state=42)\n"
      ]
    },
    {
      "cell_type": "markdown",
      "id": "e71095fd",
      "metadata": {
        "id": "e71095fd"
      },
      "source": [
        "### How do you approach a Machine Learning problem?\n",
        "\n",
        "1. Understand the problem\n",
        "2. Collect & clean data\n",
        "3. Perform EDA\n",
        "4. Preprocess features\n",
        "5. Select model\n",
        "6. Train\n",
        "7. Evaluate\n",
        "8. Deploy"
      ]
    },
    {
      "cell_type": "markdown",
      "id": "5641cb22",
      "metadata": {
        "id": "5641cb22"
      },
      "source": [
        "### Why do we perform EDA before fitting a model?\n",
        "\n",
        "EDA helps understand the data structure, find patterns/outliers, detect missing values, and decide on preprocessing steps."
      ]
    },
    {
      "cell_type": "markdown",
      "id": "8d15fda8",
      "metadata": {
        "id": "8d15fda8"
      },
      "source": [
        "### How can you find correlation between variables in Python?\n",
        "\n",
        "```python\n",
        "df.corr()\n",
        "```"
      ]
    },
    {
      "cell_type": "markdown",
      "id": "3550e464",
      "metadata": {
        "id": "3550e464"
      },
      "source": [
        "### What is causation? Difference between correlation and causation?\n",
        "\n",
        "- **Causation**: One variable causes another to change.\n",
        "- **Correlation**: Two variables move together, but not necessarily causally.\n",
        "\n",
        "**Example**: Ice cream sales and drowning deaths are correlated due to hot weather, not causation.\n"
      ]
    },
    {
      "cell_type": "markdown",
      "id": "dfed9e16",
      "metadata": {
        "id": "dfed9e16"
      },
      "source": [
        "### What is an Optimizer? Types of optimizers?\n",
        "\n",
        "An **optimizer** updates model parameters to reduce the loss function.\n",
        "\n",
        "**Types**:\n",
        "- SGD\n",
        "- Adam\n",
        "- RMSprop\n",
        "\n",
        "```python\n",
        "import tensorflow as tf\n",
        "optimizer = tf.keras.optimizers.Adam(learning_rate=0.01)\n",
        "```"
      ]
    },
    {
      "cell_type": "markdown",
      "id": "b47c12b9",
      "metadata": {
        "id": "b47c12b9"
      },
      "source": [
        "### What is sklearn.linear_model?\n",
        "\n",
        "`sklearn.linear_model` provides linear models like LinearRegression, LogisticRegression, Ridge, etc."
      ]
    },
    {
      "cell_type": "markdown",
      "id": "239a4a9c",
      "metadata": {
        "id": "239a4a9c"
      },
      "source": [
        "### What does model.fit() do?\n",
        "\n",
        "Fits the model to the training data.\n",
        "```python\n",
        "model.fit(X_train, y_train)\n",
        "```"
      ]
    },
    {
      "cell_type": "markdown",
      "id": "5845b9d0",
      "metadata": {
        "id": "5845b9d0"
      },
      "source": [
        "### What does model.predict() do?\n",
        "\n",
        "Uses the trained model to make predictions.\n",
        "```python\n",
        "model.predict(X_test)\n",
        "```"
      ]
    },
    {
      "cell_type": "markdown",
      "id": "50415a51",
      "metadata": {
        "id": "50415a51"
      },
      "source": [
        "### What is feature scaling?\n",
        "\n",
        "Feature scaling brings all features to the same scale, helping algorithms like gradient descent converge faster."
      ]
    },
    {
      "cell_type": "markdown",
      "id": "45a4000b",
      "metadata": {
        "id": "45a4000b"
      },
      "source": [
        "### How do we perform scaling in Python?\n",
        "\n",
        "```python\n",
        "from sklearn.preprocessing import StandardScaler\n",
        "\n",
        "scaler = StandardScaler()\n",
        "X_scaled = scaler.fit_transform(X)\n",
        "```"
      ]
    },
    {
      "cell_type": "markdown",
      "id": "96c15434",
      "metadata": {
        "id": "96c15434"
      },
      "source": [
        "### Explain data encoding?\n",
        "\n",
        "Data encoding converts categorical data to numeric form using Label Encoding, One-Hot Encoding, etc."
      ]
    }
  ],
  "metadata": {
    "kernelspec": {
      "display_name": "Python 3 (ipykernel)",
      "language": "python",
      "name": "python3"
    },
    "language_info": {
      "codemirror_mode": {
        "name": "ipython",
        "version": 3
      },
      "file_extension": ".py",
      "mimetype": "text/x-python",
      "name": "python",
      "nbconvert_exporter": "python",
      "pygments_lexer": "ipython3",
      "version": "3.12.7"
    },
    "colab": {
      "provenance": []
    }
  },
  "nbformat": 4,
  "nbformat_minor": 5
}