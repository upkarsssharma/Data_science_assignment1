{
  "cells": [
    {
      "cell_type": "markdown",
      "id": "4d219771",
      "metadata": {
        "id": "4d219771"
      },
      "source": [
        "# 📘 Regression Assignment"
      ]
    },
    {
      "cell_type": "markdown",
      "id": "9604c24a",
      "metadata": {
        "id": "9604c24a"
      },
      "source": [
        "## 🔵 Simple Linear Regression"
      ]
    },
    {
      "cell_type": "markdown",
      "id": "8dd863e1",
      "metadata": {
        "id": "8dd863e1"
      },
      "source": [
        "### 1. What is Simple Linear Regression?\n",
        "Simple Linear Regression models the relationship between a dependent variable (Y) and a single independent variable (X) using the equation:\n",
        "Y = mX + c"
      ]
    },
    {
      "cell_type": "markdown",
      "id": "9326b3f9",
      "metadata": {
        "id": "9326b3f9"
      },
      "source": [
        "### 2. What are the key assumptions of Simple Linear Regression?\n",
        "1. Linearity between X and Y\n",
        "2. Independence of observations\n",
        "3. Homoscedasticity (constant variance of residuals)\n",
        "4. Normal distribution of residuals\n",
        "5. No multicollinearity (not applicable with one predictor)"
      ]
    },
    {
      "cell_type": "markdown",
      "id": "a701cc2e",
      "metadata": {
        "id": "a701cc2e"
      },
      "source": [
        "### 3. What does the coefficient m represent in the equation Y = mX + c?\n",
        "The slope `m` indicates how much `Y` changes for every one-unit increase in `X`."
      ]
    },
    {
      "cell_type": "markdown",
      "id": "9a32b48d",
      "metadata": {
        "id": "9a32b48d"
      },
      "source": [
        "### 4. What does the intercept c represent in the equation Y = mX + c?\n",
        "The intercept `c` is the expected value of `Y` when `X = 0`."
      ]
    },
    {
      "cell_type": "markdown",
      "id": "a32dc84c",
      "metadata": {
        "id": "a32dc84c"
      },
      "source": [
        "### 5. How do we calculate the slope m in Simple Linear Regression?\n",
        "m = sum((Xi - X̄)(Yi - Ȳ)) / sum((Xi - X̄)^2)"
      ]
    },
    {
      "cell_type": "code",
      "execution_count": null,
      "id": "a97a693a",
      "metadata": {
        "id": "a97a693a",
        "outputId": "3164346a-d6fe-4949-86db-46dfe702d489"
      },
      "outputs": [
        {
          "name": "stdout",
          "output_type": "stream",
          "text": [
            "Slope (m): 0.6000000000000002\n",
            "Intercept (c): 2.1999999999999993\n"
          ]
        }
      ],
      "source": [
        "import numpy as np\n",
        "from sklearn.linear_model import LinearRegression\n",
        "\n",
        "X = np.array([[1], [2], [3], [4], [5]])\n",
        "y = np.array([2, 4, 5, 4, 5])\n",
        "\n",
        "model = LinearRegression()\n",
        "model.fit(X, y)\n",
        "\n",
        "print(\"Slope (m):\", model.coef_[0])\n",
        "print(\"Intercept (c):\", model.intercept_)"
      ]
    },
    {
      "cell_type": "markdown",
      "id": "c7a555b1",
      "metadata": {
        "id": "c7a555b1"
      },
      "source": [
        "### 6. What is the purpose of the least squares method in Simple Linear Regression?\n",
        "To minimize the sum of squared residuals (errors) between predicted and actual values."
      ]
    },
    {
      "cell_type": "markdown",
      "id": "859ecb14",
      "metadata": {
        "id": "859ecb14"
      },
      "source": [
        "### 7. How is the coefficient of determination (R²) interpreted in Simple Linear Regression?\n",
        "R² measures how much of the variability in `Y` is explained by `X`."
      ]
    },
    {
      "cell_type": "code",
      "execution_count": null,
      "id": "be7aaaec",
      "metadata": {
        "id": "be7aaaec",
        "outputId": "625636f3-3b49-4b00-90e5-9d9bd440032b"
      },
      "outputs": [
        {
          "name": "stdout",
          "output_type": "stream",
          "text": [
            "R-squared: 0.6000000000000001\n"
          ]
        }
      ],
      "source": [
        "r_squared = model.score(X, y)\n",
        "print(\"R-squared:\", r_squared)"
      ]
    },
    {
      "cell_type": "markdown",
      "id": "5425ecca",
      "metadata": {
        "id": "5425ecca"
      },
      "source": [
        "## 🟣 Multiple Linear Regression"
      ]
    },
    {
      "cell_type": "markdown",
      "id": "87cda0b8",
      "metadata": {
        "id": "87cda0b8"
      },
      "source": [
        "### 8. What is Multiple Linear Regression?\n",
        "A method for modeling the relationship between one dependent variable and two or more independent variables."
      ]
    },
    {
      "cell_type": "code",
      "execution_count": null,
      "id": "c4a0a73c",
      "metadata": {
        "id": "c4a0a73c",
        "outputId": "6399d598-59cc-48fa-ebd0-df6e5beaad85"
      },
      "outputs": [
        {
          "name": "stdout",
          "output_type": "stream",
          "text": [
            "Coefficients: [1.83333333 0.33333333]\n",
            "Intercept: -0.7000000000000011\n"
          ]
        }
      ],
      "source": [
        "import pandas as pd\n",
        "\n",
        "data = pd.DataFrame({\n",
        "    'X1': [1, 2, 3, 4, 5],\n",
        "    'X2': [2, 1, 4, 3, 5],\n",
        "    'Y': [2, 3, 6, 8, 10]\n",
        "})\n",
        "\n",
        "X = data[['X1', 'X2']]\n",
        "y = data['Y']\n",
        "\n",
        "model = LinearRegression()\n",
        "model.fit(X, y)\n",
        "print(\"Coefficients:\", model.coef_)\n",
        "print(\"Intercept:\", model.intercept_)"
      ]
    },
    {
      "cell_type": "markdown",
      "id": "5d5774a2",
      "metadata": {
        "id": "5d5774a2"
      },
      "source": [
        "### 9. What is the main difference between Simple and Multiple Linear Regression?\n",
        "Simple LR uses one independent variable; Multiple LR uses two or more."
      ]
    },
    {
      "cell_type": "markdown",
      "id": "ae12ce39",
      "metadata": {
        "id": "ae12ce39"
      },
      "source": [
        "### 10. What are the key assumptions of Multiple Linear Regression?\n",
        "1. Linearity\n",
        "2. Independence\n",
        "3. Homoscedasticity\n",
        "4. Normality of residuals\n",
        "5. No multicollinearity\n",
        "6. No autocorrelation"
      ]
    },
    {
      "cell_type": "markdown",
      "id": "e338fd05",
      "metadata": {
        "id": "e338fd05"
      },
      "source": [
        "### 11. What is heteroscedasticity?\n",
        "Non-constant variance in residuals, which affects inference."
      ]
    },
    {
      "cell_type": "markdown",
      "id": "dea63aa0",
      "metadata": {
        "id": "dea63aa0"
      },
      "source": [
        "### 12. How to improve models with multicollinearity?\n",
        "- Remove correlated features\n",
        "- Use regularization (Ridge, Lasso)\n",
        "- Apply PCA"
      ]
    },
    {
      "cell_type": "markdown",
      "id": "27faa193",
      "metadata": {
        "id": "27faa193"
      },
      "source": [
        "### 13. How to handle categorical variables?\n",
        "Use encoding methods like:"
      ]
    },
    {
      "cell_type": "code",
      "execution_count": null,
      "id": "f36504c6",
      "metadata": {
        "id": "f36504c6",
        "outputId": "447f7cf6-ec51-4672-92b0-4617f2c56157"
      },
      "outputs": [
        {
          "name": "stdout",
          "output_type": "stream",
          "text": [
            "   Color_Blue  Color_Green  Color_Red\n",
            "0       False        False       True\n",
            "1        True        False      False\n",
            "2       False         True      False\n"
          ]
        }
      ],
      "source": [
        "df = pd.DataFrame({'Color': ['Red', 'Blue', 'Green']})\n",
        "encoded = pd.get_dummies(df)\n",
        "print(encoded)"
      ]
    },
    {
      "cell_type": "markdown",
      "id": "c8186187",
      "metadata": {
        "id": "c8186187"
      },
      "source": [
        "### 14. What are interaction terms?\n",
        "They capture the combined effect of two variables."
      ]
    },
    {
      "cell_type": "code",
      "execution_count": null,
      "id": "f63ef840",
      "metadata": {
        "id": "f63ef840",
        "outputId": "db7e6880-699e-4151-f28d-c528d4ce66a0"
      },
      "outputs": [
        {
          "name": "stdout",
          "output_type": "stream",
          "text": [
            "   X1  X2  Interaction\n",
            "0   1   3            3\n",
            "1   2   4            8\n"
          ]
        }
      ],
      "source": [
        "df = pd.DataFrame({'X1': [1, 2], 'X2': [3, 4]})\n",
        "df['Interaction'] = df['X1'] * df['X2']\n",
        "print(df)"
      ]
    },
    {
      "cell_type": "markdown",
      "id": "0ec8b99a",
      "metadata": {
        "id": "0ec8b99a"
      },
      "source": [
        "### 15. Intercept interpretation difference?\n",
        "In multiple regression, the intercept represents Y when all Xs are 0."
      ]
    },
    {
      "cell_type": "markdown",
      "id": "409761a0",
      "metadata": {
        "id": "409761a0"
      },
      "source": [
        "### 16. Significance of the slope?\n",
        "Shows the effect of one predictor on Y while holding others constant."
      ]
    },
    {
      "cell_type": "markdown",
      "id": "b618b37e",
      "metadata": {
        "id": "b618b37e"
      },
      "source": [
        "### 17. Intercept context?\n",
        "It gives the baseline Y value when predictors are zero."
      ]
    },
    {
      "cell_type": "markdown",
      "id": "ee3d19ad",
      "metadata": {
        "id": "ee3d19ad"
      },
      "source": [
        "### 18. Limitations of R²?\n",
        "Can be misleading; always increases with more variables."
      ]
    },
    {
      "cell_type": "markdown",
      "id": "cd2bd9f3",
      "metadata": {
        "id": "cd2bd9f3"
      },
      "source": [
        "### 19. Large standard error?\n",
        "Indicates low confidence in a coefficient’s estimate."
      ]
    },
    {
      "cell_type": "markdown",
      "id": "3b5884cf",
      "metadata": {
        "id": "3b5884cf"
      },
      "source": [
        "### 20. Detect heteroscedasticity?\n",
        "Use residual plots:"
      ]
    },
    {
      "cell_type": "code",
      "execution_count": null,
      "id": "267f7af5",
      "metadata": {
        "id": "267f7af5",
        "outputId": "a06eeeb5-bdbd-4dcd-e3f7-a21a70981f71"
      },
      "outputs": [
        {
          "data": {
            "image/png": "[encoded data removed]",
            "text/plain": [
              "<Figure size 640x480 with 1 Axes>"
            ]
          },
          "metadata": {},
          "output_type": "display_data"
        }
      ],
      "source": [
        "import matplotlib.pyplot as plt\n",
        "\n",
        "predictions = model.predict(X)\n",
        "residuals = y - predictions\n",
        "plt.scatter(predictions, residuals)\n",
        "plt.axhline(0, color='red')\n",
        "plt.title(\"Residual Plot\")\n",
        "plt.show()"
      ]
    },
    {
      "cell_type": "markdown",
      "id": "174b13a5",
      "metadata": {
        "id": "174b13a5"
      },
      "source": [
        "### 21. High R² but low adjusted R²?\n",
        "Model may be overfitting by including irrelevant variables."
      ]
    },
    {
      "cell_type": "markdown",
      "id": "5f50d3b5",
      "metadata": {
        "id": "5f50d3b5"
      },
      "source": [
        "### 22. Why scale variables?\n",
        "To normalize their effect and improve model stability, especially with regularization."
      ]
    },
    {
      "cell_type": "markdown",
      "id": "f98680c5",
      "metadata": {
        "id": "f98680c5"
      },
      "source": [
        "## 🟢 Polynomial Regression"
      ]
    },
    {
      "cell_type": "markdown",
      "id": "cf3a6bae",
      "metadata": {
        "id": "cf3a6bae"
      },
      "source": [
        "### 23. What is Polynomial Regression?\n",
        "Regression using polynomial terms to model nonlinear relationships."
      ]
    },
    {
      "cell_type": "markdown",
      "id": "268874eb",
      "metadata": {
        "id": "268874eb"
      },
      "source": [
        "### 24. How is it different from Linear Regression?\n",
        "Linear regression fits straight lines; polynomial regression fits curves."
      ]
    },
    {
      "cell_type": "markdown",
      "id": "ed300a09",
      "metadata": {
        "id": "ed300a09"
      },
      "source": [
        "### 25. When is it used?\n",
        "When the relationship between variables is nonlinear."
      ]
    },
    {
      "cell_type": "markdown",
      "id": "191e0c02",
      "metadata": {
        "id": "191e0c02"
      },
      "source": [
        "### 26. General equation?\n",
        "Y = b0 + b1X + b2X² + ... + bnXⁿ"
      ]
    },
    {
      "cell_type": "markdown",
      "id": "6e0bef7f",
      "metadata": {
        "id": "6e0bef7f"
      },
      "source": [
        "### 27. Can it be applied to multiple variables?\n",
        "Yes, using multivariate polynomial regression."
      ]
    },
    {
      "cell_type": "markdown",
      "id": "01409ca2",
      "metadata": {
        "id": "01409ca2"
      },
      "source": [
        "### 28. Limitations?\n",
        "- Overfitting\n",
        "- Poor extrapolation\n",
        "- Hard to interpret"
      ]
    },
    {
      "cell_type": "markdown",
      "id": "56145259",
      "metadata": {
        "id": "56145259"
      },
      "source": [
        "### 29. Model fit selection methods?\n",
        "- Cross-validation\n",
        "- Adjusted R²\n",
        "- AIC/BIC\n",
        "- Visual residual analysis"
      ]
    },
    {
      "cell_type": "markdown",
      "id": "fab812a7",
      "metadata": {
        "id": "fab812a7"
      },
      "source": [
        "### 30. Why visualize polynomial regression?\n",
        "To understand curve fitting and check for over/underfitting."
      ]
    },
    {
      "cell_type": "markdown",
      "id": "8ba4cbc2",
      "metadata": {
        "id": "8ba4cbc2"
      },
      "source": [
        "### 31. How to implement in Python?"
      ]
    },
    {
      "cell_type": "code",
      "execution_count": null,
      "id": "6123c39b",
      "metadata": {
        "id": "6123c39b",
        "outputId": "591177de-448b-4dd0-88ef-686d55dd1377"
      },
      "outputs": [
        {
          "name": "stdout",
          "output_type": "stream",
          "text": [
            "Polynomial prediction: [ 2.  3.  6.  8. 10.]\n"
          ]
        }
      ],
      "source": [
        "from sklearn.preprocessing import PolynomialFeatures\n",
        "from sklearn.pipeline import make_pipeline\n",
        "\n",
        "poly_model = make_pipeline(PolynomialFeatures(degree=2), LinearRegression())\n",
        "poly_model.fit(X, y)\n",
        "y_poly_pred = poly_model.predict(X)\n",
        "print(\"Polynomial prediction:\", y_poly_pred)"
      ]
    },
    {
      "cell_type": "code",
      "execution_count": null,
      "id": "6b64bcf4-62a3-4ab9-8add-73e750d21b39",
      "metadata": {
        "id": "6b64bcf4-62a3-4ab9-8add-73e750d21b39"
      },
      "outputs": [],
      "source": []
    }
  ],
  "metadata": {
    "kernelspec": {
      "display_name": "Python 3 (ipykernel)",
      "language": "python",
      "name": "python3"
    },
    "language_info": {
      "codemirror_mode": {
        "name": "ipython",
        "version": 3
      },
      "file_extension": ".py",
      "mimetype": "text/x-python",
      "name": "python",
      "nbconvert_exporter": "python",
      "pygments_lexer": "ipython3",
      "version": "3.12.7"
    },
    "colab": {
      "provenance": []
    }
  },
  "nbformat": 4,
  "nbformat_minor": 5
}
