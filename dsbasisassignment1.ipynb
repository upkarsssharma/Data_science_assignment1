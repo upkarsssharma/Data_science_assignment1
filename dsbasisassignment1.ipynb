{
  "nbformat": 4,
  "nbformat_minor": 0,
  "metadata": {
    "colab": {
      "provenance": [],
      "authorship_tag": "ABX9TyPi8fsbMijk4Qiky2d16rDX"
    },
    "kernelspec": {
      "name": "python3",
      "display_name": "Python 3"
    },
    "language_info": {
      "name": "python"
    }
  },
  "cells": [
    {
      "cell_type": "markdown",
      "source": [
        "#1. What is Python, and why is it popular?\n",
        "\n",
        " Python is a high-level, general-purpose programming language. Its design philosophy emphasizes code readability with the use of significant indentation.\n",
        "\n",
        " Python is popular for several reasons:\n",
        "\n",
        " 1. Readability: Python's syntax is clear and easy to learn, making it accessible to beginners and experienced programmers alike.  This leads to faster development times and easier maintenance of code.\n",
        "\n",
        " 2. Versatility: Python can be used for a wide range of tasks, including web development, data science, machine learning, scripting, automation, and more. This versatility makes it a valuable tool for various fields.\n",
        "\n",
        " 3. Large and Active Community: Python has a huge and active community of users and developers, which means ample resources, libraries, and support are readily available.\n",
        "\n",
        " 4. Extensive Libraries: The Python Package Index (PyPI) contains a vast collection of third-party libraries that provide ready-to-use functionalities for various tasks.  This reduces development time significantly.\n",
        "\n",
        " 5. Cross-Platform Compatibility: Python code can run on different operating systems (Windows, macOS, Linux) without significant modifications, offering flexibility in deployment.\n",
        "\n",
        " 6. Dynamic Typing:  Python is dynamically typed, which means you don't need to declare variable types explicitly. This simplifies coding but can introduce runtime errors if not carefully managed.\n",
        "\n"
      ],
      "metadata": {
        "id": "pQvnf49SzhmP"
      }
    },
    {
      "cell_type": "markdown",
      "source": [
        "# prompt: What is an interpreter in Python?\n",
        "\n",
        "An interpreter in Python is a program that reads and executes Python code line by line.  Unlike a compiler, which translates the entire program into machine code before execution, an interpreter translates and executes each line of code one at a time. This allows for more interactive development and debugging, as errors are identified immediately when the interpreter encounters them.  The Python interpreter is what enables you to run Python scripts and interact with the Python shell.\n",
        "\n"
      ],
      "metadata": {
        "id": "JscKPL1c0DLn"
      }
    },
    {
      "cell_type": "markdown",
      "source": [
        "# What are pre-defined keywords in Python?\n",
        "\n",
        "Pre-defined keywords in Python are reserved words that have special meanings and purposes within the language.  They cannot be used as variable names, function names, or any other identifiers.  These keywords form the core syntax and structure of Python and are essential for defining program logic, control flow, and data structures.\n",
        "\n",
        "Examples include:\n",
        "\n",
        "*   **`if`**, **`elif`**, **`else`**: Used for conditional statements.\n",
        "*   **`for`**, **`while`**: Used for loops.\n",
        "*   **`def`**: Used to define functions.\n",
        "*   **`class`**: Used to define classes.\n",
        "*   **`import`**: Used to import modules.\n",
        "*   **`try`**, **`except`**, **`finally`**: Used for exception handling.\n",
        "*   **`return`**: Used to return values from functions.\n",
        "*   **`True`**, **`False`**, **`None`**: Boolean values and null value.\n",
        "*   **`and`**, **`or`**, **`not`**: Logical operators.\n",
        "*   **`in`**, **`is`**: Membership and identity operators.\n",
        "*   **`del`**: Used to delete objects.\n",
        "\n",
        "and many more.  Using these keywords correctly is fundamental to writing valid Python code.  Trying to use them as identifiers will result in a `SyntaxError`.\n"
      ],
      "metadata": {
        "id": "70IEylTt1B_X"
      }
    },
    {
      "cell_type": "markdown",
      "source": [
        "#  Can keywords be used as variable names?\n",
        "\n",
        "No, keywords cannot be used as variable names in Python.  They are reserved words with special meanings in the language.  Attempting to use a keyword as a variable name will result in a `SyntaxError`.\n"
      ],
      "metadata": {
        "id": "JKNury5t1iea"
      }
    },
    {
      "cell_type": "markdown",
      "source": [
        "#  What is mutability in Python?\n",
        "\n",
        "Mutability in Python refers to the ability of an object to change its state or value after it has been created.  An object is considered mutable if its internal data can be modified without creating a new object. Conversely, an immutable object cannot be changed after it's created; any operation that appears to modify it actually creates a new object with the modified value.\n",
        "\n",
        "The mutability of an object impacts how it's used in programs, especially when passed as arguments to functions or when part of data structures like lists or dictionaries.  Understanding mutability is crucial for writing correct and predictable Python code.  Mutable objects can lead to unintended side effects if not handled properly, while immutable objects provide a level of safety and predictability in how their values are handled.\n"
      ],
      "metadata": {
        "id": "QkOrMVJp2CPZ"
      }
    },
    {
      "cell_type": "markdown",
      "source": [
        "# Why are lists mutable, but tuples are immutable?\n",
        "\n",
        "Lists in Python are mutable because their elements can be changed after the list is created.  This means you can modify the contents of a list (add, remove, or change elements) without creating a new list object.  The original list object in memory is directly modified.\n",
        "\n",
        "Tuples, on the other hand, are immutable.  Once a tuple is created, its elements cannot be changed. Any operation that seems to modify a tuple actually creates a new tuple object with the modified elements, leaving the original tuple unchanged.\n",
        "\n",
        "The difference in mutability stems from their underlying implementation.  Lists are typically implemented as dynamic arrays, allowing for efficient modification of elements in place.  Tuples, however, are implemented in a way that makes modification impossible without creating an entirely new object.\n",
        "\n",
        "This difference in mutability impacts how they are used.  If you need a collection of items that can change over time, lists are the appropriate choice. If you need a collection that should remain constant, tuples are preferred, providing data integrity and preventing accidental modification.\n"
      ],
      "metadata": {
        "id": "mVoKQIIh2Soc"
      }
    },
    {
      "cell_type": "code",
      "source": [
        "# prompt: What is the difference between “==” and “is” operators in Python?\n",
        "\n",
        "\"\"\"\n",
        "The == operator compares the values of two objects, while the is operator compares the identities of two objects.\n",
        "\n",
        "In other words:\n",
        "\n",
        "- == checks if the contents of two objects are equal.\n",
        "- is checks if two variables refer to the same object in memory.\n",
        "\"\"\"\n",
        "\n",
        "# Example 1: Comparing values with ==\n",
        "list1 = [1, 2, 3]\n",
        "list2 = [1, 2, 3]\n",
        "\n",
        "print(list1 == list2)  # Output: True (the contents of the lists are equal)\n",
        "\n",
        "# Example 2: Comparing identities with is\n",
        "print(list1 is list2)  # Output: False (list1 and list2 refer to different objects in memory)\n",
        "\n",
        "\n",
        "# Example 3: Comparing the same object with 'is'\n",
        "list3 = list1\n",
        "print(list1 is list3) # Output: True\n",
        "\n",
        "# Example 4: Comparing strings\n",
        "str1 = \"hello\"\n",
        "str2 = \"hello\"\n",
        "print(str1 == str2)  # Output: True\n",
        "print(str1 is str2) # Output: True (Strings are interned by python so they refer to same object in memory)\n",
        "\n",
        "\n",
        "str3 = \"hello world\"\n",
        "str4 = \"hello world\"\n",
        "print(str3 == str4)  # Output: True\n",
        "print(str3 is str4) # Output: True or False depending on the python implementation (Not guaranteed).\n",
        "# Strings longer than a certain length may or may not be interned.\n",
        "\n",
        "# Example 5:  Comparing None with 'is'\n",
        "x = None\n",
        "y = None\n",
        "print(x is y)  # Output: True (is is best used with None and singletons)\n",
        "\n",
        "# In summary:\n",
        "# Use == to check for value equality.\n",
        "# Use is to check for object identity.  Only use 'is' with None and singletons.\n"
      ],
      "metadata": {
        "id": "IcSTmC5C2g-7"
      },
      "execution_count": null,
      "outputs": []
    },
    {
      "cell_type": "markdown",
      "source": [
        "# What is the difference between “==” and “is” operators in Python?\n",
        "\n",
        "\"\"\"\n",
        "The == operator compares the values of two objects, while the is operator compares the identities of two objects.\n",
        "\n",
        "In other words:\n",
        "\n",
        "- == checks if the contents of two objects are equal.\n",
        "- is checks if two variables refer to the same object in memory.\n",
        "\"\"\"\n",
        "\n",
        "# Example 1: Comparing values with ==\n",
        "list1 = [1, 2, 3]\n",
        "list2 = [1, 2, 3]\n",
        "\n",
        "print(list1 == list2)  # Output: True (the contents of the lists are equal)\n",
        "\n",
        "# Example 2: Comparing identities with is\n",
        "print(list1 is list2)  # Output: False (list1 and list2 refer to different objects in memory)\n",
        "\n",
        "\n",
        "# Example 3: Comparing the same object with 'is'\n",
        "list3 = list1\n",
        "print(list1 is list3) # Output: True\n",
        "\n",
        "# Example 4: Comparing strings\n",
        "str1 = \"hello\"\n",
        "str2 = \"hello\"\n",
        "print(str1 == str2)  # Output: True\n",
        "print(str1 is str2) # Output: True (Strings are interned by python so they refer to same object in memory)\n",
        "\n",
        "\n",
        "str3 = \"hello world\"\n",
        "str4 = \"hello world\"\n",
        "print(str3 == str4)  # Output: True\n",
        "print(str3 is str4) # Output: True or False depending on the python implementation (Not guaranteed).\n",
        "# Strings longer than a certain length may or may not be interned.\n",
        "\n",
        "# Example 5:  Comparing None with 'is'\n",
        "x = None\n",
        "y = None\n",
        "print(x is y)  # Output: True (is is best used with None and singletons)\n",
        "\n",
        "# In summary:\n",
        "# Use == to check for value equality.\n",
        "# Use is to check for object identity.  Only use 'is' with None and singletons.\n"
      ],
      "metadata": {
        "id": "-I1_XAvR2tkB"
      }
    },
    {
      "cell_type": "markdown",
      "source": [
        "# What are logical operators in Python?\n",
        "\n",
        "Logical operators in Python are used to combine or modify Boolean (true/false) expressions.  Python provides three main logical operators:\n",
        "\n",
        "1. **`and`**: Returns `True` if both operands are `True`. Otherwise, it returns `False`.\n",
        "\n",
        "   ```python\n",
        "   x = 5\n",
        "   y = 10\n",
        "\n",
        "   print(x > 0 and y < 20)  # Output: True (both conditions are true)\n",
        "   print(x < 0 and y > 20)  # Output: False (one or both conditions are false)\n",
        "   ```\n",
        "\n",
        "2. **`or`**: Returns `True` if at least one of the operands is `True`.  It returns `False` only if both operands are `False`.\n",
        "\n",
        "   ```python\n",
        "   x = 5\n",
        "   y = 10\n",
        "\n",
        "   print(x > 0 or y < 5)  # Output: True (x > 0 is True)\n",
        "   print(x < 0 or y > 20)  # Output: False (both are false)\n",
        "   ```\n",
        "\n",
        "3. **`not`**: Inverts the truth value of its operand. If the operand is `True`, it returns `False`, and if the operand is `False`, it returns `True`.\n",
        "\n",
        "   ```python\n",
        "   x = 5\n",
        "\n",
        "   print(not (x > 0))  # Output: False (x > 0 is True, so not(x>0) is False)\n",
        "   print(not (x < 0))  # Output: True (x < 0 is False, so not(x<0) is True)\n",
        "   ```\n",
        "\n",
        "These operators are fundamental for controlling program flow through conditional statements (`if`, `elif`, `else`) and creating complex Boolean expressions.  They are often used in conjunction with comparison operators (`==`, `!=`, `>`, `<`, `>=`, `<=`) to evaluate conditions.\n"
      ],
      "metadata": {
        "id": "XF3gNr893euH"
      }
    },
    {
      "cell_type": "markdown",
      "source": [
        "# What is type casting in Python?\n",
        "\n",
        "Type casting in Python refers to the conversion of one data type into another.  Python provides built-in functions for type conversion, allowing you to explicitly change the type of a variable.  This is useful when you need to perform operations that require specific data types or when you receive data in one format but need it in another.\n",
        "\n",
        "Here's a breakdown of common type casting methods in Python:\n",
        "\n",
        "1. **`int()`**: Converts a value to an integer.  If the input is a floating-point number, the decimal part is truncated (not rounded).  If the input is a string, it must represent a valid integer.\n",
        "\n",
        "\n",
        "   ```python\n",
        "   x = 3.14\n",
        "   y = int(x)  # y will be 3\n",
        "   z = \"10\"\n",
        "   a = int(z) # a will be 10\n",
        "\n",
        "   #Example of error\n",
        "   b = int(\"abc\") # ValueError: invalid literal for int() with base 10: 'abc'\n",
        "   ```\n",
        "\n",
        "2. **`float()`**: Converts a value to a floating-point number.\n",
        "\n",
        "\n",
        "   ```python\n",
        "   x = 10\n",
        "   y = float(x)  # y will be 10.0\n",
        "   z = \"3.14\"\n",
        "   a = float(z) # a will be 3.14\n",
        "   ```\n",
        "\n",
        "3. **`str()`**: Converts a value to a string.\n",
        "\n",
        "\n",
        "   ```python\n",
        "   x = 10\n",
        "   y = str(x)  # y will be \"10\"\n",
        "   z = 3.14\n",
        "   a = str(z) # a will be \"3.14\"\n",
        "   ```\n",
        "\n",
        "4. **`bool()`**: Converts a value to a Boolean (True or False).  Most values are considered True, except for the following:\n",
        "\n",
        "\n",
        "   *   `0` (integer zero)\n",
        "   *   `0.0` (floating-point zero)\n",
        "   *   `False`\n",
        "   *   Empty sequences (e.g., `\"\"`, `[]`, `()`)\n",
        "   *   `None`\n",
        "\n",
        "   ```python\n",
        "   x = 10\n",
        "   y = bool(x)  # y will be True\n",
        "   z = 0\n",
        "   a = bool(z) # a will be False\n",
        "   empty_list = []\n",
        "   b = bool(empty_list) # b will be False\n",
        "   ```\n",
        "\n",
        "\n",
        "**Important Considerations:**\n",
        "\n",
        "*   **Data Loss:**  Type casting can sometimes lead to data loss, particularly when converting from floating-point numbers to integers. The decimal part is discarded.\n",
        "*   **Errors:** Attempting to cast an invalid value (e.g., \"abc\" to an integer) will raise a `ValueError`.  It is important to handle such potential errors gracefully, using `try-except` blocks.\n",
        "*   **Explicit vs Implicit Casting:**  Python also does implicit type casting in some cases (e.g., adding an integer to a floating-point number), but it is generally good practice to use explicit type casting when you know a conversion is necessary to avoid unexpected behaviors.\n",
        "\n",
        "Type casting is an essential technique for controlling the data types used in your programs, allowing for flexible and correct handling of different kinds of data.\n"
      ],
      "metadata": {
        "id": "aPbBlDyb4BHM"
      }
    },
    {
      "cell_type": "code",
      "source": [
        "# prompt: What is the difference between implicit and explicit type casting?\n",
        "\n",
        "# Explicit Type Casting:\n",
        "#   - You explicitly use a type conversion function (int(), float(), str(), etc.) to change the data type.\n",
        "#   - You have direct control over the conversion.\n",
        "#   - Example:\n",
        "x = 10.5\n",
        "y = int(x)  # Explicitly converting the float x to an integer y\n",
        "print(y)    # Output: 10\n",
        "\n",
        "\n",
        "# Implicit Type Casting (also known as coercion):\n",
        "#   - Python automatically converts one data type to another without your explicit intervention.\n",
        "#   - Python's type system handles the conversion based on the context of the operation.\n",
        "#   - Example:\n",
        "a = 5       # integer\n",
        "b = 2.5     # float\n",
        "c = a + b   # Python implicitly converts 'a' to float for the addition\n",
        "print(c)    # Output: 7.5 (a float)\n",
        "\n",
        "# In the provided text:\n",
        "# - The examples under the \"Type Casting in Python\" section demonstrates explicit type casting\n",
        "# - Implicit type casting is mentioned in the last bullet point of the \"Important Considerations\" section"
      ],
      "metadata": {
        "id": "JJcOJXyd4WwQ"
      },
      "execution_count": null,
      "outputs": []
    },
    {
      "cell_type": "markdown",
      "source": [
        "# What is the difference between implicit and explicit type casting?\n",
        "\n",
        "# Explicit Type Casting:\n",
        "   - You explicitly use a type conversion function (int(), float(), str(), etc.) to change the data type.\n",
        "   - You have direct control over the conversion.\n",
        "   - Example:\n",
        "x = 10.5\n",
        "y = int(x)  # Explicitly converting the float x to an integer y\n",
        "print(y)    # Output: 10\n",
        "\n",
        "\n",
        "# Implicit Type Casting (also known as coercion):\n",
        "   - Python automatically converts one data type to another without your explicit intervention.\n",
        "   - Python's type system handles the conversion based on the context of the operation.\n",
        "   - Example:\n",
        "a = 5       # integer\n",
        "b = 2.5     # float\n",
        "c = a + b   # Python implicitly converts 'a' to float for the addition\n",
        "print(c)    # Output: 7.5 (a float)\n",
        "\n",
        "# In the provided text:\n",
        " - The examples under the \"Type Casting in Python\" section demonstrates explicit type casting\n",
        " - Implicit type casting is mentioned in the last bullet point of the \"Important Considerations\" section"
      ],
      "metadata": {
        "id": "bcwYx0LD4efb"
      }
    },
    {
      "cell_type": "markdown",
      "source": [
        "# What is the purpose of conditional statements in Python?\n",
        "\n",
        "Conditional statements in Python, such as `if`, `elif`, and `else`, control the flow of execution based on whether certain conditions are true or false.  They allow a program to make decisions and execute different blocks of code depending on the circumstances.  This is fundamental for creating flexible and responsive programs.\n"
      ],
      "metadata": {
        "id": "w8w-_tbE4425"
      }
    },
    {
      "cell_type": "code",
      "source": [
        "#  How does the elif statement work?\n",
        "\n",
        "x = 10\n",
        "\n",
        "if x > 20:\n",
        "  print(\"x is greater than 20\")\n",
        "elif x > 15:\n",
        "  print(\"x is greater than 15\")\n",
        "elif x > 10:\n",
        "  print(\"x is greater than 10\")\n",
        "else:\n",
        "  print(\"x is not greater than 20, 15, or 10\")"
      ],
      "metadata": {
        "colab": {
          "base_uri": "https://localhost:8080/"
        },
        "id": "DyR3prbI5Amt",
        "outputId": "ae09109d-8d77-481c-817a-8289fcf9393f"
      },
      "execution_count": null,
      "outputs": [
        {
          "output_type": "stream",
          "name": "stdout",
          "text": [
            "x is not greater than 20, 15, or 10\n"
          ]
        }
      ]
    },
    {
      "cell_type": "markdown",
      "source": [
        "# What is the difference between for and while loops?\n",
        "\n",
        "# for loop\n",
        "# A for loop iterates over a sequence (like a list, tuple, string, or range) or other iterable object.  It executes a block of code for each item in the sequence.\n",
        "\n",
        "my_list = [1, 2, 3, 4, 5]\n",
        "for item in my_list:\n",
        "  print(item)\n",
        "\n",
        "# while loop\n",
        "# A while loop repeatedly executes a block of code as long as a specified condition is true.  It continues looping until the condition becomes false.\n",
        "\n",
        "count = 0\n",
        "while count < 5:\n",
        "  print(count)\n",
        "  count += 1\n",
        "\n",
        "# Key Differences:\n",
        "\n",
        "# 1. Iteration:\n",
        "    - for loop: Iterates over a sequence or iterable.  You know in advance how many times the loop will run.\n",
        "    - while loop: Repeats as long as a condition is true. The number of iterations might not be known beforehand.\n",
        "\n",
        "# 2. Condition:\n",
        "    - for loop:  Implicit condition (based on the length of the sequence).\n",
        "    - while loop: Explicit condition that must be evaluated at the beginning of each loop.\n",
        "\n",
        "# 3. Use Cases:\n",
        "    - for loop: Ideal for processing elements of a collection.\n",
        "    - while loop:  Suitable when you want to repeat a block until a certain condition is met (e.g., user input, reaching a target value).\n",
        "\n",
        "# Example illustrating the difference:\n",
        "# Task: Print numbers from 0 to 4\n",
        "\n",
        "# Using a for loop:\n",
        "print(\"Using a for loop:\")\n",
        "for i in range(5):  # range(5) creates a sequence from 0 to 4\n",
        "  print(i)\n",
        "\n",
        "\n",
        "# Using a while loop:\n",
        "print(\"\\nUsing a while loop:\")\n",
        "i = 0\n",
        "while i < 5:\n",
        "  print(i)\n",
        "  i += 1"
      ],
      "metadata": {
        "id": "rCHtGc7c5_2O"
      }
    },
    {
      "cell_type": "markdown",
      "source": [
        "# What is the difference between for and while loops?\n",
        "\n",
        "# In Python, both `for` and `while` loops are used for iteration, but they differ in how they control the flow of execution:\n",
        "\n",
        "# For loops:\n",
        "# - Iterate over a sequence (like a list, tuple, string, or range) or other iterable objects.\n",
        "# - The loop continues as long as there are elements in the sequence.\n",
        "# - The number of iterations is typically known in advance (based on the length of the sequence).\n",
        "# - Example:\n",
        "#   ```python\n",
        "#   fruits = [\"apple\", \"banana\", \"cherry\"]\n",
        "#   for fruit in fruits:\n",
        "#       print(fruit)\n",
        "#   ```\n",
        "\n",
        "# While loops:\n",
        "# - Execute a block of code repeatedly as long as a specified condition is true.\n",
        "# - The number of iterations is not necessarily known in advance; it depends on the condition.\n",
        "# - You need to manually manage the loop counter or state to avoid infinite loops.\n",
        "# - Example:\n",
        "#   ```python\n",
        "#   count = 0\n",
        "#   while count < 5:\n",
        "#       print(count)\n",
        "#       count += 1\n",
        "#   ```\n",
        "\n",
        "# Key differences:\n",
        "# 1. Iteration control: `for` loops iterate over a sequence, while `while` loops repeat based on a condition.\n",
        "# 2. Number of iterations: `for` loop iterations are determined by the sequence length, while `while` loops iterate until a condition is false.\n",
        "# 3. Counter management: `for` loops automatically handle iteration; `while` loops require explicit counter management.\n",
        "\n",
        "# When to use which:\n",
        "# - Use `for` loops when you know how many times you need to iterate (e.g., processing each element in a list).\n",
        "# - Use `while` loops when the number of iterations depends on a changing condition (e.g., reading user input until a specific value is entered)."
      ],
      "metadata": {
        "id": "mPPVCr5t5Z7r"
      }
    },
    {
      "cell_type": "markdown",
      "source": [
        "#Describe a scenario where a while loop is more suitable than a for loop.\n",
        "\n",
        "here's a scenario where a while loop is more suitable than a for loop:\n",
        "\n",
        "Scenario:\n",
        "\n",
        "Imagine you're creating a game where the player needs to guess a secret number. The game continues until the player guesses the correct number.\n",
        "\n",
        "Reasoning:\n",
        "\n",
        "In this scenario, you don't know in advance how many times the player will need to guess before they get it right. The loop needs to continue indefinitely until a specific condition (guessing the correct number) is met. This is where a while loop shines.\n",
        "\n",
        "Why while loop is better:\n",
        "\n",
        "Indeterminate Number of Iterations: A while loop is designed for situations where the number of iterations is unknown beforehand. The loop continues as long as the condition (player hasn't guessed the number) is true.\n",
        "Flexibility: You can easily incorporate other conditions or logic within the while loop to handle different game events or user interactions.\n",
        "Why for loop is not suitable:\n",
        "\n",
        "Fixed Iterations: A for loop typically iterates over a sequence of a known length. In this case, you don't have a predetermined sequence; the number of guesses is variable.\n",
        "Less Flexible for Dynamic Conditions: It would be more complex to manage the game logic and user input using a for loop in this scenario.\n",
        "\n",
        "In this example, the while loop continues until the player's guess matches the secret_number. The loop's condition is checked at the beginning of each iteration, ensuring the game continues until the correct guess is made.\n",
        "\n",
        "Example code :"
      ],
      "metadata": {
        "id": "lpJ37rlwKUY2"
      }
    },
    {
      "cell_type": "code",
      "source": [
        "import random\n",
        "\n",
        "secret_number = random.randint(1, 100)\n",
        "guess = 0\n",
        "\n",
        "while guess != secret_number:\n",
        "    guess = int(input(\"Guess the number (1-100): \"))\n",
        "    if guess < secret_number:\n",
        "        print(\"Too low!\")\n",
        "    elif guess > secret_number:\n",
        "        print(\"Too high!\")\n",
        "\n",
        "print(\"Congratulations! You guessed the number.\")"
      ],
      "metadata": {
        "colab": {
          "base_uri": "https://localhost:8080/"
        },
        "id": "frEpw8zMLByg",
        "outputId": "14a0a771-fa4d-4a88-b7fd-b666d4b16717"
      },
      "execution_count": null,
      "outputs": [
        {
          "output_type": "stream",
          "name": "stdout",
          "text": [
            "Guess the number (1-100): 30\n",
            "Too low!\n",
            "Guess the number (1-100): 60\n",
            "Too low!\n",
            "Guess the number (1-100): 80\n",
            "Too low!\n",
            "Guess the number (1-100): 90\n",
            "Congratulations! You guessed the number.\n"
          ]
        }
      ]
    },
    {
      "cell_type": "markdown",
      "source": [
        "Write a Python program to print \"Hello, World!\""
      ],
      "metadata": {
        "id": "HstoRqrprfzY"
      }
    },
    {
      "cell_type": "code",
      "source": [
        "\n",
        "\n",
        "print(\"Hello, World!\")\n"
      ],
      "metadata": {
        "id": "uBwufNInrjKu"
      },
      "execution_count": null,
      "outputs": []
    },
    {
      "cell_type": "markdown",
      "source": [
        "Write a Python program that displays your name and age."
      ],
      "metadata": {
        "id": "lZt2ssubsN5I"
      }
    },
    {
      "cell_type": "code",
      "source": [
        "\n",
        "\n",
        "name = \"UPKAR SHARMA\"\n",
        "age = 30\n",
        "\n",
        "print(f\"My name is {name} and I am {age} years old.\")"
      ],
      "metadata": {
        "colab": {
          "base_uri": "https://localhost:8080/"
        },
        "id": "k9NOB8Plry0e",
        "outputId": "f0d8a71b-c3c0-4e8f-f805-31e80e3fb054"
      },
      "execution_count": null,
      "outputs": [
        {
          "output_type": "stream",
          "name": "stdout",
          "text": [
            "My name is UPKAR SHARMA and I am 30 years old.\n"
          ]
        }
      ]
    },
    {
      "cell_type": "markdown",
      "source": [
        "Write code to print all the pre-defined keywords in Python using the keyword library"
      ],
      "metadata": {
        "id": "zBiBSnm5sWKp"
      }
    },
    {
      "cell_type": "code",
      "source": [
        "\n",
        "import keyword\n",
        "\n",
        "keyword.kwlist\n"
      ],
      "metadata": {
        "colab": {
          "base_uri": "https://localhost:8080/"
        },
        "id": "Y8hZAqh9sYHr",
        "outputId": "d7314de4-0dca-4445-b87b-c04dfd40a10a"
      },
      "execution_count": null,
      "outputs": [
        {
          "output_type": "execute_result",
          "data": {
            "text/plain": [
              "['False',\n",
              " 'None',\n",
              " 'True',\n",
              " 'and',\n",
              " 'as',\n",
              " 'assert',\n",
              " 'async',\n",
              " 'await',\n",
              " 'break',\n",
              " 'class',\n",
              " 'continue',\n",
              " 'def',\n",
              " 'del',\n",
              " 'elif',\n",
              " 'else',\n",
              " 'except',\n",
              " 'finally',\n",
              " 'for',\n",
              " 'from',\n",
              " 'global',\n",
              " 'if',\n",
              " 'import',\n",
              " 'in',\n",
              " 'is',\n",
              " 'lambda',\n",
              " 'nonlocal',\n",
              " 'not',\n",
              " 'or',\n",
              " 'pass',\n",
              " 'raise',\n",
              " 'return',\n",
              " 'try',\n",
              " 'while',\n",
              " 'with',\n",
              " 'yield']"
            ]
          },
          "metadata": {},
          "execution_count": 2
        }
      ]
    },
    {
      "cell_type": "markdown",
      "source": [
        "Write a program that checks if a given word is a Python keyword"
      ],
      "metadata": {
        "id": "9AiHIkNgshug"
      }
    },
    {
      "cell_type": "code",
      "source": [],
      "metadata": {
        "id": "N2g-VtNns4lK"
      },
      "execution_count": null,
      "outputs": []
    },
    {
      "cell_type": "code",
      "source": [
        "\n",
        "import keyword\n",
        "\n",
        "def is_keyword(word):\n",
        "  \"\"\"\n",
        "  Checks if a given word is a Python keyword.\n",
        "\n",
        "  Args:\n",
        "      word: The word to check.\n",
        "\n",
        "  Returns:\n",
        "      True if the word is a keyword, False otherwise.\n",
        "  \"\"\"\n",
        "  return keyword.iskeyword(word)\n",
        "\n",
        "# Get input from the user\n",
        "word = input(\"Enter a word: \")\n",
        "# Check if the word is a keyword and print the result\n",
        "if is_keyword(word):\n",
        "  print(f\"{word} is a Python keyword.\")\n",
        "else:\n",
        "  print(f\"{word} is not a Python keyword.\")"
      ],
      "metadata": {
        "colab": {
          "base_uri": "https://localhost:8080/"
        },
        "id": "H7UIj7ygsl3o",
        "outputId": "f669cf45-8c5e-4f75-e91b-ff5bc143c4b8"
      },
      "execution_count": null,
      "outputs": [
        {
          "output_type": "stream",
          "name": "stdout",
          "text": [
            "Enter a word: true\n",
            "true is not a Python keyword.\n"
          ]
        }
      ]
    },
    {
      "cell_type": "markdown",
      "source": [
        "Create a list and tuple in Python, and demonstrate how attempting to change an element works differently\n"
      ],
      "metadata": {
        "id": "AJyQODD9tkmd"
      }
    },
    {
      "cell_type": "code",
      "source": [
        "\n",
        "# Create a list\n",
        "my_list = [1, 2, 3, 4, 5]\n",
        "\n",
        "# Create a tuple\n",
        "my_tuple = (1, 2, 3, 4, 5)\n",
        "\n",
        "# Attempt to change an element in the list\n",
        "my_list[0] = 10\n",
        "print(\"Modified list:\", my_list)  # Output: Modified list: [10, 2, 3, 4, 5]\n",
        "\n",
        "# Attempt to change an element in the tuple (this will raise an error)\n",
        "try:\n",
        "    my_tuple[0] = 10\n",
        "except TypeError as e:\n",
        "    print(\"Error modifying tuple:\", e)  # Output: Error modifying tuple: 'tuple' object does not support item assignment"
      ],
      "metadata": {
        "colab": {
          "base_uri": "https://localhost:8080/"
        },
        "id": "ULohCDG9toen",
        "outputId": "2cc5d5bd-b7c4-4033-dcc1-264cb1021cd4"
      },
      "execution_count": null,
      "outputs": [
        {
          "output_type": "stream",
          "name": "stdout",
          "text": [
            "Modified list: [10, 2, 3, 4, 5]\n",
            "Error modifying tuple: 'tuple' object does not support item assignment\n"
          ]
        }
      ]
    },
    {
      "cell_type": "markdown",
      "source": [
        "Write a function to demonstrate the behavior of mutable and immutable arguments"
      ],
      "metadata": {
        "id": "BYhYgaYOuSBy"
      }
    },
    {
      "cell_type": "code",
      "source": [
        "\n",
        "def demonstrate_mutability(arg_list, arg_int):\n",
        "  \"\"\"Demonstrates the behavior of mutable and immutable arguments.\"\"\"\n",
        "\n",
        "  print(\"Inside the function:\")\n",
        "  print(\"Original list:\", arg_list)\n",
        "  print(\"Original integer:\", arg_int)\n",
        "\n",
        "  arg_list.append(100)  # Modifying the list (mutable)\n",
        "  arg_int = arg_int + 100  # Reassigning the integer (immutable)\n",
        "\n",
        "  print(\"Modified list:\", arg_list)\n",
        "  print(\"Modified integer:\", arg_int)\n",
        "\n",
        "\n",
        "# Example usage\n",
        "my_list = [1, 2, 3]\n",
        "my_int = 5\n",
        "\n",
        "print(\"Before calling the function:\")\n",
        "print(\"Original list:\", my_list)\n",
        "print(\"Original integer:\", my_int)\n",
        "\n",
        "demonstrate_mutability(my_list, my_int)\n",
        "\n",
        "print(\"\\nAfter calling the function:\")\n",
        "print(\"Original list:\", my_list)  # The list is modified because it's mutable\n",
        "print(\"Original integer:\", my_int) # The integer remains unchanged because it's immutable"
      ],
      "metadata": {
        "colab": {
          "base_uri": "https://localhost:8080/"
        },
        "id": "COVtckpPuVWZ",
        "outputId": "ad92aca1-fc5e-4e9d-bf92-c8cc0f76638e"
      },
      "execution_count": null,
      "outputs": [
        {
          "output_type": "stream",
          "name": "stdout",
          "text": [
            "Before calling the function:\n",
            "Original list: [1, 2, 3]\n",
            "Original integer: 5\n",
            "Inside the function:\n",
            "Original list: [1, 2, 3]\n",
            "Original integer: 5\n",
            "Modified list: [1, 2, 3, 100]\n",
            "Modified integer: 105\n",
            "\n",
            "After calling the function:\n",
            "Original list: [1, 2, 3, 100]\n",
            "Original integer: 5\n"
          ]
        }
      ]
    },
    {
      "cell_type": "markdown",
      "source": [
        "Write a function to demonstrate the behavior of mutable and immutable arguments"
      ],
      "metadata": {
        "id": "_YAno3Niur5n"
      }
    },
    {
      "cell_type": "code",
      "source": [
        "\n",
        "def demonstrate_mutability(arg_list, arg_int):\n",
        "  \"\"\"Demonstrates the behavior of mutable and immutable arguments.\"\"\"\n",
        "\n",
        "  print(\"Inside the function:\")\n",
        "  print(\"Original list:\", arg_list)\n",
        "  print(\"Original integer:\", arg_int)\n",
        "\n",
        "  arg_list.append(100)  # Modifying the list (mutable)\n",
        "  arg_int = arg_int + 100  # Reassigning the integer (immutable)\n",
        "\n",
        "  print(\"Modified list:\", arg_list)\n",
        "  print(\"Modified integer:\", arg_int)\n",
        "\n",
        "\n",
        "# Example usage\n",
        "my_list = [1, 2, 3]\n",
        "my_int = 5\n",
        "\n",
        "print(\"Before calling the function:\")\n",
        "print(\"Original list:\", my_list)\n",
        "print(\"Original integer:\", my_int)\n",
        "\n",
        "demonstrate_mutability(my_list, my_int)\n",
        "\n",
        "print(\"\\nAfter calling the function:\")\n",
        "print(\"Original list:\", my_list)  # The list is modified because it's mutable\n",
        "print(\"Original integer:\", my_int) # The integer remains unchanged because it's immutable"
      ],
      "metadata": {
        "id": "DuncXJ6aut_a"
      },
      "execution_count": null,
      "outputs": []
    },
    {
      "cell_type": "markdown",
      "source": [
        "Write a program to demonstrate the use of logical operators\n"
      ],
      "metadata": {
        "id": "Irt8jz53u6NI"
      }
    },
    {
      "cell_type": "code",
      "source": [
        "\n",
        "# Demonstrate logical operators: and, or, not\n",
        "\n",
        "x = 10\n",
        "y = 5\n",
        "\n",
        "# 'and' operator\n",
        "print(f\"x > 5 and y < 10: {x > 5 and y < 10}\")  # True\n",
        "print(f\"x < 5 and y < 10: {x < 5 and y < 10}\")  # False\n",
        "\n",
        "# 'or' operator\n",
        "print(f\"x > 5 or y > 10: {x > 5 or y > 10}\")  # True\n",
        "print(f\"x < 5 or y > 10: {x < 5 or y > 10}\")  # False\n",
        "\n",
        "# 'not' operator\n",
        "print(f\"not (x > 5): {not (x > 5)}\")  # False\n",
        "print(f\"not (x < 5): {not (x < 5)}\")  # True\n",
        "\n",
        "# Combined logical operators\n",
        "print(f\"(x > 5 and y < 10) or (x < 5 and y > 10): {(x > 5 and y < 10) or (x < 5 and y > 10)}\") # True"
      ],
      "metadata": {
        "colab": {
          "base_uri": "https://localhost:8080/"
        },
        "id": "s9BnZxtpu8Q4",
        "outputId": "11119f1a-dfd8-493b-877c-1436776827c3"
      },
      "execution_count": null,
      "outputs": [
        {
          "output_type": "stream",
          "name": "stdout",
          "text": [
            "x > 5 and y < 10: True\n",
            "x < 5 and y < 10: False\n",
            "x > 5 or y > 10: True\n",
            "x < 5 or y > 10: False\n",
            "not (x > 5): False\n",
            "not (x < 5): True\n",
            "(x > 5 and y < 10) or (x < 5 and y > 10): True\n"
          ]
        }
      ]
    },
    {
      "cell_type": "markdown",
      "source": [
        "Write a Python program to convert user input from string to integer, float, and boolean types"
      ],
      "metadata": {
        "id": "DHTsk174vNfy"
      }
    },
    {
      "cell_type": "code",
      "source": [
        "\n",
        "def convert_input():\n",
        "    \"\"\"Converts user input to integer, float, and boolean.\"\"\"\n",
        "    user_input = input(\"Enter a value: \")\n",
        "\n",
        "    try:\n",
        "        integer_value = int(user_input)\n",
        "        print(\"Integer:\", integer_value)\n",
        "    except ValueError:\n",
        "        print(\"Invalid input for integer conversion.\")\n",
        "\n",
        "    try:\n",
        "        float_value = float(user_input)\n",
        "        print(\"Float:\", float_value)\n",
        "    except ValueError:\n",
        "        print(\"Invalid input for float conversion.\")\n",
        "\n",
        "    try:\n",
        "        boolean_value = bool(user_input)\n",
        "        print(\"Boolean:\", boolean_value)  #Note that most inputs will result in True unless it's an empty string or 0\n",
        "    except ValueError:\n",
        "        print(\"Invalid input for boolean conversion\")\n",
        "\n",
        "convert_input()"
      ],
      "metadata": {
        "colab": {
          "base_uri": "https://localhost:8080/"
        },
        "id": "sK35VqnVvQAI",
        "outputId": "9643fb51-1742-47ff-f125-935ad4236ac3"
      },
      "execution_count": null,
      "outputs": [
        {
          "output_type": "stream",
          "name": "stdout",
          "text": [
            "Enter a value: 3.14\n",
            "Invalid input for integer conversion.\n",
            "Float: 3.14\n",
            "Boolean: True\n"
          ]
        }
      ]
    },
    {
      "cell_type": "markdown",
      "source": [
        "Write code to demonstrate type casting with list elements"
      ],
      "metadata": {
        "id": "e-C3DKyovqUl"
      }
    },
    {
      "cell_type": "code",
      "source": [
        "\n",
        "# Create a list with elements of different data types\n",
        "my_list = [10, 3.14, \"hello\", True]\n",
        "\n",
        "# Type casting individual elements\n",
        "int_from_float = int(my_list[1])  # Convert float to integer (truncates decimal)\n",
        "str_from_int = str(my_list[0])   # Convert integer to string\n",
        "bool_from_string = bool(my_list[2]) # Convert string to boolean (most strings are True, except empty string)\n",
        "\n",
        "\n",
        "print(f\"Original list: {my_list}\")\n",
        "print(f\"Integer from float: {int_from_float}\")\n",
        "print(f\"String from integer: {str_from_int}\")\n",
        "print(f\"Boolean from string: {bool_from_string}\")\n",
        "\n",
        "#Iterate through the list and print the type of each element\n",
        "print(\"\\nTypes of elements in the list:\")\n",
        "for element in my_list:\n",
        "    print(f\"Element: {element}, Type: {type(element)}\")\n"
      ],
      "metadata": {
        "colab": {
          "base_uri": "https://localhost:8080/"
        },
        "id": "RYCDureXvvl6",
        "outputId": "4d2e2ef9-8f1c-4b3a-dc3d-0c949288e2b2"
      },
      "execution_count": null,
      "outputs": [
        {
          "output_type": "stream",
          "name": "stdout",
          "text": [
            "Original list: [10, 3.14, 'hello', True]\n",
            "Integer from float: 3\n",
            "String from integer: 10\n",
            "Boolean from string: True\n",
            "\n",
            "Types of elements in the list:\n",
            "Element: 10, Type: <class 'int'>\n",
            "Element: 3.14, Type: <class 'float'>\n",
            "Element: hello, Type: <class 'str'>\n",
            "Element: True, Type: <class 'bool'>\n"
          ]
        }
      ]
    },
    {
      "cell_type": "markdown",
      "source": [
        "Write a program that checks if a number is positive, negative, or zero"
      ],
      "metadata": {
        "id": "4jKKMdIfwG7M"
      }
    },
    {
      "cell_type": "code",
      "source": [
        "\n",
        "def check_number(number):\n",
        "    if number > 0:\n",
        "        return \"Positive\"\n",
        "    elif number < 0:\n",
        "        return \"Negative\"\n",
        "    else:\n",
        "        return \"Zero\"\n",
        "\n",
        "# Get input from the user\n",
        "num = float(input(\"Enter a number: \"))\n",
        "\n",
        "# Check the number and print the result\n",
        "result = check_number(num)\n",
        "print(f\"The number is {result}\")"
      ],
      "metadata": {
        "colab": {
          "base_uri": "https://localhost:8080/"
        },
        "id": "P-3s0Q6nwIij",
        "outputId": "6733f218-7e25-4f0f-f63c-625c98afb69c"
      },
      "execution_count": null,
      "outputs": [
        {
          "output_type": "stream",
          "name": "stdout",
          "text": [
            "Enter a number: 67\n",
            "The number is Positive\n"
          ]
        }
      ]
    },
    {
      "cell_type": "markdown",
      "source": [
        "Write a for loop to print numbers from 1 to 100"
      ],
      "metadata": {
        "id": "CtpHDlXT36Wx"
      }
    },
    {
      "cell_type": "code",
      "source": [
        "\n",
        "for i in range(1, 101):\n",
        "  print(i)"
      ],
      "metadata": {
        "colab": {
          "base_uri": "https://localhost:8080/"
        },
        "id": "gbq0FgpL37c9",
        "outputId": "76a018cb-05ab-4f26-b945-4c0bc2f9af44"
      },
      "execution_count": null,
      "outputs": [
        {
          "output_type": "stream",
          "name": "stdout",
          "text": [
            "1\n",
            "2\n",
            "3\n",
            "4\n",
            "5\n",
            "6\n",
            "7\n",
            "8\n",
            "9\n",
            "10\n",
            "11\n",
            "12\n",
            "13\n",
            "14\n",
            "15\n",
            "16\n",
            "17\n",
            "18\n",
            "19\n",
            "20\n",
            "21\n",
            "22\n",
            "23\n",
            "24\n",
            "25\n",
            "26\n",
            "27\n",
            "28\n",
            "29\n",
            "30\n",
            "31\n",
            "32\n",
            "33\n",
            "34\n",
            "35\n",
            "36\n",
            "37\n",
            "38\n",
            "39\n",
            "40\n",
            "41\n",
            "42\n",
            "43\n",
            "44\n",
            "45\n",
            "46\n",
            "47\n",
            "48\n",
            "49\n",
            "50\n",
            "51\n",
            "52\n",
            "53\n",
            "54\n",
            "55\n",
            "56\n",
            "57\n",
            "58\n",
            "59\n",
            "60\n",
            "61\n",
            "62\n",
            "63\n",
            "64\n",
            "65\n",
            "66\n",
            "67\n",
            "68\n",
            "69\n",
            "70\n",
            "71\n",
            "72\n",
            "73\n",
            "74\n",
            "75\n",
            "76\n",
            "77\n",
            "78\n",
            "79\n",
            "80\n",
            "81\n",
            "82\n",
            "83\n",
            "84\n",
            "85\n",
            "86\n",
            "87\n",
            "88\n",
            "89\n",
            "90\n",
            "91\n",
            "92\n",
            "93\n",
            "94\n",
            "95\n",
            "96\n",
            "97\n",
            "98\n",
            "99\n",
            "100\n"
          ]
        }
      ]
    },
    {
      "cell_type": "markdown",
      "source": [
        "Write a program to reverse a string using a while loop"
      ],
      "metadata": {
        "id": "N4hfhNMv5pvx"
      }
    },
    {
      "cell_type": "code",
      "source": [
        "\n",
        "def reverse_string_while(input_string):\n",
        "    reversed_string = \"\"\n",
        "    index = len(input_string) - 1\n",
        "    while index >= 0:\n",
        "        reversed_string += input_string[index]\n",
        "        index -= 1\n",
        "    return reversed_string\n",
        "\n",
        "# Example usage\n",
        "string_to_reverse = \"hello\"\n",
        "reversed_string = reverse_string_while(string_to_reverse)\n",
        "print(f\"Reversed string: {reversed_string}\")"
      ],
      "metadata": {
        "colab": {
          "base_uri": "https://localhost:8080/"
        },
        "id": "icySP3VV5sG3",
        "outputId": "414451d9-a256-4c4b-9237-e2cf3e0da6fd"
      },
      "execution_count": null,
      "outputs": [
        {
          "output_type": "stream",
          "name": "stdout",
          "text": [
            "Reversed string: olleh\n"
          ]
        }
      ]
    },
    {
      "cell_type": "markdown",
      "source": [
        "Write a Python program to calculate the factorial of a number provided by the user using a while loop."
      ],
      "metadata": {
        "id": "9clhfWVd59HI"
      }
    },
    {
      "cell_type": "code",
      "source": [
        "\n",
        "def factorial_while(n):\n",
        "  \"\"\"Calculates the factorial of a non-negative integer using a while loop.\"\"\"\n",
        "  if not isinstance(n, int) or n < 0:\n",
        "    return \"Factorial is not defined for negative numbers or non-integers.\"\n",
        "\n",
        "  if n == 0:\n",
        "    return 1\n",
        "\n",
        "  factorial = 1\n",
        "  i = 1\n",
        "  while i <= n:\n",
        "    factorial *= i\n",
        "    i += 1\n",
        "  return factorial\n",
        "\n",
        "# Get input from the user\n",
        "num = int(input(\"Enter a non-negative integer: \"))\n",
        "\n",
        "# Calculate and print the factorial\n",
        "result = factorial_while(num)\n",
        "print(f\"The factorial of {num} is {result}\")"
      ],
      "metadata": {
        "colab": {
          "base_uri": "https://localhost:8080/"
        },
        "id": "AxDZsa9n5-_b",
        "outputId": "44e26000-e8d0-4d4e-8386-a10be7363d40"
      },
      "execution_count": null,
      "outputs": [
        {
          "output_type": "stream",
          "name": "stdout",
          "text": [
            "Enter a non-negative integer: 3\n",
            "The factorial of 3 is 6\n"
          ]
        }
      ]
    }
  ]
}