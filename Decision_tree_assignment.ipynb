{
  "cells": [
    {
      "cell_type": "markdown",
      "metadata": {
        "id": "view-in-github",
        "colab_type": "text"
      },
      "source": [
        "<a href=\"https://colab.research.google.com/github/upkarsssharma/Data_science_assignment1/blob/main/Decision_tree_assignment.ipynb\" target=\"_parent\"><img src=\"https://colab.research.google.com/assets/colab-badge.svg\" alt=\"Open In Colab\"/></a>"
      ]
    },
    {
      "cell_type": "code",
      "execution_count": null,
      "id": "6797f11c-cf24-4ca3-bbb1-a3c805caf94d",
      "metadata": {
        "id": "6797f11c-cf24-4ca3-bbb1-a3c805caf94d"
      },
      "outputs": [],
      "source": []
    },
    {
      "cell_type": "code",
      "execution_count": null,
      "id": "58a5c92d-3a94-4537-9e9b-a17a694519d1",
      "metadata": {
        "id": "58a5c92d-3a94-4537-9e9b-a17a694519d1"
      },
      "outputs": [],
      "source": [
        "### 1. What is a Decision Tree, and how does it work?\n",
        "A Decision Tree is a supervised machine learning algorithm used for classification and regression. It works by recursively splitting the dataset into subsets based on feature values to create a tree-like structure."
      ]
    },
    {
      "cell_type": "code",
      "execution_count": null,
      "id": "37513004-f1ed-45ee-ad62-49526f2905bb",
      "metadata": {
        "id": "37513004-f1ed-45ee-ad62-49526f2905bb"
      },
      "outputs": [],
      "source": [
        "### 2. What are impurity measures in Decision Trees?\n",
        "Impurity measures quantify the homogeneity or disorder in a dataset. Common impurity measures:\n",
        "- Gini Impurity\n",
        "- Entropy\n",
        "- Mean Squared Error (for regression)"
      ]
    },
    {
      "cell_type": "code",
      "execution_count": null,
      "id": "3a5431d1-acb7-4062-8f5a-b436e092fd16",
      "metadata": {
        "id": "3a5431d1-acb7-4062-8f5a-b436e092fd16"
      },
      "outputs": [],
      "source": []
    },
    {
      "cell_type": "code",
      "execution_count": null,
      "id": "867d197c-46a3-49d5-bad7-9506e9ebaca6",
      "metadata": {
        "id": "867d197c-46a3-49d5-bad7-9506e9ebaca6"
      },
      "outputs": [],
      "source": [
        "### 3. What is the mathematical formula for Gini Impurity?\n",
        "Gini = 1 - \\sum(p_i^2)"
      ]
    },
    {
      "cell_type": "code",
      "execution_count": null,
      "id": "e6583237-b38d-45fa-a5b4-8d59030ef170",
      "metadata": {
        "id": "e6583237-b38d-45fa-a5b4-8d59030ef170"
      },
      "outputs": [],
      "source": []
    },
    {
      "cell_type": "code",
      "execution_count": null,
      "id": "92574aaf-fd3c-4362-94ea-fa3d74eca0d0",
      "metadata": {
        "id": "92574aaf-fd3c-4362-94ea-fa3d74eca0d0"
      },
      "outputs": [],
      "source": [
        "### 4. What is the mathematical formula for Entropy?\n",
        "Entropy = -\\sum(p_i * log2(p_i))"
      ]
    },
    {
      "cell_type": "code",
      "execution_count": null,
      "id": "5171c5f0-f682-4962-9dab-ebd566833651",
      "metadata": {
        "id": "5171c5f0-f682-4962-9dab-ebd566833651"
      },
      "outputs": [],
      "source": []
    },
    {
      "cell_type": "code",
      "execution_count": null,
      "id": "2ed3d76c-a6e8-4429-834e-9224d29f6d77",
      "metadata": {
        "id": "2ed3d76c-a6e8-4429-834e-9224d29f6d77"
      },
      "outputs": [],
      "source": [
        "### 5. What is Information Gain, and how is it used in Decision Trees?\n",
        "Information Gain = Entropy(parent) - \\sum(weighted entropy of children)"
      ]
    },
    {
      "cell_type": "code",
      "execution_count": null,
      "id": "54dcd6de-c233-4b08-b328-d24b1c04d2f8",
      "metadata": {
        "id": "54dcd6de-c233-4b08-b328-d24b1c04d2f8"
      },
      "outputs": [],
      "source": []
    },
    {
      "cell_type": "code",
      "execution_count": null,
      "id": "9f103ab4-3170-429a-87c4-3d5ee815f51a",
      "metadata": {
        "id": "9f103ab4-3170-429a-87c4-3d5ee815f51a"
      },
      "outputs": [],
      "source": [
        "### 6. What is the difference between Gini Impurity and Entropy?\n",
        "- Gini is simpler and faster.\n",
        "- Entropy is more informative theoretically but computationally more expensive."
      ]
    },
    {
      "cell_type": "code",
      "execution_count": null,
      "id": "481adc6a-d01c-469d-8db7-67d23b8200b8",
      "metadata": {
        "id": "481adc6a-d01c-469d-8db7-67d23b8200b8"
      },
      "outputs": [],
      "source": []
    },
    {
      "cell_type": "code",
      "execution_count": null,
      "id": "3baa7efe-bbba-4f0b-ae52-90f07ffd51f2",
      "metadata": {
        "id": "3baa7efe-bbba-4f0b-ae52-90f07ffd51f2"
      },
      "outputs": [],
      "source": [
        "### 7. What is the mathematical explanation behind Decision Trees?\n",
        "Greedy recursive binary partitioning that optimizes impurity reduction."
      ]
    },
    {
      "cell_type": "code",
      "execution_count": null,
      "id": "b43fc696-e0c2-463b-abe5-c7bdb16c7f34",
      "metadata": {
        "id": "b43fc696-e0c2-463b-abe5-c7bdb16c7f34"
      },
      "outputs": [],
      "source": []
    },
    {
      "cell_type": "code",
      "execution_count": null,
      "id": "f8c30c60-7a40-481d-85fb-04918aed1e80",
      "metadata": {
        "id": "f8c30c60-7a40-481d-85fb-04918aed1e80"
      },
      "outputs": [],
      "source": [
        "### 8. What is Pre-Pruning in Decision Trees?\n",
        "Pre-pruning stops tree growth early using conditions like max depth, min samples, etc."
      ]
    },
    {
      "cell_type": "code",
      "execution_count": null,
      "id": "237868b3-ad08-43f1-ba8f-be498817b222",
      "metadata": {
        "id": "237868b3-ad08-43f1-ba8f-be498817b222"
      },
      "outputs": [],
      "source": []
    },
    {
      "cell_type": "code",
      "execution_count": null,
      "id": "e8a79a3e-dbd8-4afe-be5c-1755e10b0861",
      "metadata": {
        "id": "e8a79a3e-dbd8-4afe-be5c-1755e10b0861"
      },
      "outputs": [],
      "source": [
        "### 9. What is Post-Pruning in Decision Trees?\n",
        "Post-pruning grows the full tree then prunes based on validation or cost complexity."
      ]
    },
    {
      "cell_type": "code",
      "execution_count": null,
      "id": "c9a0922e-b14a-47af-bdfd-df2c141fa3f5",
      "metadata": {
        "id": "c9a0922e-b14a-47af-bdfd-df2c141fa3f5"
      },
      "outputs": [],
      "source": []
    },
    {
      "cell_type": "code",
      "execution_count": null,
      "id": "f1afa106-bb5f-44a9-bd3b-2dfe60fd602e",
      "metadata": {
        "id": "f1afa106-bb5f-44a9-bd3b-2dfe60fd602e"
      },
      "outputs": [],
      "source": [
        "### 10. What is the difference between Pre-Pruning and Post-Pruning?\n",
        "Pre-pruning avoids complexity early, post-pruning simplifies after full growth."
      ]
    },
    {
      "cell_type": "code",
      "execution_count": null,
      "id": "ce21e430-4846-4072-9baa-f5eff156ed9f",
      "metadata": {
        "id": "ce21e430-4846-4072-9baa-f5eff156ed9f"
      },
      "outputs": [],
      "source": []
    },
    {
      "cell_type": "code",
      "execution_count": null,
      "id": "6ee19d1f-9980-46ae-96a0-b38695f5a4b0",
      "metadata": {
        "id": "6ee19d1f-9980-46ae-96a0-b38695f5a4b0"
      },
      "outputs": [],
      "source": [
        "### 11. What is a Decision Tree Regressor?\n",
        "It is a Decision Tree model used for predicting continuous outputs using MSE."
      ]
    },
    {
      "cell_type": "code",
      "execution_count": null,
      "id": "4a6431f2-17ab-4ea3-a71f-effb1eaa79f3",
      "metadata": {
        "id": "4a6431f2-17ab-4ea3-a71f-effb1eaa79f3"
      },
      "outputs": [],
      "source": []
    },
    {
      "cell_type": "code",
      "execution_count": null,
      "id": "db03532f-aa02-40e1-a23c-6b3d89f56ee9",
      "metadata": {
        "id": "db03532f-aa02-40e1-a23c-6b3d89f56ee9"
      },
      "outputs": [],
      "source": [
        "### 12. What are the advantages and disadvantages of Decision Trees?\n",
        "+ Easy to interpret, no need for scaling, handles mixed data types.\n",
        "- Overfits easily, unstable, biased to features with more splits."
      ]
    },
    {
      "cell_type": "code",
      "execution_count": null,
      "id": "139fad80-3ba5-47d8-a38d-c24e62908a60",
      "metadata": {
        "id": "139fad80-3ba5-47d8-a38d-c24e62908a60"
      },
      "outputs": [],
      "source": []
    },
    {
      "cell_type": "code",
      "execution_count": null,
      "id": "c31b48b9-a571-4a39-b009-9afdd78408b0",
      "metadata": {
        "id": "c31b48b9-a571-4a39-b009-9afdd78408b0"
      },
      "outputs": [],
      "source": [
        "### 13. How does a Decision Tree handle missing values?\n",
        "- Surrogate splits\n",
        "- Ignore missing during split\n",
        "- Imputation"
      ]
    },
    {
      "cell_type": "code",
      "execution_count": null,
      "id": "52a154ce-51d6-4172-a447-fe9ba2503bb7",
      "metadata": {
        "id": "52a154ce-51d6-4172-a447-fe9ba2503bb7"
      },
      "outputs": [],
      "source": []
    },
    {
      "cell_type": "code",
      "execution_count": null,
      "id": "922db02b-2acb-47ab-a50e-f3918c5cca3a",
      "metadata": {
        "id": "922db02b-2acb-47ab-a50e-f3918c5cca3a"
      },
      "outputs": [],
      "source": [
        "### 14. How does a Decision Tree handle categorical features?\n",
        "- One-hot encoding or label encoding (in sklearn)"
      ]
    },
    {
      "cell_type": "code",
      "execution_count": null,
      "id": "4d70d778-84e8-4b9c-8d9f-b19eda5df6ed",
      "metadata": {
        "id": "4d70d778-84e8-4b9c-8d9f-b19eda5df6ed"
      },
      "outputs": [],
      "source": [
        "### 15. What are some real-world applications of Decision Trees?\n",
        "- Diagnosis, fraud detection, credit scoring, marketing, manufacturing, etc."
      ]
    },
    {
      "cell_type": "code",
      "execution_count": null,
      "id": "b48996c3-8d3a-4c06-a01a-acb60345df5d",
      "metadata": {
        "id": "b48996c3-8d3a-4c06-a01a-acb60345df5d"
      },
      "outputs": [],
      "source": [
        "## 1. Train a Decision Tree Classifier on the Iris dataset"
      ]
    },
    {
      "cell_type": "code",
      "execution_count": null,
      "id": "25d265e7-8cb4-4b4c-bbef-ceff9d1dd806",
      "metadata": {
        "id": "25d265e7-8cb4-4b4c-bbef-ceff9d1dd806",
        "outputId": "9efc0988-bbec-40a4-9ea3-52f03dcf1339"
      },
      "outputs": [
        {
          "name": "stdout",
          "output_type": "stream",
          "text": [
            "Accuracy: 0.9444444444444444\n"
          ]
        }
      ],
      "source": [
        "from sklearn.datasets import load_wine\n",
        "from sklearn.tree import DecisionTreeClassifier\n",
        "from sklearn.model_selection import train_test_split\n",
        "from sklearn.metrics import accuracy_score\n",
        "\n",
        "iris = load_wine()\n",
        "X_train, X_test, y_train, y_test = train_test_split(iris.data, iris.target, test_size=0.2, random_state=42)\n",
        "clf = DecisionTreeClassifier()\n",
        "clf.fit(X_train, y_train)\n",
        "y_pred = clf.predict(X_test)\n",
        "print(\"Accuracy:\", accuracy_score(y_test, y_pred))"
      ]
    },
    {
      "cell_type": "code",
      "execution_count": null,
      "id": "264dd0a1-98ec-412d-8924-eabb4315a31f",
      "metadata": {
        "id": "264dd0a1-98ec-412d-8924-eabb4315a31f"
      },
      "outputs": [],
      "source": [
        "## 2. Train with Gini Impurity and print feature importances"
      ]
    },
    {
      "cell_type": "code",
      "execution_count": null,
      "id": "84bbf20d-60e9-4587-ae78-309fc56f27b2",
      "metadata": {
        "scrolled": true,
        "id": "84bbf20d-60e9-4587-ae78-309fc56f27b2",
        "outputId": "27c4e561-dc44-4fbb-e2d4-69eff5c48f81"
      },
      "outputs": [
        {
          "name": "stdout",
          "output_type": "stream",
          "text": [
            "Feature Importances: [0.01899507 0.         0.02094206 0.         0.         0.\n",
            " 0.41105326 0.         0.         0.38493424 0.         0.\n",
            " 0.16407537]\n"
          ]
        }
      ],
      "source": [
        "clf_gini = DecisionTreeClassifier(criterion='gini')\n",
        "clf_gini.fit(X_train, y_train)\n",
        "print(\"Feature Importances:\", clf_gini.feature_importances_)"
      ]
    },
    {
      "cell_type": "code",
      "execution_count": null,
      "id": "ca7d5c6f-2031-49b0-859a-f9c2e84cd68d",
      "metadata": {
        "id": "ca7d5c6f-2031-49b0-859a-f9c2e84cd68d"
      },
      "outputs": [],
      "source": [
        "## 3. Train with Entropy and print accuracy"
      ]
    },
    {
      "cell_type": "code",
      "execution_count": null,
      "id": "1952bae6-62ab-473c-84cc-c50b95348a5b",
      "metadata": {
        "scrolled": true,
        "id": "1952bae6-62ab-473c-84cc-c50b95348a5b",
        "outputId": "47bce9a5-28ac-4db3-bffc-c046d531f447"
      },
      "outputs": [
        {
          "name": "stdout",
          "output_type": "stream",
          "text": [
            "Accuracy with Entropy: 0.9166666666666666\n"
          ]
        }
      ],
      "source": [
        "clf_entropy = DecisionTreeClassifier(criterion='entropy')\n",
        "clf_entropy.fit(X_train, y_train)\n",
        "y_pred = clf_entropy.predict(X_test)\n",
        "print(\"Accuracy with Entropy:\", accuracy_score(y_test, y_pred))"
      ]
    },
    {
      "cell_type": "code",
      "execution_count": null,
      "id": "8d85361d-d8a5-44c3-98d9-c7d2f48abbbd",
      "metadata": {
        "id": "8d85361d-d8a5-44c3-98d9-c7d2f48abbbd"
      },
      "outputs": [],
      "source": [
        "## 4. Decision Tree Regressor with MSE"
      ]
    },
    {
      "cell_type": "code",
      "execution_count": null,
      "id": "358284de-5be8-4b33-8b3f-72f7d3414be9",
      "metadata": {
        "id": "358284de-5be8-4b33-8b3f-72f7d3414be9",
        "outputId": "c88aa283-2282-429d-ce18-e875d49d167b"
      },
      "outputs": [
        {
          "name": "stdout",
          "output_type": "stream",
          "text": [
            "MSE: 0.4947938357017442\n"
          ]
        }
      ],
      "source": [
        "from sklearn.datasets import fetch_california_housing\n",
        "from sklearn.tree import DecisionTreeRegressor\n",
        "from sklearn.metrics import mean_squared_error\n",
        "\n",
        "housing = fetch_california_housing()\n",
        "X_train, X_test, y_train, y_test = train_test_split(housing.data, housing.target, test_size=0.2, random_state=42)\n",
        "reg = DecisionTreeRegressor()\n",
        "reg.fit(X_train, y_train)\n",
        "y_pred = reg.predict(X_test)\n",
        "print(\"MSE:\", mean_squared_error(y_test, y_pred))"
      ]
    },
    {
      "cell_type": "code",
      "execution_count": null,
      "id": "e09a54fd-e34d-4f3a-b89e-b79cf5a17b93",
      "metadata": {
        "id": "e09a54fd-e34d-4f3a-b89e-b79cf5a17b93"
      },
      "outputs": [],
      "source": [
        "## 5. Visualize tree using Graphviz"
      ]
    },
    {
      "cell_type": "code",
      "execution_count": null,
      "id": "094ab66a-2358-4040-82bb-45bfe3fff01d",
      "metadata": {
        "scrolled": true,
        "id": "094ab66a-2358-4040-82bb-45bfe3fff01d"
      },
      "outputs": [],
      "source": [
        "\n",
        "from sklearn.tree import export_graphviz\n",
        "import graphviz\n",
        "\n",
        "dot_data = export_graphviz(clf, out_file=None, feature_names=iris.feature_names, class_names=iris.target_names, filled=True)\n",
        "graph = graphviz.Source(dot_data)\n",
        "graph.render(\"wine_tree\")"
      ]
    },
    {
      "cell_type": "code",
      "execution_count": null,
      "id": "e21f906b-2094-4af2-b011-8cdc24aa8831",
      "metadata": {
        "id": "e21f906b-2094-4af2-b011-8cdc24aa8831"
      },
      "outputs": [],
      "source": [
        "## 6. Compare max_depth=3 vs full tree"
      ]
    },
    {
      "cell_type": "code",
      "execution_count": null,
      "id": "0980e204-3511-42f9-bb9e-dd7538ea1fc2",
      "metadata": {
        "id": "0980e204-3511-42f9-bb9e-dd7538ea1fc2",
        "outputId": "a2465b53-45fc-43e0-b5ef-da560337b58c"
      },
      "outputs": [
        {
          "name": "stdout",
          "output_type": "stream",
          "text": [
            "Full Tree Accuracy: 0.9444444444444444\n",
            "Depth=3 Tree Accuracy: 0.9444444444444444\n"
          ]
        }
      ],
      "source": [
        "iris = load_wine()\n",
        "X_train, X_test, y_train, y_test = train_test_split(iris.data, iris.target, test_size=0.2, random_state=42)\n",
        "\n",
        "clf_full = DecisionTreeClassifier()\n",
        "clf_full.fit(X_train, y_train)\n",
        "print(\"Full Tree Accuracy:\", accuracy_score(y_test, clf_full.predict(X_test)))\n",
        "\n",
        "clf_limited = DecisionTreeClassifier(max_depth=3)\n",
        "clf_limited.fit(X_train, y_train)\n",
        "print(\"Depth=3 Tree Accuracy:\", accuracy_score(y_test, clf_limited.predict(X_test)))"
      ]
    },
    {
      "cell_type": "code",
      "execution_count": null,
      "id": "fb66ae14-dbe5-4770-9245-5f0093eedee5",
      "metadata": {
        "id": "fb66ae14-dbe5-4770-9245-5f0093eedee5"
      },
      "outputs": [],
      "source": [
        "## 7. Use min_samples_split=5"
      ]
    },
    {
      "cell_type": "code",
      "execution_count": null,
      "id": "c3c8ea06-3aa9-43f5-8fe7-7a872d25d490",
      "metadata": {
        "id": "c3c8ea06-3aa9-43f5-8fe7-7a872d25d490",
        "outputId": "5be9dd56-a96f-4da9-d50b-3308c68c1263"
      },
      "outputs": [
        {
          "name": "stdout",
          "output_type": "stream",
          "text": [
            "Accuracy with min_samples_split=5: 0.9444444444444444\n"
          ]
        }
      ],
      "source": [
        "clf_split5 = DecisionTreeClassifier(min_samples_split=5)\n",
        "clf_split5.fit(X_train, y_train)\n",
        "print(\"Accuracy with min_samples_split=5:\", accuracy_score(y_test, clf_split5.predict(X_test)))"
      ]
    },
    {
      "cell_type": "code",
      "execution_count": null,
      "id": "3c97a122-62b7-4c83-8482-1c5dbef7d6e3",
      "metadata": {
        "id": "3c97a122-62b7-4c83-8482-1c5dbef7d6e3"
      },
      "outputs": [],
      "source": [
        "## 8. Feature scaling comparison"
      ]
    },
    {
      "cell_type": "code",
      "execution_count": null,
      "id": "2c49d0cb-4e4c-4004-9e75-e3f5ddcbac25",
      "metadata": {
        "id": "2c49d0cb-4e4c-4004-9e75-e3f5ddcbac25",
        "outputId": "52ed1cf9-b425-4545-d6a3-aa107a70cd0f"
      },
      "outputs": [
        {
          "name": "stdout",
          "output_type": "stream",
          "text": [
            "Scaled Accuracy: 0.9444444444444444\n"
          ]
        }
      ],
      "source": [
        "from sklearn.preprocessing import StandardScaler\n",
        "scaler = StandardScaler()\n",
        "X_scaled = scaler.fit_transform(iris.data)\n",
        "X_train_s, X_test_s, y_train_s, y_test_s = train_test_split(X_scaled, iris.target, test_size=0.2, random_state=42)\n",
        "clf_scaled = DecisionTreeClassifier()\n",
        "clf_scaled.fit(X_train_s, y_train_s)\n",
        "print(\"Scaled Accuracy:\", accuracy_score(y_test_s, clf_scaled.predict(X_test_s)))"
      ]
    },
    {
      "cell_type": "code",
      "execution_count": null,
      "id": "f5c8e8da-2bd6-4700-a2ce-f02ae4480775",
      "metadata": {
        "id": "f5c8e8da-2bd6-4700-a2ce-f02ae4480775"
      },
      "outputs": [],
      "source": [
        "## 9. One-vs-Rest for multiclass"
      ]
    },
    {
      "cell_type": "code",
      "execution_count": null,
      "id": "d3369f57-7163-4fed-9bcf-2027053ba667",
      "metadata": {
        "id": "d3369f57-7163-4fed-9bcf-2027053ba667",
        "outputId": "061a8482-1256-49a7-ee9c-2ba56be2c29b"
      },
      "outputs": [
        {
          "name": "stdout",
          "output_type": "stream",
          "text": [
            "OvR Accuracy: 0.9444444444444444\n"
          ]
        }
      ],
      "source": [
        "from sklearn.multiclass import OneVsRestClassifier\n",
        "ovr_clf = OneVsRestClassifier(DecisionTreeClassifier())\n",
        "ovr_clf.fit(X_train, y_train)\n",
        "print(\"OvR Accuracy:\", accuracy_score(y_test, ovr_clf.predict(X_test)))"
      ]
    },
    {
      "cell_type": "code",
      "execution_count": null,
      "id": "8eead494-c421-4164-81cd-827177cc7ba2",
      "metadata": {
        "id": "8eead494-c421-4164-81cd-827177cc7ba2"
      },
      "outputs": [],
      "source": [
        "## 10. Display feature importance"
      ]
    },
    {
      "cell_type": "code",
      "execution_count": null,
      "id": "59db43d3-2d5a-43fa-acd1-d535204e238e",
      "metadata": {
        "id": "59db43d3-2d5a-43fa-acd1-d535204e238e",
        "outputId": "2dbc73c7-6fac-4a91-d9ca-bab457fd052b"
      },
      "outputs": [
        {
          "name": "stdout",
          "output_type": "stream",
          "text": [
            "Feature Importances: [0.01899507 0.         0.02094206 0.         0.         0.\n",
            " 0.41105326 0.         0.         0.38493424 0.         0.\n",
            " 0.16407537]\n"
          ]
        }
      ],
      "source": [
        "print(\"Feature Importances:\", clf.feature_importances_)"
      ]
    },
    {
      "cell_type": "code",
      "execution_count": null,
      "id": "b044c5c7-b3fb-4ce6-8344-241cbce2c64c",
      "metadata": {
        "id": "b044c5c7-b3fb-4ce6-8344-241cbce2c64c"
      },
      "outputs": [],
      "source": [
        "\n",
        "## 11. Regressor with max_depth=5 vs unrestricted"
      ]
    },
    {
      "cell_type": "code",
      "execution_count": null,
      "id": "48fc6f3f-3d21-45dc-8b14-ffbe84753324",
      "metadata": {
        "id": "48fc6f3f-3d21-45dc-8b14-ffbe84753324",
        "outputId": "2c34664c-34ed-465f-eab6-35bc2c31b237"
      },
      "outputs": [
        {
          "name": "stdout",
          "output_type": "stream",
          "text": [
            "MSE (depth=5): 0.16666666666666666\n"
          ]
        }
      ],
      "source": [
        "reg5 = DecisionTreeRegressor(max_depth=5)\n",
        "reg5.fit(X_train, y_train)\n",
        "print(\"MSE (depth=5):\", mean_squared_error(y_test, reg5.predict(X_test)))"
      ]
    },
    {
      "cell_type": "code",
      "execution_count": null,
      "id": "f695fea3-04c7-4b44-9db2-25157488f7b4",
      "metadata": {
        "id": "f695fea3-04c7-4b44-9db2-25157488f7b4"
      },
      "outputs": [],
      "source": [
        "## 12. Cost Complexity Pruning"
      ]
    },
    {
      "cell_type": "code",
      "execution_count": null,
      "id": "7e64c1c5-c88c-4515-930d-b8cecde02e06",
      "metadata": {
        "id": "7e64c1c5-c88c-4515-930d-b8cecde02e06",
        "outputId": "d7a63e8f-578d-43f0-f46d-bfe46a690b7e"
      },
      "outputs": [
        {
          "name": "stdout",
          "output_type": "stream",
          "text": [
            "Pruned Accuracies: [0.9444444444444444, 0.9444444444444444, 0.9444444444444444, 0.9444444444444444, 0.8611111111111112, 0.3888888888888889]\n"
          ]
        }
      ],
      "source": [
        "path = clf.cost_complexity_pruning_path(X_train, y_train)\n",
        "ccp_alphas = path.ccp_alphas\n",
        "clfs = [DecisionTreeClassifier(ccp_alpha=alpha).fit(X_train, y_train) for alpha in ccp_alphas]\n",
        "scores = [accuracy_score(y_test, clf.predict(X_test)) for clf in clfs]\n",
        "print(\"Pruned Accuracies:\", scores)"
      ]
    },
    {
      "cell_type": "code",
      "execution_count": null,
      "id": "8c0f28d1-e9c2-4369-8728-cab5782f3596",
      "metadata": {
        "id": "8c0f28d1-e9c2-4369-8728-cab5782f3596"
      },
      "outputs": [],
      "source": [
        "## 13. Precision, Recall, F1"
      ]
    },
    {
      "cell_type": "code",
      "execution_count": null,
      "id": "c65d397e-2dcd-48c4-8fa8-a1fdaf10c741",
      "metadata": {
        "scrolled": true,
        "id": "c65d397e-2dcd-48c4-8fa8-a1fdaf10c741"
      },
      "outputs": [],
      "source": [
        "from sklearn.metrics import precision_score, recall_score, f1_score\n",
        "print(\"Precision:\", precision_score(y_test, y_pred, average='we'))\n",
        "print(\"Recall:\", recall_score(y_test, y_pred, average='macro'))\n",
        "print(\"F1 Score:\", f1_score(y_test, y_pred, average='macro'))"
      ]
    },
    {
      "cell_type": "code",
      "execution_count": null,
      "id": "ccf40358-188a-4ac1-adaf-315c4687a14f",
      "metadata": {
        "id": "ccf40358-188a-4ac1-adaf-315c4687a14f"
      },
      "outputs": [],
      "source": [
        "## 14. Confusion matrix visualization"
      ]
    },
    {
      "cell_type": "code",
      "execution_count": null,
      "id": "453ff957-a8c7-48fa-bfea-e27ec720518d",
      "metadata": {
        "scrolled": true,
        "id": "453ff957-a8c7-48fa-bfea-e27ec720518d"
      },
      "outputs": [],
      "source": [
        "import seaborn as sns\n",
        "import matplotlib.pyplot as plt\n",
        "from sklearn.metrics import confusion_matrix\n",
        "\n",
        "\n",
        "cm = confusion_matrix(y_test, y_pred)\n",
        "sns.heatmap(cm, annot=True, fmt='d', cmap='Blues')\n",
        "plt.xlabel(\"Predicted\")\n",
        "plt.ylabel(\"Actual\")\n",
        "plt.title(\"Confusion Matrix\")\n",
        "plt.show()"
      ]
    },
    {
      "cell_type": "code",
      "execution_count": null,
      "id": "7ba2d604-cced-4a4f-b1fa-8f827bc19ccb",
      "metadata": {
        "id": "7ba2d604-cced-4a4f-b1fa-8f827bc19ccb"
      },
      "outputs": [],
      "source": []
    },
    {
      "cell_type": "code",
      "execution_count": null,
      "id": "9e0a3971-eb43-4a05-8928-976353d43be2",
      "metadata": {
        "id": "9e0a3971-eb43-4a05-8928-976353d43be2"
      },
      "outputs": [],
      "source": [
        "## 15. GridSearchCV for best hyperparameters"
      ]
    },
    {
      "cell_type": "code",
      "execution_count": null,
      "id": "6ee44f72-c943-4122-904b-cbb3666faa24",
      "metadata": {
        "id": "6ee44f72-c943-4122-904b-cbb3666faa24"
      },
      "outputs": [],
      "source": []
    },
    {
      "cell_type": "code",
      "execution_count": null,
      "id": "cbed66fc-6a06-4daf-b847-a9868d64984e",
      "metadata": {
        "id": "cbed66fc-6a06-4daf-b847-a9868d64984e",
        "outputId": "acfcc857-3e85-469d-bfe1-c26ed23ed915"
      },
      "outputs": [
        {
          "name": "stdout",
          "output_type": "stream",
          "text": [
            "Best Params: {'max_depth': 3, 'min_samples_split': 2}\n",
            "Best Score: 0.9224137931034484\n"
          ]
        }
      ],
      "source": [
        "from sklearn.model_selection import GridSearchCV\n",
        "param_grid = {\n",
        "    'max_depth': [3, 5, 10, None],\n",
        "    'min_samples_split': [2, 5, 10]\n",
        "}\n",
        "grid = GridSearchCV(DecisionTreeClassifier(), param_grid, cv=5)\n",
        "grid.fit(X_train, y_train)\n",
        "print(\"Best Params:\", grid.best_params_)\n",
        "print(\"Best Score:\", grid.best_score_)"
      ]
    },
    {
      "cell_type": "code",
      "execution_count": null,
      "id": "f13ea0cf-a28e-44fc-ab16-27c05229e1e3",
      "metadata": {
        "id": "f13ea0cf-a28e-44fc-ab16-27c05229e1e3"
      },
      "outputs": [],
      "source": []
    }
  ],
  "metadata": {
    "kernelspec": {
      "display_name": "Python 3 (ipykernel)",
      "language": "python",
      "name": "python3"
    },
    "language_info": {
      "codemirror_mode": {
        "name": "ipython",
        "version": 3
      },
      "file_extension": ".py",
      "mimetype": "text/x-python",
      "name": "python",
      "nbconvert_exporter": "python",
      "pygments_lexer": "ipython3",
      "version": "3.12.7"
    },
    "colab": {
      "provenance": [],
      "include_colab_link": true
    }
  },
  "nbformat": 4,
  "nbformat_minor": 5
}