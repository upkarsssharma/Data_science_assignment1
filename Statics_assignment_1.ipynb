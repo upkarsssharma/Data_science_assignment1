{
  "cells": [
    {
      "cell_type": "code",
      "execution_count": null,
      "id": "7b7381d5-f3ab-4299-8f79-0ad661b3a15c",
      "metadata": {
        "id": "7b7381d5-f3ab-4299-8f79-0ad661b3a15c"
      },
      "outputs": [],
      "source": [
        "Q1: Explain the different types of data (qualitative and quantitative) and provide examples of each. Discuss nominal, ordinal, interval, and ratio scales.\n",
        "A:\n",
        "There are two main types of data:\n",
        "\n",
        "1. Qualitative Data (Categorical):\n",
        "Describes characteristics or categories.\n",
        "\n",
        "Examples: Gender, blood type, eye color.\n",
        "\n",
        "2. Quantitative Data (Numerical):\n",
        "Expresses measurable quantities.\n",
        "\n",
        "Examples: Age, income, height, test scores.\n",
        "\n",
        "Measurement Scales:\n",
        "Scale Type\tData Type\tOrder?\tEqual Intervals?\tTrue Zero?\tExamples\n",
        "Nominal\tQualitative\tNo\tNo\tNo\tEye color, gender, religion\n",
        "Ordinal\tQualitative\tYes\tNo\tNo\tEducation level, satisfaction\n",
        "Interval\tQuantitative\tYes\tYes\tNo\tTemperature (°C), IQ, dates\n",
        "Ratio\tQuantitative\tYes\tYes\tYes\tHeight, weight, income"
      ]
    },
    {
      "cell_type": "code",
      "execution_count": null,
      "id": "9b16c103-75f9-4d54-8d5d-ef7fe8cbd0a1",
      "metadata": {
        "id": "9b16c103-75f9-4d54-8d5d-ef7fe8cbd0a1"
      },
      "outputs": [],
      "source": [
        "Q2: What are the measures of central tendency, and when should you use each? Discuss the mean, median, and mode with examples and situations where each is appropriate.\n",
        "A:\n",
        "\n",
        "1. Mean (Average):\n",
        "Add all values, divide by the number of values.\n",
        "\n",
        "Use when: Data is symmetric, no outliers.\n",
        "\n",
        "Example: Average salary in a company.\n",
        "\n",
        "2. Median (Middle value):\n",
        "Middle number when data is ordered.\n",
        "\n",
        "Use when: Data is skewed or contains outliers.\n",
        "\n",
        "Example: Median home price in a city.\n",
        "\n",
        "3. Mode (Most frequent):\n",
        "Value that appears most often.\n",
        "\n",
        "Use when: Identifying most common category.\n",
        "\n",
        "Example: Most popular shoe size sold."
      ]
    },
    {
      "cell_type": "code",
      "execution_count": null,
      "id": "a135f004-2d8e-49ea-be07-1716b79fc499",
      "metadata": {
        "id": "a135f004-2d8e-49ea-be07-1716b79fc499"
      },
      "outputs": [],
      "source": [
        "Q3: Explain the concept of dispersion. How do variance and standard deviation measure the spread of data?\n",
        "A:\n",
        "Dispersion shows how much the data values vary from the central value.\n",
        "\n",
        "Variance (σ²): Average of squared deviations from the mean.\n",
        "\n",
        "Standard Deviation (σ): Square root of variance. Indicates how much data deviates from the mean in original units.\n",
        "\n",
        "Example: Low standard deviation means values are close to the mean; high means more spread out."
      ]
    },
    {
      "cell_type": "code",
      "execution_count": null,
      "id": "19a12bcc-8ccd-461a-a69a-1108f84f7c18",
      "metadata": {
        "id": "19a12bcc-8ccd-461a-a69a-1108f84f7c18"
      },
      "outputs": [],
      "source": [
        "Q4: What is a box plot, and what can it tell you about the distribution of data?\n",
        "A:\n",
        "A box plot (or box-and-whisker plot) is a visual summary showing:\n",
        "\n",
        "Minimum\n",
        "\n",
        "First quartile (Q1)\n",
        "\n",
        "Median\n",
        "\n",
        "Third quartile (Q3)\n",
        "\n",
        "Maximum\n",
        "\n",
        "Outliers\n",
        "\n",
        "It helps identify:\n",
        "\n",
        "Data spread\n",
        "\n",
        "Skewness\n",
        "\n",
        "Presence of outliers\n",
        "\n",
        "Symmetry of distribution"
      ]
    },
    {
      "cell_type": "code",
      "execution_count": null,
      "id": "71cfb68a-4b6c-4e5a-b23a-bd127a1d0fe1",
      "metadata": {
        "id": "71cfb68a-4b6c-4e5a-b23a-bd127a1d0fe1"
      },
      "outputs": [],
      "source": [
        "Q5: Discuss the role of random sampling in making inferences about populations.\n",
        "A:\n",
        "Random sampling ensures each member of the population has an equal chance of selection. It:\n",
        "\n",
        "Minimizes bias\n",
        "\n",
        "Produces representative samples\n",
        "\n",
        "Supports valid inferences about the population\n",
        "\n",
        "Example: Selecting 100 students randomly from a school to study average study time."
      ]
    },
    {
      "cell_type": "code",
      "execution_count": null,
      "id": "05713780-a86b-499f-8fdf-bce74f5ba88d",
      "metadata": {
        "id": "05713780-a86b-499f-8fdf-bce74f5ba88d"
      },
      "outputs": [],
      "source": [
        "Q6: Explain the concept of skewness and its types. How does skewness affect the interpretation of data?\n",
        "A:\n",
        "Skewness measures asymmetry in a data distribution.\n",
        "\n",
        "Positive Skew (Right): Tail on the right; mean > median\n",
        "\n",
        "Negative Skew (Left): Tail on the left; mean < median\n",
        "\n",
        "Symmetrical: Mean = median = mode\n",
        "\n",
        "Effect:\n",
        "Skewness influences which measure of central tendency is most reliable (usually median in skewed data)."
      ]
    },
    {
      "cell_type": "code",
      "execution_count": null,
      "id": "0943fda3-a3e3-4a72-b513-a25b4ea3dfac",
      "metadata": {
        "id": "0943fda3-a3e3-4a72-b513-a25b4ea3dfac"
      },
      "outputs": [],
      "source": [
        "Q7: What is the interquartile range (IQR), and how is it used to detect outliers?\n",
        "A:\n",
        "IQR = Q3 − Q1, where:\n",
        "\n",
        "Q1 = 25th percentile\n",
        "\n",
        "Q3 = 75th percentile\n",
        "\n",
        "Outlier Detection Rule:\n",
        "\n",
        "Outlier if:\n",
        "\n",
        "Value < Q1 − 1.5×IQR\n",
        "\n",
        "Value > Q3 + 1.5×IQR"
      ]
    },
    {
      "cell_type": "code",
      "execution_count": null,
      "id": "6040736a-892b-4631-9a50-03ef47411428",
      "metadata": {
        "id": "6040736a-892b-4631-9a50-03ef47411428"
      },
      "outputs": [],
      "source": [
        "Q8: Discuss the conditions under which the binomial distribution is used.\n",
        "A:\n",
        "A binomial distribution is used when:\n",
        "\n",
        "Fixed number of trials (n)\n",
        "\n",
        "Only two outcomes (success/failure)\n",
        "\n",
        "Constant probability of success (p)\n",
        "\n",
        "Independent trials\n",
        "\n",
        "Example: Tossing a coin 10 times and counting number of heads."
      ]
    },
    {
      "cell_type": "code",
      "execution_count": null,
      "id": "f0ca7cd4-ea41-4d8a-b107-f5615051aebe",
      "metadata": {
        "id": "f0ca7cd4-ea41-4d8a-b107-f5615051aebe"
      },
      "outputs": [],
      "source": [
        "Q9: Explain the properties of the normal distribution and the empirical rule (68-95-99.7 rule).\n",
        "A:\n",
        "Normal distribution:\n",
        "\n",
        "Bell-shaped, symmetric\n",
        "\n",
        "Mean = median = mode\n",
        "\n",
        "Defined by mean (μ) and standard deviation (σ)\n",
        "\n",
        "Empirical Rule:\n",
        "\n",
        "68% of data lies within 1σ of mean\n",
        "\n",
        "95% within 2σ\n",
        "\n",
        "99.7% within 3σ\n",
        "\n",
        "Example: Human heights often follow a normal distribution."
      ]
    },
    {
      "cell_type": "code",
      "execution_count": null,
      "id": "8513d701-2aa4-4fe5-9c14-d5f8436b4e8f",
      "metadata": {
        "id": "8513d701-2aa4-4fe5-9c14-d5f8436b4e8f"
      },
      "outputs": [],
      "source": [
        "Q10: Provide a real-life example of a Poisson process and calculate the probability for a specific event."
      ]
    },
    {
      "cell_type": "code",
      "execution_count": null,
      "id": "a9a2d668-5531-49ac-af23-afd639bb5b81",
      "metadata": {
        "id": "a9a2d668-5531-49ac-af23-afd639bb5b81"
      },
      "outputs": [],
      "source": [
        "A Poisson process models the number of events occurring in a fixed interval of time or space, under these conditions:\n",
        "\n",
        "Events occur independently\n",
        "\n",
        "Events happen at a constant average rate (λ)\n",
        "\n",
        "Two events cannot occur simultaneously\n",
        "\n",
        "📌 Real-Life Example:\n",
        "A hospital receives an average of 4 emergency calls per hour.\n",
        "Question: What is the probability that exactly 6 calls will be received in one hour?\n",
        "\n",
        "Where:\n",
        "\n",
        "𝜆\n",
        "λ = average rate (4 calls/hour)\n",
        "\n",
        "𝑘\n",
        "k = desired number of events (6 calls)"
      ]
    },
    {
      "cell_type": "code",
      "execution_count": null,
      "id": "704cfc5a-81d9-422d-9873-b631c8b5577a",
      "metadata": {
        "id": "704cfc5a-81d9-422d-9873-b631c8b5577a",
        "outputId": "c3478808-0177-40cc-e3a0-117f67340a73"
      },
      "outputs": [
        {
          "name": "stdout",
          "output_type": "stream",
          "text": [
            "Probability of receiving exactly 6 calls in one hour: 0.1042\n"
          ]
        }
      ],
      "source": [
        "from math import exp, factorial\n",
        "\n",
        "# Given\n",
        "λ = 4     # average calls per hour\n",
        "k = 6     # desired number of calls\n",
        "\n",
        "# Poisson probability\n",
        "poisson_prob = (exp(-λ) * λ**k) / factorial(k)\n",
        "\n",
        "print(f\"Probability of receiving exactly {k} calls in one hour: {poisson_prob:.4f}\")\n"
      ]
    },
    {
      "cell_type": "code",
      "execution_count": null,
      "id": "54018e8f-935d-40e1-8de8-69ba29dfea43",
      "metadata": {
        "id": "54018e8f-935d-40e1-8de8-69ba29dfea43"
      },
      "outputs": [],
      "source": [
        "Q11: Explain what a random variable is and differentiate between discrete and continuous random variables.\n",
        "A:\n",
        "A random variable is a variable whose values depend on outcomes of a random phenomenon.\n",
        "\n",
        "Discrete: Takes countable values.\n",
        "\n",
        "Example: Number of children in a family.\n",
        "\n",
        "Continuous: Takes any value in a range.\n",
        "\n",
        "Example: Height of students."
      ]
    },
    {
      "cell_type": "code",
      "execution_count": null,
      "id": "89cecb3e-9375-4e38-948c-b13e23253321",
      "metadata": {
        "id": "89cecb3e-9375-4e38-948c-b13e23253321"
      },
      "outputs": [],
      "source": [
        "# ------------------------------\n",
        "# Q11: Random Variables\n",
        "# ------------------------------\n",
        "discrete_rv = [0, 1, 2, 3, 4]\n",
        "continuous_rv = np.random.uniform(150, 190, 100)\n",
        "\n",
        "plt.figure()\n",
        "sns.histplot(continuous_rv, kde=True)\n",
        "plt.title(\"Q11: Continuous Random Variable\")\n",
        "plt.show()"
      ]
    },
    {
      "cell_type": "code",
      "execution_count": null,
      "id": "270fe83c-d7c0-466a-a2f7-7b874716eeb0",
      "metadata": {
        "id": "270fe83c-d7c0-466a-a2f7-7b874716eeb0"
      },
      "outputs": [],
      "source": [
        "Q12: Provide an example dataset, calculate both covariance and correlation, and interpret the results."
      ]
    },
    {
      "cell_type": "code",
      "execution_count": null,
      "id": "9d16c55e-e8cd-4b34-bb83-e25eaaea69da",
      "metadata": {
        "id": "9d16c55e-e8cd-4b34-bb83-e25eaaea69da"
      },
      "outputs": [],
      "source": [
        "x = np.array([2, 3, 5, 7])\n",
        "y = np.array([4, 5, 7, 10])\n",
        "\n",
        "cov_matrix = np.cov(x, y)\n",
        "covariance = cov_matrix[0, 1]\n",
        "correlation = np.corrcoef(x, y)[0, 1]\n",
        "\n",
        "print(\"\\nQ12: Covariance and Correlation\")\n",
        "print(\"Covariance:\", covariance)\n",
        "print(\"Correlation:\", correlation)"
      ]
    }
  ],
  "metadata": {
    "kernelspec": {
      "display_name": "Python 3 (ipykernel)",
      "language": "python",
      "name": "python3"
    },
    "language_info": {
      "codemirror_mode": {
        "name": "ipython",
        "version": 3
      },
      "file_extension": ".py",
      "mimetype": "text/x-python",
      "name": "python",
      "nbconvert_exporter": "python",
      "pygments_lexer": "ipython3",
      "version": "3.12.7"
    },
    "colab": {
      "provenance": []
    }
  },
  "nbformat": 4,
  "nbformat_minor": 5
}