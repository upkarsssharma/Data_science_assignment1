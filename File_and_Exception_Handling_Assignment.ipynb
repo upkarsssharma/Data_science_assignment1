{
  "cells": [
    {
      "cell_type": "markdown",
      "metadata": {
        "id": "kzHP0tFkgkBj"
      },
      "source": [
        "#Question 1 : What is the difference between interpreted and compiled languages?\n",
        "\n",
        "In the provided code snippet, the `try...except` block is used for exception handling in Python. Python is primarily an **interpreted** language, not a compiled language.\n",
        "\n",
        "Here's the difference between interpreted and compiled languages:\n",
        "\n",
        "**Compiled Languages:**\n",
        "\n",
        "*   **Compilation:** The source code is translated into machine code or an intermediate code by a compiler *before* the program is executed.\n",
        "*   **Execution:** The compiled code (executable file) is then run directly by the operating system.\n",
        "*   **Speed:** Generally faster at runtime because the translation to machine code happens once.\n",
        "*   **Platform Dependence:** The compiled code is often platform-specific (e.g., an executable for Windows won't run directly on macOS).\n",
        "*   **Examples:** C, C++, Java (partially compiled to bytecode).\n",
        "\n",
        "**Interpreted Languages:**\n",
        "\n",
        "*   **Interpretation:** The source code is executed line by line by an interpreter *at runtime*.\n",
        "*   **Execution:** The interpreter reads, translates, and executes each line as it goes.\n",
        "*   **Speed:** Generally slower at runtime compared to compiled languages because the translation happens during execution.\n",
        "*   **Platform Independence:** Source code can often be run on any platform that has a compatible interpreter.\n",
        "*   **Examples:** Python, JavaScript, Ruby, PHP.\n",
        "\n",
        "**In the context of the provided Python code:**\n",
        "\n",
        "The Python interpreter reads the `try...except` block at runtime. If an error (like `ValueError` or `TypeError`) occurs within the `try` block, the interpreter jumps to the corresponding `except` block and executes the code there. This process happens dynamically as the program runs, which is characteristic of an interpreted language."
      ]
    },
    {
      "cell_type": "markdown",
      "metadata": {
        "id": "OKthqVznftCW"
      },
      "source": [
        "# Question 2: What is exception handling in Python?\n",
        "\n",
        " Exception handling in Python allows you to manage errors that occur during the execution of your program.\n",
        " It prevents your program from crashing when unexpected situations arise.\n",
        " The basic structure involves the 'try', 'except', 'else', and 'finally' blocks.\n",
        "\n",
        " 'try': Contains the code that might raise an exception.\n",
        " 'except': Catches specific exceptions that occur in the 'try' block and executes the code within it. You can have multiple 'except' blocks for different exception types.\n",
        " 'else': (Optional) Executes if no exceptions are raised in the 'try' block.\n",
        " 'finally': (Optional) Executes regardless of whether an exception occurred or not. It's often used for cleanup operations (like closing files).\n",
        "\n",
        " The code provided demonstrates a basic try-except block handling `ValueError` and `TypeError`.\n",
        " This structure allows the program to continue running even if a ValueError or TypeError happens within the `try` block, by executing the corresponding `except` block instead of stopping.\n",
        "\n",
        "\n"
      ]
    },
    {
      "cell_type": "markdown",
      "metadata": {
        "id": "o-ss0_HYim5d"
      },
      "source": [
        "#Question 3 : What is the purpose of the finally block in exception handling\n",
        "The finally block in exception handling is used to define actions that must be executed regardless of whether an exception occurs or not. It's often used for cleanup operations, such as closing files or releasing resources, to ensure that these actions are performed even if an error interrupts the normal flow of the program."
      ]
    },
    {
      "cell_type": "markdown",
      "metadata": {
        "id": "ae216d49"
      },
      "source": [
        "# Question 4: What is logging in Python?\n",
        "\n",
        "Logging is a powerful tool in Python for tracking events that happen when your software runs. It's particularly useful for debugging, monitoring, and understanding the flow of your application.\n",
        "\n",
        "Here's why logging is important and how it works:\n",
        "\n",
        "* **Debugging:** When something goes wrong, logs provide a trail of events that led to the error, making it easier to identify the cause.\n",
        "* **Monitoring:** You can use logs to track the health and performance of your application in a production environment.\n",
        "* **Auditing:** Logs can record significant events, like user actions, for security or compliance purposes.\n",
        "\n",
        "Python's built-in `logging` module provides a flexible framework for sending log messages to various destinations, such as the console, files, or even network sockets.\n",
        "\n",
        "Key concepts in Python logging:\n",
        "\n",
        "* **Loggers:** These are the entry points for sending log messages. You can create different loggers for different parts of your application.\n",
        "* **Handlers:** Handlers determine where log messages are sent. Examples include `StreamHandler` (for the console) and `FileHandler` (for files).\n",
        "* **Formatters:** Formatters specify the layout of log messages (e.g., including timestamps, log levels, and message content).\n",
        "* **Log Levels:** Log levels indicate the severity of a log message. Common levels include:\n",
        "    * `DEBUG`: Detailed information, typically only of interest when diagnosing problems.\n",
        "    * `INFO`: Confirmation that things are working as expected.\n",
        "    * `WARNING`: An indication that something unexpected happened or might happen in the near future (e.g., 'disk space low').\n",
        "    * `ERROR`: Due to a more serious problem, the software has not been able to perform some function.\n",
        "    * `CRITICAL`: A serious error, indicating that the program itself may be unable to continue running.\n",
        "\n",
        "By default, the `logging` module sends messages with a level of `WARNING` or higher to the console. You can configure the logging system to change the default behavior, such as setting a different log level or sending logs to a file."
      ]
    },
    {
      "cell_type": "markdown",
      "metadata": {
        "id": "_hnIL-dOi_yB"
      },
      "source": []
    },
    {
      "cell_type": "markdown",
      "metadata": {
        "id": "68f60a64"
      },
      "source": [
        "# Question 5: What is the significance of the `__del__` method in Python?\n",
        "\n",
        "In Python, the `__del__` method, also known as the destructor, is a special method that is called when an object is about to be destroyed (garbage collected). It's intended for cleanup actions that need to be performed when an object is no longer needed.\n",
        "\n",
        "Here's the significance of the `__del__` method:\n",
        "\n",
        "* **Resource Cleanup:** The primary purpose of `__del__` is to release external resources that the object might be holding onto. This could include closing file handles, network connections, database connections, or releasing locks.\n",
        "* **Finalization:** It provides a way to finalize an object's state before it is removed from memory.\n",
        "\n",
        "**Important Considerations and Why `__del__` is often avoided:**\n",
        "\n",
        "While `__del__` might seem useful for cleanup, it has some significant drawbacks that make it less commonly used and often discouraged in favor of other approaches:\n",
        "\n",
        "* **Unpredictable Execution:** The exact timing of when `__del__` is called is not guaranteed. It depends on when the garbage collector decides to reclaim the object's memory. This can lead to unpredictable behavior and make debugging difficult.\n",
        "* **Circular References:** If objects have circular references (where object A refers to object B, and object B refers to object A), the garbage collector might not be able to determine that the objects are no longer needed, and `__del__` might not be called.\n",
        "* **Exceptions in `__del__`:** If an exception occurs within the `__del__` method, it can be suppressed or lead to unexpected program termination.\n",
        "* **Alternative Approaches:** Python provides better and more reliable ways to handle resource cleanup, such as:\n",
        "    * **`try...finally` blocks:** As discussed earlier, these ensure that cleanup code is executed regardless of whether an exception occurs.\n",
        "    * **`with` statements and context managers:** This is the preferred way to manage resources that need to be acquired and released (like files). Objects that support the context management protocol can be used with `with` statements to ensure proper setup and teardown.\n",
        "\n",
        "**In summary:**\n",
        "\n",
        "While `__del__` exists for object finalization and resource cleanup, its unpredictable nature and potential issues make it generally less favorable than using `try...finally` or `with` statements for resource management. You should carefully consider the alternatives before relying on `__del__`."
      ]
    },
    {
      "cell_type": "markdown",
      "metadata": {
        "id": "9e18501a"
      },
      "source": [
        "# Question 6: What is the difference between `import` and `from ... import` in Python?\n",
        "\n",
        "In Python, both `import` and `from ... import` are used to bring code from one module into another. However, they differ in how they make the imported objects available in the current namespace.\n",
        "\n",
        "**`import module_name`**\n",
        "\n",
        "* **How it works:** This statement imports the entire module. You need to use the module name followed by a dot (`.`) to access any functions, classes, or variables defined within that module.\n",
        "* **Namespace:** It creates a new namespace for the imported module. This helps to avoid naming conflicts if you have objects with the same name in different modules.\n",
        "* **Example:**"
      ]
    },
    {
      "cell_type": "code",
      "execution_count": 3,
      "metadata": {
        "id": "86d565e4",
        "colab": {
          "base_uri": "https://localhost:8080/"
        },
        "outputId": "1e268e56-d4be-4160-dd8b-6a4809f7a303"
      },
      "outputs": [
        {
          "output_type": "stream",
          "name": "stdout",
          "text": [
            "4.0\n"
          ]
        }
      ],
      "source": [
        "  from math import sqrt\n",
        "  print(sqrt(16))"
      ]
    },
    {
      "cell_type": "markdown",
      "metadata": {
        "id": "fca210d7"
      },
      "source": [
        "# Question 7: How can you handle multiple exceptions in Python?\n",
        "\n",
        "In Python, you can handle multiple exceptions in a `try...except` block in several ways:\n",
        "\n",
        "1.  **Multiple `except` blocks:** You can include multiple `except` blocks, each handling a different type of exception. The interpreter will execute the first `except` block that matches the raised exception."
      ]
    },
    {
      "cell_type": "code",
      "execution_count": 4,
      "metadata": {
        "id": "a3ad5f06",
        "colab": {
          "base_uri": "https://localhost:8080/"
        },
        "outputId": "03c210e9-7493-4b6c-a14e-fe606a8ed59c"
      },
      "outputs": [
        {
          "output_type": "stream",
          "name": "stdout",
          "text": [
            "Enter an index: 2\n",
            "3\n"
          ]
        }
      ],
      "source": [
        "    try:\n",
        "        # Code that might raise exceptions\n",
        "        data = [1, 2, 3]\n",
        "        index = int(input(\"Enter an index: \"))\n",
        "        print(data[index])\n",
        "    except (ValueError, IndexError):\n",
        "        print(\"Invalid input or index out of range.\")"
      ]
    },
    {
      "cell_type": "code",
      "execution_count": 5,
      "metadata": {
        "id": "d5cb782b",
        "colab": {
          "base_uri": "https://localhost:8080/"
        },
        "outputId": "549e686a-e619-4264-bc4a-01688593c6a0"
      },
      "outputs": [
        {
          "output_type": "stream",
          "name": "stdout",
          "text": [
            "An error occurred: [Errno 2] No such file or directory: 'nonexistent_file.txt'\n"
          ]
        }
      ],
      "source": [
        "    try:\n",
        "        # Code that might raise exceptions\n",
        "        file = open(\"nonexistent_file.txt\", \"r\")\n",
        "    except Exception as e:\n",
        "        print(f\"An error occurred: {e}\")"
      ]
    },
    {
      "cell_type": "markdown",
      "metadata": {
        "id": "2f75abd2"
      },
      "source": [
        "# Question 8: What is the purpose of the `with` statement when handling files in Python?\n",
        "\n",
        "The `with` statement in Python is primarily used for resource management, particularly when dealing with operations that require setup and teardown actions, such as file handling. Its main purpose is to ensure that resources are properly acquired and released, even if errors occur.\n",
        "\n",
        "Here's the significance of using the `with` statement for file handling:\n",
        "\n",
        "*   **Guaranteed Cleanup:** When you open a file using the `with` statement, Python automatically ensures that the file is closed properly, regardless of whether the code within the `with` block executes successfully or raises an exception. This prevents resource leaks (like leaving files open), which can lead to issues like data corruption or preventing other programs from accessing the file.\n",
        "*   **Simplified Code:** The `with` statement simplifies file handling code by removing the need for explicit `try...finally` blocks to ensure the file is closed. The cleanup is handled automatically.\n",
        "*   **Context Managers:** The `with` statement works with objects that support the context management protocol. File objects in Python are built-in context managers, making them compatible with the `with` statement.\n",
        "\n",
        "**How it works:**\n",
        "\n",
        "When the `with` statement is encountered, the `__enter__` method of the context manager object is called. This method typically sets up the resource (e.g., opens the file). The object returned by `__enter__` is then assigned to the variable after the `as` keyword (if provided).\n",
        "\n",
        "After the code within the `with` block finishes executing (either normally or due to an exception), the `__exit__` method of the context manager object is called. This method is responsible for cleaning up the resource (e.g., closing the file).\n",
        "\n",
        "**Example:**"
      ]
    },
    {
      "cell_type": "code",
      "execution_count": 6,
      "metadata": {
        "id": "fc163530",
        "colab": {
          "base_uri": "https://localhost:8080/"
        },
        "outputId": "12400b56-f675-46f4-dad8-3d73d6792293"
      },
      "outputs": [
        {
          "output_type": "stream",
          "name": "stdout",
          "text": [
            "The file was not found.\n"
          ]
        }
      ],
      "source": [
        "try:\n",
        "    with open(\"my_file.txt\", \"r\") as file:\n",
        "        content = file.read()\n",
        "        print(content)\n",
        "except FileNotFoundError:\n",
        "    print(\"The file was not found.\")"
      ]
    },
    {
      "cell_type": "markdown",
      "metadata": {
        "id": "82c70e25"
      },
      "source": [
        "# Question 9: What is the difference between multithreading and multiprocessing?\n",
        "\n",
        "In Python, both multithreading and multiprocessing are techniques used to achieve concurrency, allowing your program to perform multiple tasks seemingly at the same time. However, they differ significantly in how they achieve this concurrency and their underlying mechanisms.\n",
        "\n",
        "Here's a breakdown of the key differences:\n",
        "\n",
        "**Multithreading:**\n",
        "\n",
        "*   **Definition:** Multithreading involves creating multiple threads within a single process. Threads share the same memory space.\n",
        "*   **Concurrency vs. Parallelism:** Due to the Global Interpreter Lock (GIL) in CPython (the most common Python implementation), multithreading in Python is primarily used for **concurrency**, not true parallelism for CPU-bound tasks. The GIL is a mutex that protects access to Python objects, preventing multiple native threads from executing Python bytecode at the same time in a single process. This means that even on a multi-core processor, only one thread can execute Python bytecode at a time.\n",
        "*   **Best Use Cases:** Multithreading is well-suited for I/O-bound tasks (tasks that spend most of their time waiting for input/output operations to complete), such as reading from files, making network requests, or interacting with databases. While one thread is waiting for an I/O operation, other threads can run.\n",
        "*   **Overhead:** Creating and managing threads generally has lower overhead compared to processes.\n",
        "*   **Memory:** Threads within the same process share the same memory space, which can make communication between them easier but also requires careful synchronization to avoid race conditions.\n",
        "\n",
        "**Multiprocessing:**\n",
        "\n",
        "*   **Definition:** Multiprocessing involves creating multiple independent processes. Each process has its own memory space and its own Python interpreter.\n",
        "*   **Concurrency and Parallelism:** Multiprocessing can achieve true **parallelism** for CPU-bound tasks because each process has its own GIL. This allows multiple processes to execute Python bytecode simultaneously on different CPU cores.\n",
        "*   **Best Use Cases:** Multiprocessing is ideal for CPU-bound tasks (tasks that spend most of their time performing computations), such as complex calculations, data processing, or simulations.\n",
        "*   **Overhead:** Creating and managing processes generally has higher overhead compared to threads because each process requires its own resources.\n",
        "*   **Memory:** Processes have separate memory spaces, which provides isolation but requires explicit mechanisms (like inter-process communication queues or pipes) for data sharing between them.\n",
        "\n",
        "**In Summary:**\n",
        "\n",
        "| Feature          | Multithreading                       | Multiprocessing                         |\n",
        "| :--------------- | :----------------------------------- | :-------------------------------------- |\n",
        "| **Mechanism**    | Multiple threads within a single process | Multiple independent processes          |\n",
        "| **Memory**       | Shared memory space                  | Separate memory spaces                  |\n",
        "| **GIL Impact**   | Limited true parallelism (due to GIL) | Enables true parallelism (each process has its own GIL) |\n",
        "| **Best for**     | I/O-bound tasks                      | CPU-bound tasks                         |\n",
        "| **Overhead**     | Lower                                | Higher                                  |\n",
        "| **Communication**| Easier (shared memory, but needs synchronization) | Requires explicit IPC mechanisms        |\n",
        "\n",
        "Choosing between multithreading and multiprocessing depends on the nature of your task. For I/O-bound tasks, multithreading is often sufficient and has lower overhead. For CPU-bound tasks, multiprocessing is necessary to take advantage of multiple CPU cores and achieve true parallelism."
      ]
    },
    {
      "cell_type": "markdown",
      "metadata": {
        "id": "eb8fd2d8"
      },
      "source": [
        "# Question 10: What are the advantages of using logging in a program?\n",
        "\n",
        "Using logging in your program offers several significant advantages, especially as your code base grows and becomes more complex:\n",
        "\n",
        "*   **Improved Debugging:** Logs provide a historical record of your program's execution. When errors occur, you can examine the logs to understand the sequence of events leading up to the error, variable values, and function calls. This is far more effective than relying solely on print statements, which can clutter your output and are often removed in production code.\n",
        "*   **Monitoring and Troubleshooting:** In production environments, logging is crucial for monitoring the health and performance of your application. You can log important events, resource usage, and error rates to identify and troubleshoot issues without direct access to the running program.\n",
        "*   **Understanding Program Flow:** Logs can help you understand how your program is executing, especially in complex systems with multiple functions, modules, or threads. By strategically placing log messages, you can trace the flow of data and control.\n",
        "*   **Auditing and Security:** Logs can serve as an audit trail for significant events, such as user logins, data modifications, or system configuration changes. This is essential for security monitoring and compliance requirements.\n",
        "*   **Separation of Concerns:** Logging separates the concern of reporting information about your program's execution from the core logic of your program. This makes your code cleaner and easier to maintain.\n",
        "*   **Configurability:** Python's `logging` module is highly configurable. You can easily control the level of detail in your logs, where the logs are sent (console, file, network), and the format of the log messages without changing the core code.\n",
        "*   **Post-mortem Analysis:** Logs allow for post-mortem analysis of issues that occurred in the past. If a crash or unexpected behavior happens, you can review the logs to understand what went wrong, even if the program is no longer running.\n",
        "*   **Collaboration:** When working in a team, consistent logging practices make it easier for developers to understand each other's code and collaborate on debugging and troubleshooting.\n",
        "\n",
        "In summary, logging is an essential practice for developing robust, maintainable, and observable software. It provides valuable insights into your program's behavior, simplifies debugging and troubleshooting, and supports monitoring and security requirements."
      ]
    },
    {
      "cell_type": "markdown",
      "metadata": {
        "id": "6a88916e"
      },
      "source": [
        "# Question 11: What is memory management in Python?\n",
        "\n",
        "Memory management in Python is the process by which Python handles the allocation and deallocation of memory for objects. Python has a built-in memory manager that automatically manages memory, relieving the programmer from manual memory handling tasks common in languages like C or C++.\n",
        "\n",
        "The primary mechanisms Python uses for memory management are:\n",
        "\n",
        "1.  **Reference Counting:** This is the primary method Python uses to determine when an object is no longer needed. Each object has a reference count, which is the number of variables or other objects that are currently referencing it. When an object's reference count drops to zero, it means there are no longer any references to it, and it can be safely deallocated.\n",
        "\n",
        "    *   **How it works:** When a variable is assigned to an object, the object's reference count is incremented. When a variable goes out of scope or is reassigned, the reference count is decremented.\n",
        "    *   **Limitations:** Reference counting alone cannot handle circular references (where two or more objects refer to each other, but are not referenced by anything else). In this case, their reference counts will never drop to zero, leading to a memory leak.\n",
        "\n",
        "2.  **Garbage Collection:** To address the issue of circular references, Python has a cyclic garbage collector. This collector periodically identifies and reclaims memory occupied by objects that are part of a reference cycle but are no longer accessible from the rest of the program.\n",
        "\n",
        "    *   **How it works:** The garbage collector works by traversing the graph of objects and identifying unreachable cycles. Once a cycle is identified as unreachable, the memory occupied by the objects in the cycle is deallocated.\n",
        "    *   **Triggering:** The garbage collector runs automatically at certain intervals or when the number of allocated objects reaches a certain threshold. You can also manually trigger garbage collection using the `gc` module.\n",
        "\n",
        "**Key aspects of Python's memory management:**\n",
        "\n",
        "*   **Automatic Allocation:** When you create an object (e.g., a list, a string, an integer), Python's memory manager automatically allocates the necessary memory for it.\n",
        "*   **Automatic Deallocation (Garbage Collection):** When an object is no longer referenced, Python's garbage collector reclaims the memory, making it available for reuse.\n",
        "*   **Memory Pools:** For small objects (like integers and strings), Python uses memory pools to speed up allocation and deallocation. This avoids the overhead of requesting memory from the operating system for every small object.\n",
        "*   **Immutability:** Immutable objects (like strings, tuples, and numbers) are handled differently in memory. When you \"modify\" an immutable object, you are actually creating a new object in memory.\n",
        "\n",
        "**In summary:**\n",
        "\n",
        "Python's memory management system, primarily based on reference counting with a cyclic garbage collector, automates the process of allocating and deallocating memory. This frees developers from manual memory management, reducing the risk of memory leaks and other memory-related errors, and allowing them to focus on writing application logic. While generally efficient, understanding the basics of how it works can be helpful for debugging and optimizing memory usage in complex applications."
      ]
    },
    {
      "cell_type": "markdown",
      "metadata": {
        "id": "ddebaaf1"
      },
      "source": [
        "# Question 12: What are the basic steps involved in exception handling in Python?\n",
        "\n",
        "Exception handling in Python typically involves the following basic steps using the `try`, `except`, `else`, and `finally` blocks:\n",
        "\n",
        "1.  **Identify the potentially problematic code:** Place the code that might raise an exception inside a `try` block. This tells Python to monitor this block for errors."
      ]
    },
    {
      "cell_type": "code",
      "execution_count": 7,
      "metadata": {
        "colab": {
          "base_uri": "https://localhost:8080/"
        },
        "id": "492e0a06",
        "outputId": "f1e203a3-b17b-4a48-e618-a9d27ea0d619"
      },
      "outputs": [
        {
          "output_type": "stream",
          "name": "stdout",
          "text": [
            "Error: Cannot divide by zero!\n"
          ]
        }
      ],
      "source": [
        "    try:\n",
        "        result = 10 / 0\n",
        "    except ZeroDivisionError:\n",
        "        print(\"Error: Cannot divide by zero!\")"
      ]
    },
    {
      "cell_type": "code",
      "execution_count": 8,
      "metadata": {
        "colab": {
          "base_uri": "https://localhost:8080/"
        },
        "id": "885c7420",
        "outputId": "58c06be1-a4c0-4f97-de9f-431d21e1a8fb"
      },
      "outputs": [
        {
          "output_type": "stream",
          "name": "stdout",
          "text": [
            "Division successful. Result: 5.0\n"
          ]
        }
      ],
      "source": [
        "    try:\n",
        "        result = 10 / 2\n",
        "    except ZeroDivisionError:\n",
        "        print(\"Error: Cannot divide by zero!\")\n",
        "    else:\n",
        "        print(\"Division successful. Result:\", result)"
      ]
    },
    {
      "cell_type": "code",
      "execution_count": 9,
      "metadata": {
        "colab": {
          "base_uri": "https://localhost:8080/"
        },
        "id": "89a93348",
        "outputId": "b6dec549-b916-4301-ed10-9d5261fd8dcf"
      },
      "outputs": [
        {
          "output_type": "stream",
          "name": "stdout",
          "text": [
            "Error: File not found.\n"
          ]
        }
      ],
      "source": [
        "    file = None\n",
        "    try:\n",
        "        file = open(\"my_file.txt\", \"r\")\n",
        "        content = file.read()\n",
        "        print(content)\n",
        "    except FileNotFoundError:\n",
        "        print(\"Error: File not found.\")\n",
        "    finally:\n",
        "        if file:\n",
        "            file.close() # Ensure the file is closed\n",
        "            print(\"File closed.\")"
      ]
    },
    {
      "cell_type": "markdown",
      "metadata": {
        "id": "d90lx33JkKoU"
      },
      "source": [
        "# question 13 : Why is memory management important in Python?\n",
        "Memory management is important in Python for several reasons, even though it's largely handled automatically:\n",
        "\n",
        "Preventing Memory Leaks: Poor memory management can lead to memory leaks, where your program consumes more and more memory over time without releasing it. This can slow down your program and eventually cause it to crash.\n",
        "Optimizing Performance: Efficient memory management can improve your program's performance by reducing the overhead of allocating and deallocating memory.\n",
        "Avoiding Crashes: Issues like trying to access memory that has already been deallocated can lead to program crashes. Python's automatic memory management helps prevent these types of errors.\n",
        "Resource Management: While Python handles memory for objects, you still need to manage other resources like file handles and network connections. Understanding memory management helps you ensure these resources are properly released.\n",
        "Even though Python's garbage collector handles much of the complexity, being aware of how it works and potential issues like circular references can help you write more efficient and reliable code."
      ]
    },
    {
      "cell_type": "markdown",
      "metadata": {
        "id": "KUwGxCQ1zg5f"
      },
      "source": [
        "# question 14 : what is role of try and catch in exception handling ?\n",
        "\n",
        "The role of the try and except blocks in exception handling is as follows:\n",
        "\n",
        "The try block contains the code that you suspect might raise an exception. It's the block that Python will monitor for errors during execution.\n",
        "\n",
        "The except block is where you put the code that should run if a specific exception occurs within the preceding try block. You can specify the type of exception to catch, and if that type of error happens, the code in the except block is executed instead of the program crashing. This allows you to gracefully handle errors and potentially recover or provide a user-friendly message."
      ]
    },
    {
      "cell_type": "markdown",
      "metadata": {
        "id": "43184b57",
        "jp-MarkdownHeadingCollapsed": true
      },
      "source": [
        "# Question 15: How does Python's garbage collection system work?\n",
        "\n",
        "Python's garbage collection system is primarily based on **reference counting** with a **cyclic garbage collector** to handle reference cycles.\n",
        "\n",
        "1.  **Reference Counting:** Each object in Python has a reference count, which tracks the number of variables or other objects that refer to it. When an object's reference count drops to zero, it means it's no longer accessible, and the memory it occupies can be reclaimed immediately.\n",
        "\n",
        "2.  **Cyclic Garbage Collector:** Reference counting alone cannot detect and collect objects involved in reference cycles (where objects refer to each other, creating a closed loop, but are not referenced from outside the cycle). Python's cyclic garbage collector periodically runs to identify these cycles. It does this by traversing the graph of objects and finding unreachable cycles. Once a cycle is identified as unreachable, the memory is deallocated.\n",
        "\n",
        "In essence, reference counting handles the majority of memory deallocation quickly, while the cyclic garbage collector acts as a fallback to clean up more complex cases involving circular references."
      ]
    },
    {
      "cell_type": "markdown",
      "metadata": {
        "id": "60c46ebe"
      },
      "source": [
        "# Question 16: What is the purpose of the else block in exception handling?\n",
        "\n",
        "The `else` block in a `try...except` structure is optional and is executed **only if no exceptions are raised** within the `try` block. It provides a way to separate code that should run when the `try` block is successful from the code that handles potential exceptions. This can make your code more readable and organized."
      ]
    },
    {
      "cell_type": "markdown",
      "metadata": {
        "id": "de7b1df4"
      },
      "source": [
        "# Question 17 : What are the common logging levels in Python?\n",
        "\n",
        "The common logging levels in Python, in increasing order of severity, are:\n",
        "\n",
        "*   **DEBUG:** Detailed information, typically of interest only when diagnosing problems.\n",
        "*   **INFO:** Confirmation that things are working as expected.\n",
        "*   **WARNING:** An indication that something unexpected happened or might happen in the near future (e.g., 'disk space low').\n",
        "*   **ERROR:** Due to a more serious problem, the software has not been able to perform some function.\n",
        "*   **CRITICAL:** A serious error, indicating that the program itself may be unable to continue running.\n",
        "\n",
        "You can configure your logger to process messages at a specific level or higher."
      ]
    },
    {
      "cell_type": "markdown",
      "metadata": {
        "id": "24ce2cef"
      },
      "source": [
        "# Question 18: What is the difference between os.fork() and multiprocessing in Python?\n",
        "\n",
        "*   **`os.fork()`:** This is a lower-level system call (available on Unix-like systems) that creates a new process by duplicating the current process. The child process is an almost exact copy of the parent process, including its memory space. You then typically use `os.exec*()` to replace the child process's code with a new program. It's more manual and platform-dependent.\n",
        "\n",
        "*   **`multiprocessing` module:** This is a higher-level, cross-platform module in Python that provides an API for creating and managing processes. It abstracts away the complexities of using `os.fork()` and provides features like process pools, queues, and pipes for inter-process communication. It's the recommended way to achieve multiprocessing in Python for most use cases.\n",
        "\n",
        "In essence, `multiprocessing` is a more convenient and portable way to utilize the underlying process creation mechanisms (like `os.fork()` on Unix) for parallelism in Python."
      ]
    },
    {
      "cell_type": "markdown",
      "metadata": {
        "id": "8cd1547e"
      },
      "source": [
        "# Question 19: What is the importance of closing a file in Python?\n",
        "\n",
        "It is crucial to close a file in Python after you are finished with it for several reasons:\n",
        "\n",
        "*   **Resource Management:** File handles are a limited system resource. Leaving files open unnecessarily can exhaust these resources, potentially preventing your program or other programs from opening new files.\n",
        "*   **Data Integrity:** When you write to a file, the data may be buffered in memory before being written to the disk. Closing the file ensures that all buffered data is flushed and written to the file, preventing data loss or corruption.\n",
        "*   **Preventing Access Issues:** An open file might be locked by your program, preventing other programs or users from accessing or modifying it. Closing the file releases the lock.\n",
        "*   **Memory Usage:** While not as significant as other resources, an open file object does consume some memory. Closing it frees up this memory.\n",
        "\n",
        "Using the `with` statement (as discussed earlier) is the recommended and most reliable way to ensure files are automatically closed, even if errors occur."
      ]
    },
    {
      "cell_type": "markdown",
      "metadata": {
        "id": "386913f1"
      },
      "source": [
        "# Question 20: What is the difference between file.read() and file.readline() in Python?\n",
        "\n",
        "*   **`file.read(size=-1)`:** This method reads the entire content of the file as a single string. If an optional `size` argument is provided, it reads at most `size` bytes.\n",
        "\n",
        "*   **`file.readline(size=-1)`:** This method reads a single line from the file, including the newline character (`\\n`) at the end (if present). If an optional `size` argument is provided, it reads at most `size` bytes, but it will not read more than one line.\n",
        "\n",
        "In summary, `read()` is for reading the whole file or a specified number of bytes, while `readline()` is for reading one line at a time."
      ]
    },
    {
      "cell_type": "markdown",
      "metadata": {
        "id": "9e1e9950"
      },
      "source": [
        "# Question 21: What is the logging module in Python used for?\n",
        "\n",
        "The `logging` module in Python is used for tracking events that happen when your software runs. Its primary purposes include:\n",
        "\n",
        "*   **Debugging:** Providing detailed information to help identify the root cause of errors.\n",
        "*   **Monitoring:** Tracking the health and performance of your application in production.\n",
        "*   **Auditing:** Recording significant events for security and compliance.\n",
        "*   **Understanding Program Flow:** Tracing the execution path of your program.\n",
        "\n",
        "It provides a flexible and configurable framework for generating and handling log messages with different severity levels and destinations."
      ]
    },
    {
      "cell_type": "markdown",
      "metadata": {
        "id": "698fef39"
      },
      "source": [
        "# Question 22: What is the os module in Python used for in file handling?\n",
        "\n",
        "The `os` module in Python provides a way to interact with the operating system. In the context of file handling, it's used for tasks such as:\n",
        "\n",
        "*   **Manipulating paths:** Functions like `os.path.join()`, `os.path.exists()`, `os.path.isdir()`, `os.path.isfile()`.\n",
        "*   **Working with directories:** Functions like `os.mkdir()`, `os.rmdir()`, `os.listdir()`, `os.chdir()`.\n",
        "*   **Renaming and deleting files:** Functions like `os.rename()`, `os.remove()`, `os.unlink()`.\n",
        "*   **Getting file information:** Functions like `os.stat()`.\n",
        "\n",
        "While you use the built-in `open()` function to open and read/write to files, the `os` module provides essential tools for managing the file system itself."
      ]
    },
    {
      "cell_type": "markdown",
      "metadata": {
        "id": "b52d7c84"
      },
      "source": [
        "# Question 23: What are the challenges associated with memory management in Python?\n",
        "\n",
        "Despite Python's automatic memory management, there can still be challenges:\n",
        "\n",
        "*   **Memory Leaks (due to circular references):** While the cyclic garbage collector helps, complex circular references can sometimes be missed, leading to memory leaks.\n",
        "*   **Unpredictable Garbage Collection Timing:** The exact timing of when the garbage collector runs is not deterministic, which can make it difficult to debug memory-related issues.\n",
        "*   **High Memory Usage:** Python objects can have some memory overhead. For memory-intensive applications, you might need to consider data structures and algorithms that are more memory-efficient or use libraries designed for large-scale data.\n",
        "*   **Understanding Reference Counting:** While mostly automatic, understanding reference counting can be helpful for optimizing code and avoiding unintentional object retention.\n",
        "*   **Third-party Libraries:** Issues in C extensions or third-party libraries can sometimes lead to memory problems that are harder to diagnose within the Python layer."
      ]
    },
    {
      "cell_type": "markdown",
      "metadata": {
        "id": "11f9c80f"
      },
      "source": [
        "\n",
        "# Question 24: How do you raise an exception manually in Python?\n",
        "\n",
        "You can raise an exception manually in Python using the `raise` statement. You can raise an instance of an exception class or an exception class itself."
      ]
    },
    {
      "cell_type": "markdown",
      "metadata": {
        "id": "9bbe36c8"
      },
      "source": [
        "#Question 25: Why is it important to use multithreading in certain applications?\n",
        "\n",
        "Multithreading is important in certain applications, particularly **I/O-bound applications**, because it allows the program to remain responsive while waiting for slow input/output operations to complete.\n",
        "\n",
        "In an I/O-bound task (like reading from a file, making a network request, or interacting with a database), the program spends a significant amount of time waiting for external resources. Without multithreading, the entire program would be blocked during these waiting periods. With multithreading, while one thread is waiting for an I/O operation, other threads can execute other parts of the program, making the application appear faster and more responsive to the user.\n",
        "\n",
        "Examples of applications where multithreading is beneficial include:\n",
        "\n",
        "*   Web servers handling multiple client requests concurrently.\n",
        "*   GUI applications that need to perform background tasks without freezing the user interface.\n",
        "*   Applications that download multiple files simultaneously.\n",
        "\n",
        "It's important to remember that due to the GIL in CPython, multithreading does not provide true parallelism for CPU-bound tasks. For those, multiprocessing is a better choice."
      ]
    },
    {
      "cell_type": "code",
      "execution_count": 10,
      "metadata": {
        "id": "dpHLVIi_2lGJ",
        "colab": {
          "base_uri": "https://localhost:8080/"
        },
        "outputId": "5567eddd-bb06-43c5-cdd1-8e54d07cc9e9"
      },
      "outputs": [
        {
          "output_type": "stream",
          "name": "stdout",
          "text": [
            "Object `it` not found.\n",
            "String written to my_output_file.txt\n"
          ]
        }
      ],
      "source": [
        " How can you open a file for writing in Python and write a string to it?\n",
        "# Use 'w' mode for writing. If the file exists, it will be overwritten.\n",
        "try:\n",
        "  with open(\"my_output_file.txt\", \"w\") as file:\n",
        "    file.write(\"Hello, this is a test string.\")\n",
        "  print(\"String written to my_output_file.txt\")\n",
        "except IOError as e:\n",
        "  print(f\"Error writing to file: {e}\")"
      ]
    },
    {
      "cell_type": "code",
      "execution_count": 11,
      "metadata": {
        "colab": {
          "base_uri": "https://localhost:8080/"
        },
        "id": "2SRubcQw68Ip",
        "outputId": "52a4e4f7-bb8e-478e-afbb-73f83a76e34f"
      },
      "outputs": [
        {
          "output_type": "stream",
          "name": "stdout",
          "text": [
            "Hello, this is a test string.\n",
            "Contents of my_output_file.txt printed.\n"
          ]
        }
      ],
      "source": [
        "# Write a Python program to read the contents of a file and print each line.\n",
        "# Use 'r' mode for reading.\n",
        "try:\n",
        "  with open(\"my_output_file.txt\", \"r\") as file:\n",
        "    for line in file:\n",
        "      print(line, end='') # end='' prevents extra newline\n",
        "  print(\"\\nContents of my_output_file.txt printed.\")\n",
        "except FileNotFoundError:\n",
        "  print(\"Error: my_output_file.txt not found.\")\n",
        "except IOError as e:\n",
        "  print(f\"Error reading file: {e}\")"
      ]
    },
    {
      "cell_type": "code",
      "execution_count": 12,
      "metadata": {
        "colab": {
          "base_uri": "https://localhost:8080/"
        },
        "id": "vdvtqgaF68Iq",
        "outputId": "a936f18c-abc8-4670-e75d-bda724060553"
      },
      "outputs": [
        {
          "output_type": "stream",
          "name": "stdout",
          "text": [
            "Error: The file 'non_existent_file.txt' does not exist.\n"
          ]
        }
      ],
      "source": [
        "# How would you handle a case where the file doesn't exist while trying to open it for reading?\n",
        "# Use a try-except block to catch FileNotFoundError.\n",
        "try:\n",
        "  with open(\"non_existent_file.txt\", \"r\") as file:\n",
        "    content = file.read()\n",
        "    print(content)\n",
        "except FileNotFoundError:\n",
        "  print(\"Error: The file 'non_existent_file.txt' does not exist.\")\n",
        "except IOError as e:\n",
        "  print(f\"Error reading file: {e}\")"
      ]
    },
    {
      "cell_type": "code",
      "execution_count": 13,
      "metadata": {
        "colab": {
          "base_uri": "https://localhost:8080/"
        },
        "id": "RxbzJm-368Ir",
        "outputId": "591337b9-a230-4d94-c75f-43584a0b8a9b"
      },
      "outputs": [
        {
          "output_type": "stream",
          "name": "stdout",
          "text": [
            "Content copied from source_file.txt to destination_file.txt\n"
          ]
        }
      ],
      "source": [
        "# Write a Python script that reads from one file and writes its content to another file.\n",
        "# Create a source file first for demonstration\n",
        "try:\n",
        "  with open(\"source_file.txt\", \"w\") as f:\n",
        "    f.write(\"This is the content of the source file.\\n\")\n",
        "    f.write(\"This is the second line.\")\n",
        "except IOError as e:\n",
        "  print(f\"Error creating source_file.txt: {e}\")\n",
        "\n",
        "try:\n",
        "  with open(\"source_file.txt\", \"r\") as source:\n",
        "    with open(\"destination_file.txt\", \"w\") as destination:\n",
        "      content = source.read()\n",
        "      destination.write(content)\n",
        "  print(\"Content copied from source_file.txt to destination_file.txt\")\n",
        "except FileNotFoundError:\n",
        "  print(\"Error: source_file.txt not found.\")\n",
        "except IOError as e:\n",
        "  print(f\"Error during file copy: {e}\")"
      ]
    },
    {
      "cell_type": "code",
      "execution_count": 14,
      "metadata": {
        "colab": {
          "base_uri": "https://localhost:8080/"
        },
        "id": "1ltn_bV_68Ir",
        "outputId": "1b601323-04bb-4901-9f87-0f8700526808"
      },
      "outputs": [
        {
          "output_type": "stream",
          "name": "stdout",
          "text": [
            "Error: Attempted to divide by zero!\n"
          ]
        }
      ],
      "source": [
        "# How would you catch and handle a division by zero error in Python?\n",
        "# Use a try-except block for ZeroDivisionError.\n",
        "try:\n",
        "  numerator = 10\n",
        "  denominator = 0\n",
        "  result = numerator / denominator\n",
        "  print(result)\n",
        "except ZeroDivisionError:\n",
        "  print(\"Error: Attempted to divide by zero!\")"
      ]
    },
    {
      "cell_type": "code",
      "execution_count": 15,
      "metadata": {
        "colab": {
          "base_uri": "https://localhost:8080/"
        },
        "id": "ZE862rAF68Ir",
        "outputId": "b7f7315d-6c30-48c2-a1b7-42182056021e"
      },
      "outputs": [
        {
          "output_type": "stream",
          "name": "stderr",
          "text": [
            "ERROR:root:A ZeroDivisionError occurred.\n"
          ]
        },
        {
          "output_type": "stream",
          "name": "stdout",
          "text": [
            "An error occurred and has been logged.\n"
          ]
        }
      ],
      "source": [
        "# Write a Python program that logs an error message to a log file when a division by zero exception occurs.\n",
        "import logging\n",
        "\n",
        "# Configure logging to a file\n",
        "logging.basicConfig(filename='app_error.log', level=logging.ERROR,\n",
        "                    format='%(asctime)s:%(levelname)s:%(message)s')\n",
        "\n",
        "try:\n",
        "  numerator = 10\n",
        "  denominator = 0\n",
        "  result = numerator / denominator\n",
        "  print(result)\n",
        "except ZeroDivisionError:\n",
        "  logging.error(\"A ZeroDivisionError occurred.\")\n",
        "  print(\"An error occurred and has been logged.\")"
      ]
    },
    {
      "cell_type": "code",
      "execution_count": 16,
      "metadata": {
        "colab": {
          "base_uri": "https://localhost:8080/"
        },
        "id": "hsWdmMBC68I0",
        "outputId": "426d6d0a-33f1-49a1-9268-79dcbecf8b20"
      },
      "outputs": [
        {
          "output_type": "stream",
          "name": "stderr",
          "text": [
            "WARNING:root:This is a warning message.\n",
            "ERROR:root:This is an error message.\n",
            "CRITICAL:root:This is a critical message.\n"
          ]
        }
      ],
      "source": [
        "# How do you log information at different levels (INFO, ERROR, WARNING) in Python using the logging module?\n",
        "import logging\n",
        "\n",
        "# Configure logging (e.g., to console)\n",
        "logging.basicConfig(level=logging.DEBUG,\n",
        "                    format='%(asctime)s - %(name)s - %(levelname)s - %(message)s')\n",
        "\n",
        "logging.debug(\"This is a debug message.\")\n",
        "logging.info(\"This is an info message.\")\n",
        "logging.warning(\"This is a warning message.\")\n",
        "logging.error(\"This is an error message.\")\n",
        "logging.critical(\"This is a critical message.\")"
      ]
    },
    {
      "cell_type": "code",
      "execution_count": 17,
      "metadata": {
        "colab": {
          "base_uri": "https://localhost:8080/"
        },
        "id": "xrfK68OR68I1",
        "outputId": "304f8dd4-50ac-419b-d20e-c17c6aae2ecb"
      },
      "outputs": [
        {
          "output_type": "stream",
          "name": "stdout",
          "text": [
            "Error: The file 'non_existent_file.txt' does not exist.\n"
          ]
        }
      ],
      "source": [
        "# Write a program to handle a file opening error using exception handling.\n",
        "\n",
        "# Use a try-except block to catch FileNotFoundError.\n",
        "try:\n",
        "  with open(\"non_existent_file.txt\", \"r\") as file:\n",
        "    content = file.read()\n",
        "    print(content)\n",
        "except FileNotFoundError:\n",
        "  print(\"Error: The file 'non_existent_file.txt' does not exist.\")\n",
        "except IOError as e:\n",
        "  print(f\"Error reading file: {e}\")"
      ]
    },
    {
      "cell_type": "code",
      "execution_count": 18,
      "metadata": {
        "colab": {
          "base_uri": "https://localhost:8080/"
        },
        "id": "eMUSUXYI68I1",
        "outputId": "be2cd90b-6e66-4625-aad2-6e0733ddc9e3"
      },
      "outputs": [
        {
          "output_type": "stream",
          "name": "stdout",
          "text": [
            "File content stored in a list: ['This is the content of the source file.', 'This is the second line.']\n"
          ]
        }
      ],
      "source": [
        "# How can you read a file line by line and store its content in a list in Python?\n",
        "try:\n",
        "  lines = []\n",
        "  with open(\"source_file.txt\", \"r\") as file:\n",
        "    for line in file:\n",
        "      lines.append(line.strip()) # .strip() removes leading/trailing whitespace including newline\n",
        "  print(\"File content stored in a list:\", lines)\n",
        "except FileNotFoundError:\n",
        "  print(\"Error: source_file.txt not found.\")\n",
        "except IOError as e:\n",
        "  print(f\"Error reading file line by line: {e}\")"
      ]
    },
    {
      "cell_type": "code",
      "execution_count": 19,
      "metadata": {
        "colab": {
          "base_uri": "https://localhost:8080/"
        },
        "id": "OysmVZLE68I2",
        "outputId": "c99f1af4-9e66-40c8-aafe-e1747862eaab"
      },
      "outputs": [
        {
          "output_type": "stream",
          "name": "stdout",
          "text": [
            "Data appended to my_output_file.txt\n"
          ]
        }
      ],
      "source": [
        "# How can you append data to an existing file in Python?\n",
        "# Use 'a' mode for appending. If the file doesn't exist, it will be created.\n",
        "try:\n",
        "  with open(\"my_output_file.txt\", \"a\") as file:\n",
        "    file.write(\"\\nThis line is appended.\")\n",
        "  print(\"Data appended to my_output_file.txt\")\n",
        "except IOError as e:\n",
        "  print(f\"Error appending to file: {e}\")"
      ]
    },
    {
      "cell_type": "code",
      "execution_count": 20,
      "metadata": {
        "colab": {
          "base_uri": "https://localhost:8080/"
        },
        "id": "F7jowkuf68I3",
        "outputId": "9476ff65-a8f5-4ab4-85e4-2e1d31794154"
      },
      "outputs": [
        {
          "output_type": "stream",
          "name": "stdout",
          "text": [
            "Error: The specified dictionary key does not exist.\n"
          ]
        }
      ],
      "source": [
        "# Write a Python program that uses a try-except block to handle an error when attempting to access a dictionary key that doesn't exist.\n",
        "my_dict = {\"name\": \"Alice\", \"age\": 30}\n",
        "\n",
        "try:\n",
        "  print(my_dict[\"city\"])\n",
        "except KeyError:\n",
        "  print(\"Error: The specified dictionary key does not exist.\")"
      ]
    },
    {
      "cell_type": "code",
      "execution_count": 21,
      "metadata": {
        "colab": {
          "base_uri": "https://localhost:8080/"
        },
        "id": "rWoMtI_n68I4",
        "outputId": "6175ff4f-ce5d-427e-d21f-1e1f39015320"
      },
      "outputs": [
        {
          "output_type": "stream",
          "name": "stdout",
          "text": [
            "Enter first number: 1\n",
            "Enter second number: 2\n",
            "Error: List index out of range.\n"
          ]
        }
      ],
      "source": [
        "# Write a program that demonstrates using multiple except blocks to handle different types of exceptions.\n",
        "try:\n",
        "  num1 = int(input(\"Enter first number: \"))\n",
        "  num2 = int(input(\"Enter second number: \"))\n",
        "  result = num1 / num2\n",
        "  data_list = [1, 2]\n",
        "  print(data_list[5]) # This will cause an IndexError\n",
        "  print(\"Result:\", result)\n",
        "except ValueError:\n",
        "  print(\"Error: Invalid input. Please enter numbers.\")\n",
        "except ZeroDivisionError:\n",
        "  print(\"Error: Cannot divide by zero.\")\n",
        "except IndexError:\n",
        "  print(\"Error: List index out of range.\")\n",
        "except Exception as e: # Catch any other unexpected exceptions\n",
        "  print(f\"An unexpected error occurred: {e}\")"
      ]
    },
    {
      "cell_type": "code",
      "execution_count": 22,
      "metadata": {
        "colab": {
          "base_uri": "https://localhost:8080/"
        },
        "id": "uobbk0_d68I5",
        "outputId": "4263c59c-362e-49ec-8cb2-a2c4468bd61c"
      },
      "outputs": [
        {
          "output_type": "stream",
          "name": "stdout",
          "text": [
            "The file 'possible_file.txt' does not exist.\n"
          ]
        }
      ],
      "source": [
        "# How would you check if a file exists before attempting to read it in Python?\n",
        "import os\n",
        "\n",
        "filename = \"possible_file.txt\"\n",
        "\n",
        "if os.path.exists(filename):\n",
        "  print(f\"The file '{filename}' exists.\")\n",
        "  try:\n",
        "    with open(filename, \"r\") as file:\n",
        "      content = file.read()\n",
        "      print(\"Content:\", content)\n",
        "  except IOError as e:\n",
        "    print(f\"Error reading file: {e}\")\n",
        "else:\n",
        "  print(f\"The file '{filename}' does not exist.\")"
      ]
    },
    {
      "cell_type": "code",
      "execution_count": 23,
      "metadata": {
        "colab": {
          "base_uri": "https://localhost:8080/"
        },
        "id": "1Hm-oEdZ68I5",
        "outputId": "e5e8bdfc-20f7-4f5f-f1d3-864bf1d11ef4"
      },
      "outputs": [
        {
          "output_type": "stream",
          "name": "stderr",
          "text": [
            "ERROR:root:Division by zero attempted.\n"
          ]
        }
      ],
      "source": [
        "# Write a program that uses the logging module to log both informational and error messages.\n",
        "import logging\n",
        "\n",
        "# Configure logging to console and file\n",
        "logging.basicConfig(level=logging.INFO,\n",
        "                    format='%(asctime)s - %(levelname)s - %(message)s')\n",
        "\n",
        "# Add a file handler for errors\n",
        "file_handler = logging.FileHandler('app_info_error.log')\n",
        "file_handler.setLevel(logging.ERROR) # Only log errors and critical to file\n",
        "file_handler.setFormatter(logging.Formatter('%(asctime)s - %(levelname)s - %(message)s'))\n",
        "\n",
        "# Get the root logger and add the file handler\n",
        "logger = logging.getLogger('')\n",
        "logger.addHandler(file_handler)\n",
        "\n",
        "logging.info(\"Program started.\")\n",
        "\n",
        "try:\n",
        "  result = 10 / 0\n",
        "except ZeroDivisionError:\n",
        "  logging.error(\"Division by zero attempted.\")\n",
        "\n",
        "logging.info(\"Program finished.\")"
      ]
    },
    {
      "cell_type": "code",
      "execution_count": 24,
      "metadata": {
        "colab": {
          "base_uri": "https://localhost:8080/"
        },
        "id": "FUKKoYKP68I6",
        "outputId": "89c928cf-dbb6-46c0-cd30-7873bf792496"
      },
      "outputs": [
        {
          "output_type": "stream",
          "name": "stdout",
          "text": [
            "The file 'empty_file.txt' is empty.\n"
          ]
        }
      ],
      "source": [
        "# Write a Python program that prints the content of a file and handles the case when the file is empty.\n",
        "try:\n",
        "  # Create an empty file for testing\n",
        "  with open(\"empty_file.txt\", \"w\") as f:\n",
        "    pass # Creates an empty file\n",
        "\n",
        "  with open(\"empty_file.txt\", \"r\") as file:\n",
        "    content = file.read()\n",
        "    if not content: # Check if content is empty\n",
        "      print(\"The file 'empty_file.txt' is empty.\")\n",
        "    else:\n",
        "      print(\"File content:\")\n",
        "      print(content)\n",
        "except FileNotFoundError:\n",
        "  print(\"Error: empty_file.txt not found.\")\n",
        "except IOError as e:\n",
        "  print(f\"Error reading file: {e}\")"
      ]
    },
    {
      "cell_type": "code",
      "execution_count": 27,
      "metadata": {
        "colab": {
          "base_uri": "https://localhost:8080/"
        },
        "id": "ZEUxKqiR68I7",
        "outputId": "5e781302-f86f-4764-9d95-3830b650db92"
      },
      "outputs": [
        {
          "output_type": "stream",
          "name": "stdout",
          "text": [
            "Requirement already satisfied: memory_profiler in /usr/local/lib/python3.11/dist-packages (0.61.0)\n",
            "Requirement already satisfied: psutil in /usr/local/lib/python3.11/dist-packages (from memory_profiler) (5.9.5)\n"
          ]
        },
        {
          "output_type": "stream",
          "name": "stderr",
          "text": [
            "\n",
            "PYDEV DEBUGGER WARNING:\n",
            "sys.settrace() should not be used when the debugger is being used.\n",
            "This may cause the debugger to stop working correctly.\n",
            "If this is needed, please check: \n",
            "http://pydev.blogspot.com/2007/06/why-cant-pydev-debugger-work-with.html\n",
            "to see how to restore the debug tracing back correctly.\n",
            "Call Location:\n",
            "  File \"/usr/local/lib/python3.11/dist-packages/memory_profiler.py\", line 847, in enable\n",
            "    sys.settrace(self.trace_memory_usage)\n",
            "\n",
            "\n",
            "PYDEV DEBUGGER WARNING:\n",
            "sys.settrace() should not be used when the debugger is being used.\n",
            "This may cause the debugger to stop working correctly.\n",
            "If this is needed, please check: \n",
            "http://pydev.blogspot.com/2007/06/why-cant-pydev-debugger-work-with.html\n",
            "to see how to restore the debug tracing back correctly.\n",
            "Call Location:\n",
            "  File \"/usr/local/lib/python3.11/dist-packages/memory_profiler.py\", line 850, in disable\n",
            "    sys.settrace(self._original_trace_function)\n",
            "\n"
          ]
        },
        {
          "output_type": "stream",
          "name": "stdout",
          "text": [
            "The memory_profiler extension is already loaded. To reload it, use:\n",
            "  %reload_ext memory_profiler\n",
            "ERROR: Could not find file /tmp/ipython-input-27-1231634385.py\n"
          ]
        }
      ],
      "source": [
        "# Demonstrate how to use memory profiling to check the memory usage of a small program.\n",
        "# This requires installing a library like 'memory_profiler'\n",
        "!pip install memory_profiler\n",
        "%load_ext memory_profiler\n",
        "\n",
        "from memory_profiler import profile\n",
        "\n",
        "@profile\n",
        "def my_function():\n",
        "  a = [i for i in range(100000)]\n",
        "  b = [i for i in range(200000)]\n",
        "  return a, b\n",
        "\n",
        "# Run the profiled function\n",
        "a, b = my_function()"
      ]
    },
    {
      "cell_type": "code",
      "execution_count": 28,
      "metadata": {
        "colab": {
          "base_uri": "https://localhost:8080/"
        },
        "id": "jE4V6Ztk68I8",
        "outputId": "acfe8d1b-dbc9-4c21-c92c-17401f4c4297"
      },
      "outputs": [
        {
          "output_type": "stream",
          "name": "stdout",
          "text": [
            "Numbers written to numbers.txt\n"
          ]
        }
      ],
      "source": [
        "# Write a Python program to create and write a list of numbers to a file, one number per line.\n",
        "numbers = [1, 2, 3, 4, 5, 6, 7, 8, 9, 10]\n",
        "\n",
        "try:\n",
        "  with open(\"numbers.txt\", \"w\") as file:\n",
        "    for number in numbers:\n",
        "      file.write(str(number) + \"\\n\")\n",
        "  print(\"Numbers written to numbers.txt\")\n",
        "except IOError as e:\n",
        "  print(f\"Error writing numbers to file: {e}\")"
      ]
    },
    {
      "cell_type": "code",
      "execution_count": 30,
      "metadata": {
        "colab": {
          "base_uri": "https://localhost:8080/"
        },
        "id": "mXNGlHi868I8",
        "outputId": "47cb42fb-d78e-48ea-c426-d285232403d7"
      },
      "outputs": [
        {
          "output_type": "stream",
          "name": "stderr",
          "text": [
            "INFO:rotated_logger:This is the first log message.\n"
          ]
        }
      ],
      "source": [
        "# How would you implement a basic logging setup that logs to a file with rotation after 1MB?\n",
        "import logging\n",
        "from logging.handlers import RotatingFileHandler\n",
        "\n",
        "log_file = 'rotated_app.log'\n",
        "max_bytes = 1024 * 1024 # 1 MB\n",
        "backup_count = 3 # Keep up to 3 backup files\n",
        "\n",
        "# Create logger\n",
        "logger = logging.getLogger('rotated_logger')\n",
        "logger.setLevel(logging.INFO)\n",
        "\n",
        "# Create rotating file handler\n",
        "handler = RotatingFileHandler(log_file, maxBytes=max_bytes, backupCount=backup_count)\n",
        "\n",
        "# Create formatter\n",
        "formatter = logging.Formatter('%(asctime)s - %(name)s - %(levelname)s - %(message)s')\n",
        "handler.setFormatter(formatter)\n",
        "\n",
        "# Add handler to logger\n",
        "logger.addHandler(handler)\n",
        "\n",
        "# Example logging\n",
        "logger.info(\"This is the first log message.\")\n",
        "# To test rotation, you would need to write enough messages to exceed 1MB"
      ]
    },
    {
      "cell_type": "code",
      "execution_count": 31,
      "metadata": {
        "colab": {
          "base_uri": "https://localhost:8080/"
        },
        "id": "v_IgwV_m68I8",
        "outputId": "a7b5a612-916f-45ed-c507-7cf6d2fd6b44"
      },
      "outputs": [
        {
          "output_type": "stream",
          "name": "stdout",
          "text": [
            "Caught either an IndexError or a KeyError.\n"
          ]
        }
      ],
      "source": [
        "# Write a program that handles both IndexError and KeyError using a try-except block.\n",
        "data_list = [1, 2, 3]\n",
        "my_dict = {\"a\": 1, \"b\": 2}\n",
        "\n",
        "try:\n",
        "  # Attempt to access an invalid index\n",
        "  print(data_list[5])\n",
        "  # Attempt to access a non-existent dictionary key (this won't be reached if IndexError occurs first)\n",
        "  print(my_dict[\"c\"])\n",
        "except (IndexError, KeyError):\n",
        "  print(\"Caught either an IndexError or a KeyError.\")\n",
        "except Exception as e:\n",
        "    print(f\"An unexpected error occurred: {e}\")"
      ]
    },
    {
      "cell_type": "code",
      "execution_count": 32,
      "metadata": {
        "colab": {
          "base_uri": "https://localhost:8080/"
        },
        "id": "3xwJY_bB68I9",
        "outputId": "e1e5e59d-e8a1-45b1-be3a-a671e2c20d4a"
      },
      "outputs": [
        {
          "output_type": "stream",
          "name": "stdout",
          "text": [
            "Content read using context manager:\n",
            " Hello, this is a test string.\n",
            "This line is appended.\n"
          ]
        }
      ],
      "source": [
        "# How would you open a file and read its contents using a context manager in Python?\n",
        "# This is the recommended way and was shown in previous examples.\n",
        "try:\n",
        "  with open(\"my_output_file.txt\", \"r\") as file:\n",
        "    content = file.read()\n",
        "    print(\"Content read using context manager:\\n\", content)\n",
        "except FileNotFoundError:\n",
        "  print(\"Error: my_output_file.txt not found.\")\n",
        "except IOError as e:\n",
        "  print(f\"Error reading file: {e}\")"
      ]
    },
    {
      "cell_type": "code",
      "execution_count": 33,
      "metadata": {
        "colab": {
          "base_uri": "https://localhost:8080/"
        },
        "id": "SK3ngmkU68I9",
        "outputId": "6a01704d-5dee-4496-cee5-758127f549b1"
      },
      "outputs": [
        {
          "output_type": "stream",
          "name": "stdout",
          "text": [
            "The word 'This' appears 2 times in 'my_output_file.txt'.\n"
          ]
        }
      ],
      "source": [
        "# Write a Python program that reads a file and prints the number of occurrences of a specific word.\n",
        "filename = \"my_output_file.txt\"\n",
        "word_to_find = \"This\"\n",
        "count = 0\n",
        "\n",
        "try:\n",
        "  with open(filename, \"r\") as file:\n",
        "    content = file.read()\n",
        "    # Split the content into words and count occurrences (case-insensitive)\n",
        "    words = content.lower().split()\n",
        "    count = words.count(word_to_find.lower())\n",
        "  print(f\"The word '{word_to_find}' appears {count} times in '{filename}'.\")\n",
        "except FileNotFoundError:\n",
        "  print(f\"Error: {filename} not found.\")\n",
        "except IOError as e:\n",
        "  print(f\"Error reading file: {e}\")"
      ]
    },
    {
      "cell_type": "code",
      "execution_count": 34,
      "metadata": {
        "colab": {
          "base_uri": "https://localhost:8080/"
        },
        "id": "MD4kmVji68I-",
        "outputId": "ebe87da2-88a0-4ffb-eb57-59f904c311ad"
      },
      "outputs": [
        {
          "output_type": "stream",
          "name": "stdout",
          "text": [
            "The file 'empty_file.txt' is empty.\n"
          ]
        }
      ],
      "source": [
        "# How can you check if a file is empty before attempting to read its contents?\n",
        "import os\n",
        "\n",
        "filename = \"empty_file.txt\" # Use the empty file created earlier\n",
        "\n",
        "if os.path.exists(filename):\n",
        "  if os.path.getsize(filename) == 0:\n",
        "    print(f\"The file '{filename}' is empty.\")\n",
        "  else:\n",
        "    print(f\"The file '{filename}' is not empty.\")\n",
        "    try:\n",
        "        with open(filename, \"r\") as file:\n",
        "            content = file.read()\n",
        "            print(\"Content:\\n\", content)\n",
        "    except IOError as e:\n",
        "        print(f\"Error reading non-empty file: {e}\")\n",
        "else:\n",
        "  print(f\"The file '{filename}' does not exist.\")"
      ]
    },
    {
      "cell_type": "code",
      "execution_count": 36,
      "metadata": {
        "colab": {
          "base_uri": "https://localhost:8080/"
        },
        "id": "Q3dhjdq968I-",
        "outputId": "53726cbd-0f3e-46d3-bd1d-1aa087db6975"
      },
      "outputs": [
        {
          "output_type": "stream",
          "name": "stderr",
          "text": [
            "ERROR:root:Attempted to open a non-existent file.\n"
          ]
        },
        {
          "output_type": "stream",
          "name": "stdout",
          "text": [
            "A file not found error occurred and has been logged.\n"
          ]
        }
      ],
      "source": [
        "# Write a Python program that writes to a log file when an error occurs during file handling.\n",
        "import logging\n",
        "\n",
        "# Configure logging to a file\n",
        "logging.basicConfig(filename='file_error.log', level=logging.ERROR,\n",
        "                    format='%(asctime)s:%(levelname)s:%(message)s')\n",
        "\n",
        "try:\n",
        "  with open(\"non_existent_file_for_logging.txt\", \"r\") as file:\n",
        "    content = file.read()\n",
        "    print(content)\n",
        "except FileNotFoundError:\n",
        "  logging.error(\"Attempted to open a non-existent file.\")\n",
        "  print(\"A file not found error occurred and has been logged.\")\n",
        "except IOError as e:\n",
        "  logging.error(f\"An IOError occurred during file handling: {e}\")\n",
        "  print(f\"An IOError occurred and has been logged: {e}\")"
      ]
    },
    {
      "cell_type": "code",
      "execution_count": 37,
      "metadata": {
        "id": "9EzBILdB3DyY",
        "colab": {
          "base_uri": "https://localhost:8080/"
        },
        "outputId": "51822c14-3cdb-4f31-d5bf-2c313e195fae"
      },
      "outputs": [
        {
          "output_type": "stream",
          "name": "stdout",
          "text": [
            "The file 'your_file.txt' does not exist.\n"
          ]
        }
      ],
      "source": [
        "# Write a Python program that writes to a log file when an error occurs during file handling.\n",
        "\n",
        "filename = \"your_file.txt\" # Replace with the actual filename\n",
        "\n",
        "if os.path.exists(filename):\n",
        "  if os.path.getsize(filename) == 0:\n",
        "    print(f\"The file '{filename}' is empty.\")\n",
        "  else:\n",
        "    print(f\"The file '{filename}' is not empty.\")\n",
        "    try:\n",
        "        with open(filename, \"r\") as file:\n",
        "            content = file.read()\n",
        "            print(\"Content:\\n\", content)\n",
        "    except IOError as e:\n",
        "        print(f\"Error reading non-empty file: {e}\")\n",
        "else:\n",
        "  print(f\"The file '{filename}' does not exist.\")"
      ]
    },
    {
      "cell_type": "code",
      "execution_count": 39,
      "metadata": {
        "colab": {
          "base_uri": "https://localhost:8080/"
        },
        "id": "uEGMUqfT68I_",
        "outputId": "9a80b916-e310-470b-ac2d-88e620c57d76"
      },
      "outputs": [
        {
          "output_type": "stream",
          "name": "stderr",
          "text": [
            "ERROR:root:Attempted to open a non-existent file.\n"
          ]
        },
        {
          "output_type": "stream",
          "name": "stdout",
          "text": [
            "A file not found error occurred and has been logged.\n"
          ]
        }
      ],
      "source": [
        "# Write a Python program that writes to a log file when an error occurs during file handling.\n",
        "\n",
        "# Configure logging to a file\n",
        "logging.basicConfig(filename='file_error.log', level=logging.ERROR,\n",
        "                    format='%(asctime)s:%(levelname)s:%(message)s')\n",
        "\n",
        "try:\n",
        "  with open(\"non_existent_file_for_logging.txt\", \"r\") as file:\n",
        "    content = file.read()\n",
        "    print(content)\n",
        "except FileNotFoundError:\n",
        "  logging.error(\"Attempted to open a non-existent file.\")\n",
        "  print(\"A file not found error occurred and has been logged.\")\n",
        "except IOError as e:\n",
        "  logging.error(f\"An IOError occurred during file handling: {e}\")\n",
        "  print(f\"An IOError occurred and has been logged: {e}\")"
      ]
    },
    {
      "cell_type": "code",
      "source": [],
      "metadata": {
        "id": "9qe7S9Si7vge"
      },
      "execution_count": null,
      "outputs": []
    }
  ],
  "metadata": {
    "colab": {
      "provenance": [],
      "toc_visible": true
    },
    "kernelspec": {
      "display_name": "Python 3 (ipykernel)",
      "language": "python",
      "name": "python3"
    },
    "language_info": {
      "codemirror_mode": {
        "name": "ipython",
        "version": 3
      },
      "file_extension": ".py",
      "mimetype": "text/x-python",
      "name": "python",
      "nbconvert_exporter": "python",
      "pygments_lexer": "ipython3",
      "version": "3.12.7"
    }
  },
  "nbformat": 4,
  "nbformat_minor": 0
}